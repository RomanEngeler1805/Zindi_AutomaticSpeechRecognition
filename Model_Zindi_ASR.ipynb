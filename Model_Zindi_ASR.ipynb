{
 "cells": [
  {
   "cell_type": "markdown",
   "metadata": {
    "id": "0tX2ASslFsyY"
   },
   "source": [
    "### Setup"
   ]
  },
  {
   "cell_type": "code",
   "execution_count": 1,
   "metadata": {
    "executionInfo": {
     "elapsed": 696,
     "status": "ok",
     "timestamp": 1618342561618,
     "user": {
      "displayName": "Roman Engeler",
      "photoUrl": "",
      "userId": "01825020783678319162"
     },
     "user_tz": -120
    },
    "id": "L4L6IjqO2teU"
   },
   "outputs": [],
   "source": [
    "## path\n",
    "path = '/home/andrschl/Documents/projects/Zindi_AutomaticSpeechRecognition/'"
   ]
  },
  {
   "cell_type": "code",
   "execution_count": null,
   "metadata": {},
   "outputs": [],
   "source": []
  },
  {
   "cell_type": "code",
   "execution_count": 2,
   "metadata": {
    "colab": {
     "base_uri": "https://localhost:8080/"
    },
    "executionInfo": {
     "elapsed": 25067,
     "status": "ok",
     "timestamp": 1618342586235,
     "user": {
      "displayName": "Roman Engeler",
      "photoUrl": "",
      "userId": "01825020783678319162"
     },
     "user_tz": -120
    },
    "id": "o8r8lf9CFg0d",
    "outputId": "f872bb4a-aff5-46d4-9efe-a08b69d96552"
   },
   "outputs": [
    {
     "name": "stdout",
     "output_type": "stream",
     "text": [
      "Requirement already satisfied: datasets in /home/andrschl/.virtualenvs/zindi/lib/python3.8/site-packages (1.5.0)\n",
      "Requirement already satisfied: multiprocess in /home/andrschl/.virtualenvs/zindi/lib/python3.8/site-packages (from datasets) (0.70.11.1)\n",
      "Requirement already satisfied: requests>=2.19.0 in /home/andrschl/.virtualenvs/zindi/lib/python3.8/site-packages (from datasets) (2.22.0)\n",
      "Requirement already satisfied: tqdm<4.50.0,>=4.27 in /home/andrschl/.virtualenvs/zindi/lib/python3.8/site-packages (from datasets) (4.49.0)\n",
      "Requirement already satisfied: pyarrow>=0.17.1 in /home/andrschl/.virtualenvs/zindi/lib/python3.8/site-packages (from datasets) (3.0.0)\n",
      "Requirement already satisfied: huggingface-hub<0.1.0 in /home/andrschl/.virtualenvs/zindi/lib/python3.8/site-packages (from datasets) (0.0.7)\n",
      "Requirement already satisfied: xxhash in /home/andrschl/.virtualenvs/zindi/lib/python3.8/site-packages (from datasets) (2.0.0)\n",
      "Requirement already satisfied: pandas in /home/andrschl/.virtualenvs/zindi/lib/python3.8/site-packages (from datasets) (1.2.3)\n",
      "Requirement already satisfied: fsspec in /home/andrschl/.virtualenvs/zindi/lib/python3.8/site-packages (from datasets) (0.8.7)\n",
      "Requirement already satisfied: numpy>=1.17 in /home/andrschl/.virtualenvs/zindi/lib/python3.8/site-packages (from datasets) (1.20.2)\n",
      "Requirement already satisfied: dill in /home/andrschl/.virtualenvs/zindi/lib/python3.8/site-packages (from datasets) (0.3.3)\n",
      "Requirement already satisfied: filelock in /home/andrschl/.virtualenvs/zindi/lib/python3.8/site-packages (from huggingface-hub<0.1.0->datasets) (3.0.12)\n",
      "Requirement already satisfied: python-dateutil>=2.7.3 in /home/andrschl/.virtualenvs/zindi/lib/python3.8/site-packages (from pandas->datasets) (2.8.1)\n",
      "Requirement already satisfied: pytz>=2017.3 in /home/andrschl/.virtualenvs/zindi/lib/python3.8/site-packages (from pandas->datasets) (2021.1)\n",
      "Requirement already satisfied: six>=1.5 in /home/andrschl/.virtualenvs/zindi/lib/python3.8/site-packages (from python-dateutil>=2.7.3->pandas->datasets) (1.14.0)\n",
      "Collecting git+https://github.com/huggingface/transformers\n",
      "  Cloning https://github.com/huggingface/transformers to /tmp/pip-req-build-mjvm3rra\n",
      "  Running command git clone -q https://github.com/huggingface/transformers /tmp/pip-req-build-mjvm3rra\n",
      "  Installing build dependencies ... \u001b[?25ldone\n",
      "\u001b[?25h  Getting requirements to build wheel ... \u001b[?25ldone\n",
      "\u001b[?25h    Preparing wheel metadata ... \u001b[?25ldone\n",
      "\u001b[?25hRequirement already satisfied (use --upgrade to upgrade): transformers==4.6.0.dev0 from git+https://github.com/huggingface/transformers in /home/andrschl/.virtualenvs/zindi/lib/python3.8/site-packages\n",
      "Requirement already satisfied: filelock in /home/andrschl/.virtualenvs/zindi/lib/python3.8/site-packages (from transformers==4.6.0.dev0) (3.0.12)\n",
      "Requirement already satisfied: packaging in /home/andrschl/.virtualenvs/zindi/lib/python3.8/site-packages (from transformers==4.6.0.dev0) (20.3)\n",
      "Requirement already satisfied: sacremoses in /home/andrschl/.virtualenvs/zindi/lib/python3.8/site-packages (from transformers==4.6.0.dev0) (0.0.44)\n",
      "Requirement already satisfied: numpy>=1.17 in /home/andrschl/.virtualenvs/zindi/lib/python3.8/site-packages (from transformers==4.6.0.dev0) (1.20.2)\n",
      "Requirement already satisfied: tqdm>=4.27 in /home/andrschl/.virtualenvs/zindi/lib/python3.8/site-packages (from transformers==4.6.0.dev0) (4.49.0)\n",
      "Requirement already satisfied: regex!=2019.12.17 in /home/andrschl/.virtualenvs/zindi/lib/python3.8/site-packages (from transformers==4.6.0.dev0) (2021.3.17)\n",
      "Requirement already satisfied: requests in /home/andrschl/.virtualenvs/zindi/lib/python3.8/site-packages (from transformers==4.6.0.dev0) (2.22.0)\n",
      "Requirement already satisfied: tokenizers<0.11,>=0.10.1 in /home/andrschl/.virtualenvs/zindi/lib/python3.8/site-packages (from transformers==4.6.0.dev0) (0.10.1)\n",
      "Requirement already satisfied: joblib in /home/andrschl/.virtualenvs/zindi/lib/python3.8/site-packages (from sacremoses->transformers==4.6.0.dev0) (1.0.1)\n",
      "Requirement already satisfied: click in /home/andrschl/.virtualenvs/zindi/lib/python3.8/site-packages (from sacremoses->transformers==4.6.0.dev0) (7.1.2)\n",
      "Requirement already satisfied: six in /home/andrschl/.virtualenvs/zindi/lib/python3.8/site-packages (from sacremoses->transformers==4.6.0.dev0) (1.14.0)\n",
      "Building wheels for collected packages: transformers\n",
      "  Building wheel for transformers (PEP 517) ... \u001b[?25ldone\n",
      "\u001b[?25h  Created wheel for transformers: filename=transformers-4.6.0.dev0-py3-none-any.whl size=2106756 sha256=b97109be5fec8020d4ed65a26061427982cf61453d35c2413870f3093f8dc8aa\n",
      "  Stored in directory: /tmp/pip-ephem-wheel-cache-j0fx2l6x/wheels/42/68/45/c63edff61c292f2dfd4df4ef6522dcbecc603e7af82813c1d7\n",
      "Successfully built transformers\n"
     ]
    }
   ],
   "source": [
    "# installing\n",
    "!pip install datasets\n",
    "!pip install git+https://github.com/huggingface/transformers"
   ]
  },
  {
   "cell_type": "code",
   "execution_count": 3,
   "metadata": {
    "executionInfo": {
     "elapsed": 30421,
     "status": "ok",
     "timestamp": 1618342594061,
     "user": {
      "displayName": "Roman Engeler",
      "photoUrl": "",
      "userId": "01825020783678319162"
     },
     "user_tz": -120
    },
    "id": "0MWzSAyGtTUz"
   },
   "outputs": [],
   "source": [
    "## load packages\n",
    "import matplotlib.pyplot as plt\n",
    "import numpy as np\n",
    "import pandas as pd\n",
    "import random\n",
    "import os.path\n",
    "\n",
    "import torch\n",
    "from torch.utils.data import Dataset, DataLoader\n",
    "from torchvision import transforms, utils\n",
    "from torch.utils.data import random_split\n",
    "\n",
    "import torch.nn as nn\n",
    "import torch.nn.functional as F\n",
    "\n",
    "from transformers import Wav2Vec2ForCTC, Wav2Vec2CTCTokenizer\n",
    "from transformers import Wav2Vec2FeatureExtractor, Wav2Vec2Processor\n",
    "\n",
    "import librosa as lb"
   ]
  },
  {
   "cell_type": "code",
   "execution_count": 6,
   "metadata": {
    "executionInfo": {
     "elapsed": 27919,
     "status": "ok",
     "timestamp": 1618342594062,
     "user": {
      "displayName": "Roman Engeler",
      "photoUrl": "",
      "userId": "01825020783678319162"
     },
     "user_tz": -120
    },
    "id": "ZJ-I6bmCAVkb"
   },
   "outputs": [],
   "source": [
    "# seeding\n",
    "random.seed(10)\n",
    "np.random.seed(10)\n",
    "torch.manual_seed(10)\n",
    "torch.cuda.manual_seed_all(10)"
   ]
  },
  {
   "cell_type": "code",
   "execution_count": 7,
   "metadata": {
    "colab": {
     "base_uri": "https://localhost:8080/"
    },
    "executionInfo": {
     "elapsed": 27612,
     "status": "ok",
     "timestamp": 1618342594062,
     "user": {
      "displayName": "Roman Engeler",
      "photoUrl": "",
      "userId": "01825020783678319162"
     },
     "user_tz": -120
    },
    "id": "xdgqnYQhsr0q",
    "outputId": "021fe01e-0b71-4491-9331-18bbc0ca1bb2"
   },
   "outputs": [
    {
     "data": {
      "text/plain": [
       "True"
      ]
     },
     "execution_count": 7,
     "metadata": {},
     "output_type": "execute_result"
    }
   ],
   "source": [
    "torch.cuda.is_available()"
   ]
  },
  {
   "cell_type": "markdown",
   "metadata": {
    "id": "VgyNy9EcoI5Q"
   },
   "source": [
    "#### Useful links:\n",
    "- https://heartbeat.fritz.ai/the-3-deep-learning-frameworks-for-end-to-end-speech-recognition-that-power-your-devices-37b891ddc380\n",
    "\n",
    "- https://pytorch.org/tutorials/intermediate/seq2seq_translation_tutorial.html"
   ]
  },
  {
   "cell_type": "code",
   "execution_count": null,
   "metadata": {},
   "outputs": [],
   "source": []
  },
  {
   "cell_type": "markdown",
   "metadata": {
    "id": "z32YITNQF71Z"
   },
   "source": [
    "### Data"
   ]
  },
  {
   "cell_type": "markdown",
   "metadata": {
    "id": "s2ErZCkXoBAe"
   },
   "source": [
    "#### Useful links\n",
    "- https://www.openslr.org/12\n",
    "\n",
    "- https://www.machinecurve.com/index.phjp/2021/02/17/easy-speech-recognition-with-machine-learning-and-huggingface-transformers/\n",
    "\n",
    "- audio processing: https://librosa.org/doc/main/generated/librosa.load.html"
   ]
  },
  {
   "cell_type": "markdown",
   "metadata": {
    "id": "DcYcLQlrst_T"
   },
   "source": [
    "#### Data Analysis"
   ]
  },
  {
   "cell_type": "code",
   "execution_count": 8,
   "metadata": {
    "colab": {
     "base_uri": "https://localhost:8080/",
     "height": 303
    },
    "executionInfo": {
     "elapsed": 81862,
     "status": "ok",
     "timestamp": 1618342710917,
     "user": {
      "displayName": "Roman Engeler",
      "photoUrl": "",
      "userId": "01825020783678319162"
     },
     "user_tz": -120
    },
    "id": "lEkMdSzJtm5v",
    "outputId": "ceca3e02-fdff-4dce-b0f1-29d25632c28f"
   },
   "outputs": [
    {
     "name": "stderr",
     "output_type": "stream",
     "text": [
      "/home/andrschl/.virtualenvs/zindi/lib/python3.8/site-packages/librosa/core/audio.py:162: UserWarning: PySoundFile failed. Trying audioread instead.\n",
      "  warnings.warn(\"PySoundFile failed. Trying audioread instead.\")\n"
     ]
    },
    {
     "data": {
      "image/png": "[encoded data removed]",
      "text/plain": [
       "<Figure size 1008x288 with 2 Axes>"
      ]
     },
     "metadata": {
      "needs_background": "light"
     },
     "output_type": "display_data"
    }
   ],
   "source": [
    "# load one recording\n",
    "waveform, rate = lb.load(path + 'data/clips/1a7b4c57ea08555e6c968cbcc8875ecf70b3df42207e9556d71f1fd40b3de915d0bae21d9fe740aa56b32ad7b3dea958168bb3a84d583b3c6d46c5d2a7c5bcbe.mp3', sr = 16000)\n",
    "\n",
    "fig, ax = plt.subplots(ncols=2, figsize=(14, 4))\n",
    "ax[0].plot(waveform)\n",
    "ax[1].specgram(waveform[1000:], Fs=16000, mode='psd', scale='dB')\n",
    "plt.show()"
   ]
  },
  {
   "cell_type": "markdown",
   "metadata": {
    "id": "OvE-BDQMs2v-"
   },
   "source": [
    "#### Data Loader"
   ]
  },
  {
   "cell_type": "code",
   "execution_count": 10,
   "metadata": {
    "colab": {
     "base_uri": "https://localhost:8080/"
    },
    "executionInfo": {
     "elapsed": 1193,
     "status": "ok",
     "timestamp": 1618342712121,
     "user": {
      "displayName": "Roman Engeler",
      "photoUrl": "",
      "userId": "01825020783678319162"
     },
     "user_tz": -120
    },
    "id": "GwTNNiF9tQ3o",
    "outputId": "c980406d-56d4-47c6-a631-e09892a425cd"
   },
   "outputs": [
    {
     "name": "stdout",
     "output_type": "stream",
     "text": [
      "Index(['ID', 'up_votes', 'down_votes', 'age', 'gender', 'transcription'], dtype='object')\n",
      "                                                  ID  up_votes  down_votes  \\\n",
      "0  002e50c29ac2890c7cb3b3d63dcbe512bc6850de206ca8...         2           0   \n",
      "1  0031672b4484f963c8a07babe6f713dd559539d44140e8...         2           0   \n",
      "2  00362ccc6b48d3ea225e12ddf8a06a9d582cccc03b0353...         2           0   \n",
      "3  0042cdb4d4a015cddacc26d88faffdd714b7a27213d2b3...         2           0   \n",
      "4  00439f02fa8f0dade934bdb317199b71662e9396f6bb81...         2           0   \n",
      "\n",
      "        age  gender                  transcription  \n",
      "0       NaN     NaN                        Malicka  \n",
      "1  twenties  female  Ecole Elementaire Pikine Nord  \n",
      "2  twenties    male         Cimetière de Cambérène  \n",
      "3  twenties    male                Tournalou Boune  \n",
      "4  twenties    male             Pharmacie Golf Sud  \n"
     ]
    }
   ],
   "source": [
    "# check out dataframe\n",
    "df = pd.read_csv(path + 'data/ASR_train.csv')\n",
    "print(df.keys())\n",
    "print(df.head(5))"
   ]
  },
  {
   "cell_type": "code",
   "execution_count": 12,
   "metadata": {
    "executionInfo": {
     "elapsed": 1191,
     "status": "ok",
     "timestamp": 1618342712122,
     "user": {
      "displayName": "Roman Engeler",
      "photoUrl": "",
      "userId": "01825020783678319162"
     },
     "user_tz": -120
    },
    "id": "OK-g5O9p8-Ta"
   },
   "outputs": [],
   "source": [
    "# suppress annoying warnings while reading audio files\n",
    "import warnings\n",
    "warnings.filterwarnings('ignore')"
   ]
  },
  {
   "cell_type": "code",
   "execution_count": 13,
   "metadata": {
    "colab": {
     "base_uri": "https://localhost:8080/"
    },
    "executionInfo": {
     "elapsed": 20706,
     "status": "ok",
     "timestamp": 1618342731644,
     "user": {
      "displayName": "Roman Engeler",
      "photoUrl": "",
      "userId": "01825020783678319162"
     },
     "user_tz": -120
    },
    "id": "TsKLxJeNkA0W",
    "outputId": "e6be3ff6-8b43-4108-c510-cabf9aa7ea5f"
   },
   "outputs": [
    {
     "name": "stdout",
     "output_type": "stream",
     "text": [
      "File exist\n"
     ]
    }
   ],
   "source": [
    "## read into memory (small) -> storing takes around 2hrs\n",
    "## IMPORTANT: it's not persisted across sessions (why not?)\n",
    "nsamples = len(df)\n",
    "\n",
    "# check if already existent\n",
    "if os.path.isfile(path + 'data/ASR_train_audio'+str(nsamples)+'.ft'):\n",
    "    print (\"File exist\")\n",
    "    df = pd.read_feather(path + 'data/ASR_train_audio'+str(nsamples)+'.ft')\n",
    "else:\n",
    "    print(\"File does not exist\")\n",
    "\n",
    "    # initialize with list\n",
    "    audio_signals = len(df['ID'])*[[0]]\n",
    "    df['audio_signal'] = audio_signals\n",
    "\n",
    "    # functional but not elegant (nor fast probably)\n",
    "    for k in range(nsamples):\n",
    "      id = df.iloc[k]['ID']\n",
    "      path_data = os.path.join(path + 'data/clips/', id+'.mp3')\n",
    "      waveform, rate = lb.load(path_data, sr=16*1e3)\n",
    "      df.at[k, 'audio_signal'] = waveform\n",
    "\n",
    "      if k % 100 == 0:\n",
    "        print('file '+ str(k))\n",
    "\n",
    "    # store as faster feather format\n",
    "    df[:nsamples].to_feather(path + 'data/ASR_train_audio'+str(nsamples)+'.ft')\n",
    "\n",
    "    #\n",
    "    df = df[:nsamples]"
   ]
  },
  {
   "cell_type": "markdown",
   "metadata": {
    "id": "PY48hWlnFRym"
   },
   "source": [
    "### Model"
   ]
  },
  {
   "cell_type": "markdown",
   "metadata": {
    "id": "YwY0VAaNoZm1"
   },
   "source": [
    "#### XLSR Model Transformers"
   ]
  },
  {
   "cell_type": "markdown",
   "metadata": {
    "id": "ae6OnNDNnrFR"
   },
   "source": [
    "#### Useful links\n",
    "- https://github.com/pytorch/fairseq/tree/master/examples/wav2vec\n",
    "- https://github.com/pytorch/fairseq/issues/3199\n",
    "- https://bleepcoder.com/fairseq/708379224/wav2vec-2-0-inference-pipeline\n",
    "- https://huggingface.co/transformers/training.html\n",
    "- https://huggingface.co/blog/fine-tune-xlsr-wav2vec2 fine-tuning XLSR\n",
    "- https://distill.pub/2017/ctc/ sequence modeling with CTC"
   ]
  },
  {
   "cell_type": "markdown",
   "metadata": {
    "id": "DnjTAZNhxc54"
   },
   "source": [
    "#### Data"
   ]
  },
  {
   "cell_type": "code",
   "execution_count": 14,
   "metadata": {
    "executionInfo": {
     "elapsed": 20706,
     "status": "ok",
     "timestamp": 1618342731647,
     "user": {
      "displayName": "Roman Engeler",
      "photoUrl": "",
      "userId": "01825020783678319162"
     },
     "user_tz": -120
    },
    "id": "mW9srfhnmB3Z"
   },
   "outputs": [],
   "source": [
    "## train valid split\n",
    "from sklearn.model_selection import train_test_split\n",
    "\n",
    "# df_train -> used in optimization\n",
    "# df_valid -> used to evaluate model during optimization\n",
    "# df_valid2 -> independent set for testing\n",
    "df_train, df_valid2 = train_test_split(df, test_size=0.2, random_state=1234)\n",
    "df_train, df_valid = train_test_split(df_train, test_size=0.2, random_state=1234)"
   ]
  },
  {
   "cell_type": "code",
   "execution_count": 15,
   "metadata": {
    "colab": {
     "base_uri": "https://localhost:8080/"
    },
    "executionInfo": {
     "elapsed": 29069,
     "status": "ok",
     "timestamp": 1618342740017,
     "user": {
      "displayName": "Roman Engeler",
      "photoUrl": "",
      "userId": "01825020783678319162"
     },
     "user_tz": -120
    },
    "id": "jXyo7zscBw12",
    "outputId": "1ebcdf08-ea24-4c49-b417-2eb56d9a847c"
   },
   "outputs": [
    {
     "name": "stdout",
     "output_type": "stream",
     "text": [
      "Requirement already satisfied: nlp in /home/andrschl/.virtualenvs/zindi/lib/python3.8/site-packages (0.4.0)\n",
      "Requirement already satisfied: xxhash in /home/andrschl/.virtualenvs/zindi/lib/python3.8/site-packages (from nlp) (2.0.0)\n",
      "Requirement already satisfied: filelock in /home/andrschl/.virtualenvs/zindi/lib/python3.8/site-packages (from nlp) (3.0.12)\n",
      "Requirement already satisfied: requests>=2.19.0 in /home/andrschl/.virtualenvs/zindi/lib/python3.8/site-packages (from nlp) (2.22.0)\n",
      "Requirement already satisfied: pyarrow>=0.16.0 in /home/andrschl/.virtualenvs/zindi/lib/python3.8/site-packages (from nlp) (3.0.0)\n",
      "Requirement already satisfied: dill in /home/andrschl/.virtualenvs/zindi/lib/python3.8/site-packages (from nlp) (0.3.3)\n",
      "Requirement already satisfied: pandas in /home/andrschl/.virtualenvs/zindi/lib/python3.8/site-packages (from nlp) (1.2.3)\n",
      "Requirement already satisfied: numpy in /home/andrschl/.virtualenvs/zindi/lib/python3.8/site-packages (from nlp) (1.20.2)\n",
      "Requirement already satisfied: tqdm>=4.27 in /home/andrschl/.virtualenvs/zindi/lib/python3.8/site-packages (from nlp) (4.49.0)\n",
      "Requirement already satisfied: python-dateutil>=2.7.3 in /home/andrschl/.virtualenvs/zindi/lib/python3.8/site-packages (from pandas->nlp) (2.8.1)\n",
      "Requirement already satisfied: pytz>=2017.3 in /home/andrschl/.virtualenvs/zindi/lib/python3.8/site-packages (from pandas->nlp) (2021.1)\n",
      "Requirement already satisfied: six>=1.5 in /home/andrschl/.virtualenvs/zindi/lib/python3.8/site-packages (from python-dateutil>=2.7.3->pandas->nlp) (1.14.0)\n"
     ]
    }
   ],
   "source": [
    "## dataset library (1-2GB/s data processing)\n",
    "!pip install nlp\n",
    "from nlp import Dataset\n",
    "\n",
    "data_train = Dataset.from_pandas(df_train[['ID', 'transcription', 'audio_signal']])\n",
    "data_valid = Dataset.from_pandas(df_valid[['ID', 'transcription', 'audio_signal']])"
   ]
  },
  {
   "cell_type": "code",
   "execution_count": 16,
   "metadata": {
    "colab": {
     "base_uri": "https://localhost:8080/",
     "height": 115
    },
    "executionInfo": {
     "elapsed": 412213,
     "status": "ok",
     "timestamp": 1618343123168,
     "user": {
      "displayName": "Roman Engeler",
      "photoUrl": "",
      "userId": "01825020783678319162"
     },
     "user_tz": -120
    },
    "id": "kA3HjK71SiGE",
    "outputId": "69b39911-60ec-4555-b414-06aa1adfb642"
   },
   "outputs": [
    {
     "data": {
      "application/vnd.jupyter.widget-view+json": {
       "model_id": "a548e32e81834d61b6a67c911da1d06f",
       "version_major": 2,
       "version_minor": 0
      },
      "text/plain": [
       "HBox(children=(FloatProgress(value=0.0, max=4276.0), HTML(value='')))"
      ]
     },
     "metadata": {},
     "output_type": "display_data"
    },
    {
     "name": "stdout",
     "output_type": "stream",
     "text": [
      "\n"
     ]
    },
    {
     "data": {
      "application/vnd.jupyter.widget-view+json": {
       "model_id": "489045fc257b4a0fa5910fa63783df57",
       "version_major": 2,
       "version_minor": 0
      },
      "text/plain": [
       "HBox(children=(FloatProgress(value=0.0, max=1070.0), HTML(value='')))"
      ]
     },
     "metadata": {},
     "output_type": "display_data"
    },
    {
     "name": "stdout",
     "output_type": "stream",
     "text": [
      "\n"
     ]
    }
   ],
   "source": [
    "## Lower casing (no punctuation included)\n",
    "import re\n",
    "def remove_special_characters(batch):\n",
    "    batch['text'] = batch[\"transcription\"].lower() + ' ' # lower casing + word separator at the end\n",
    "    return batch\n",
    "\n",
    "data_train = data_train.map(remove_special_characters, remove_columns=['transcription'])\n",
    "data_valid = data_valid.map(remove_special_characters, remove_columns=['transcription'])"
   ]
  },
  {
   "cell_type": "code",
   "execution_count": 14,
   "metadata": {
    "colab": {
     "base_uri": "https://localhost:8080/",
     "height": 69
    },
    "executionInfo": {
     "elapsed": 412206,
     "status": "ok",
     "timestamp": 1618343123169,
     "user": {
      "displayName": "Roman Engeler",
      "photoUrl": "",
      "userId": "01825020783678319162"
     },
     "user_tz": -120
    },
    "id": "6fPpGkXeaLU2",
    "outputId": "ef82f7ec-7893-4e42-86f0-3b4a343bdcf0"
   },
   "outputs": [
    {
     "data": {
      "application/vnd.google.colaboratory.intrinsic+json": {
       "type": "string"
      },
      "text/plain": [
       "'\\ndef extract_all_chars(batch):\\n  all_text = \" \".join(batch[\\'text\\'])\\n  vocab = list(set(all_text))\\n  return {\"vocab\": [vocab], \"all_text\": [all_text]}\\n\\nvocab_train = data_train.map(extract_all_chars, batched=True, batch_size=-1, keep_in_memory=True, remove_columns=data_train.column_names)\\nvocab_valid = data_valid.map(extract_all_chars, batched=True, batch_size=-1, keep_in_memory=True, remove_columns=data_train.column_names)\\n'"
      ]
     },
     "execution_count": 14,
     "metadata": {
      "tags": []
     },
     "output_type": "execute_result"
    }
   ],
   "source": [
    "## build vocabulary\n",
    "# Q: exclude {, | -} ?\n",
    "'''\n",
    "def extract_all_chars(batch):\n",
    "  all_text = \" \".join(batch['text'])\n",
    "  vocab = list(set(all_text))\n",
    "  return {\"vocab\": [vocab], \"all_text\": [all_text]}\n",
    "\n",
    "vocab_train = data_train.map(extract_all_chars, batched=True, batch_size=-1, keep_in_memory=True, remove_columns=data_train.column_names)\n",
    "vocab_valid = data_valid.map(extract_all_chars, batched=True, batch_size=-1, keep_in_memory=True, remove_columns=data_train.column_names)\n",
    "'''"
   ]
  },
  {
   "cell_type": "code",
   "execution_count": 15,
   "metadata": {
    "colab": {
     "base_uri": "https://localhost:8080/",
     "height": 69
    },
    "executionInfo": {
     "elapsed": 412199,
     "status": "ok",
     "timestamp": 1618343123170,
     "user": {
      "displayName": "Roman Engeler",
      "photoUrl": "",
      "userId": "01825020783678319162"
     },
     "user_tz": -120
    },
    "id": "nDjwM9BrnR8U",
    "outputId": "1f7284ef-8045-48a3-e2ff-896d749f8350"
   },
   "outputs": [
    {
     "data": {
      "application/vnd.google.colaboratory.intrinsic+json": {
       "type": "string"
      },
      "text/plain": [
       "'\\n## creating vocab dictionary\\nimport json\\nimport os\\n\\n#\\nvocab_list = list(set(vocab_train[\"vocab\"][0]))\\n\\nvocab_dict = {v: k for k, v in enumerate(vocab_list)}\\nprint(vocab_dict)\\n\\n# add unknown token, blank token\\nvocab_dict[\"[UNK]\"] = len(vocab_dict)\\nvocab_dict[\"[PAD]\"] = len(vocab_dict)\\n\\nprint(len(vocab_dict)) # dim required for linear layer\\n\\nvocab_path = os.path.join(path, \"data/vocab.json\")\\nwith open(vocab_path, \\'w\\') as vocab_file:\\n    json.dump(vocab_dict, vocab_file)\\n'"
      ]
     },
     "execution_count": 15,
     "metadata": {
      "tags": []
     },
     "output_type": "execute_result"
    }
   ],
   "source": [
    "'''\n",
    "## creating vocab dictionary\n",
    "import json\n",
    "import os\n",
    "\n",
    "#\n",
    "vocab_list = list(set(vocab_train[\"vocab\"][0]))\n",
    "\n",
    "vocab_dict = {v: k for k, v in enumerate(vocab_list)}\n",
    "print(vocab_dict)\n",
    "\n",
    "# add unknown token, blank token\n",
    "vocab_dict[\"[UNK]\"] = len(vocab_dict)\n",
    "vocab_dict[\"[PAD]\"] = len(vocab_dict)\n",
    "\n",
    "print(len(vocab_dict)) # dim required for linear layer\n",
    "\n",
    "vocab_path = os.path.join(path, \"data/vocab.json\")\n",
    "with open(vocab_path, 'w') as vocab_file:\n",
    "    json.dump(vocab_dict, vocab_file)\n",
    "'''"
   ]
  },
  {
   "cell_type": "markdown",
   "metadata": {
    "id": "3_bayS_wxgW5"
   },
   "source": [
    "#### Pre-Processing"
   ]
  },
  {
   "cell_type": "code",
   "execution_count": 33,
   "metadata": {
    "colab": {
     "base_uri": "https://localhost:8080/",
     "height": 164
    },
    "executionInfo": {
     "elapsed": 413877,
     "status": "ok",
     "timestamp": 1618343124850,
     "user": {
      "displayName": "Roman Engeler",
      "photoUrl": "",
      "userId": "01825020783678319162"
     },
     "user_tz": -120
    },
    "id": "6LwzTo9Zr4hd",
    "outputId": "0efcd9c3-e6b8-4676-be05-45c2e20a2d96"
   },
   "outputs": [],
   "source": [
    "## tokenizer (for output text)\n",
    "# tokenizer = Wav2Vec2CTCTokenizer(vocab_path, unk_token=\"[UNK]\", pad_token=\"[PAD]\", word_delimiter_token=\" \")\n",
    "tokenizer = Wav2Vec2CTCTokenizer.from_pretrained(\"facebook/wav2vec2-large-xlsr-53-french\") # IMPORTANT: before used Wav2VecTokenizer (not CTC)\n",
    "\n",
    "#tokenizer.get_vocab()"
   ]
  },
  {
   "cell_type": "code",
   "execution_count": 34,
   "metadata": {
    "executionInfo": {
     "elapsed": 413876,
     "status": "ok",
     "timestamp": 1618343124851,
     "user": {
      "displayName": "Roman Engeler",
      "photoUrl": "",
      "userId": "01825020783678319162"
     },
     "user_tz": -120
    },
    "id": "IqJJneFwwTjQ"
   },
   "outputs": [],
   "source": [
    "## feature extractor (best guess: for input to cut into windows, normalize etc.)\n",
    "feature_extractor = Wav2Vec2FeatureExtractor(feature_size=1, sampling_rate=16000, padding_value=0.0, do_normalize=True, return_attention_mask=True)\n",
    "\n",
    "## processor (combine tokenizer and feature extractor)\n",
    "processor = Wav2Vec2Processor(feature_extractor=feature_extractor, tokenizer=tokenizer)"
   ]
  },
  {
   "cell_type": "markdown",
   "metadata": {
    "id": "x6aN-8Dgz1hf"
   },
   "source": [
    "#### Preprocess Data"
   ]
  },
  {
   "cell_type": "code",
   "execution_count": 24,
   "metadata": {
    "colab": {
     "base_uri": "https://localhost:8080/"
    },
    "executionInfo": {
     "elapsed": 415410,
     "status": "ok",
     "timestamp": 1618343126392,
     "user": {
      "displayName": "Roman Engeler",
      "photoUrl": "",
      "userId": "01825020783678319162"
     },
     "user_tz": -120
    },
    "id": "LzThAblFzxUh",
    "outputId": "3c45f343-f1b5-4efa-b5a5-3e2f202c7984",
    "tags": []
   },
   "outputs": [],
   "source": [
    "# print(data_train[0]['ID'])\n",
    "# print(data_train[0]['text'])\n",
    "# print(data_train[0]['audio_signal'])"
   ]
  },
  {
   "cell_type": "code",
   "execution_count": 20,
   "metadata": {
    "colab": {
     "base_uri": "https://localhost:8080/",
     "height": 92
    },
    "executionInfo": {
     "elapsed": 415405,
     "status": "ok",
     "timestamp": 1618343126394,
     "user": {
      "displayName": "Roman Engeler",
      "photoUrl": "",
      "userId": "01825020783678319162"
     },
     "user_tz": -120
    },
    "id": "tzqUsR150x80",
    "outputId": "ae20acee-de23-43f1-e2e9-25c043392df9"
   },
   "outputs": [
    {
     "name": "stdout",
     "output_type": "stream",
     "text": [
      "Target text: gendarmerie niague \n"
     ]
    },
    {
     "data": {
      "text/html": [
       "\n",
       "                <audio  controls=\"controls\" autoplay=\"autoplay\">\n",
       "                    <source src=\"data:audio/wav;base64,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\" type=\"audio/wav\" />\n",
       "                    Your browser does not support the audio element.\n",
       "                </audio>\n",
       "              "
      ],
      "text/plain": [
       "<IPython.lib.display.Audio object>"
      ]
     },
     "execution_count": 20,
     "metadata": {},
     "output_type": "execute_result"
    }
   ],
   "source": [
    "## listen to a sample\n",
    "import IPython.display as ipd\n",
    "\n",
    "rand_int = random.randint(0, len(data_train))\n",
    "print(\"Target text:\", data_train[rand_int][\"text\"])\n",
    "\n",
    "ipd.Audio(data=np.asarray(data_train[rand_int][\"audio_signal\"]), autoplay=True, rate=16000)"
   ]
  },
  {
   "cell_type": "code",
   "execution_count": 21,
   "metadata": {
    "colab": {
     "base_uri": "https://localhost:8080/",
     "height": 115
    },
    "executionInfo": {
     "elapsed": 553078,
     "status": "ok",
     "timestamp": 1618343264075,
     "user": {
      "displayName": "Roman Engeler",
      "photoUrl": "",
      "userId": "01825020783678319162"
     },
     "user_tz": -120
    },
    "id": "3XQ-qCi31aZq",
    "outputId": "ab218a0a-01b8-42af-bcc9-9697e1c499b3"
   },
   "outputs": [
    {
     "data": {
      "application/vnd.jupyter.widget-view+json": {
       "model_id": "75262117125c4b0e99e92d37fae228ed",
       "version_major": 2,
       "version_minor": 0
      },
      "text/plain": [
       "HBox(children=(FloatProgress(value=0.0, max=535.0), HTML(value='')))"
      ]
     },
     "metadata": {},
     "output_type": "display_data"
    },
    {
     "name": "stdout",
     "output_type": "stream",
     "text": [
      "\n"
     ]
    },
    {
     "data": {
      "application/vnd.jupyter.widget-view+json": {
       "model_id": "f2d48f8324b6476fb822c7732c294794",
       "version_major": 2,
       "version_minor": 0
      },
      "text/plain": [
       "HBox(children=(FloatProgress(value=0.0, max=134.0), HTML(value='')))"
      ]
     },
     "metadata": {},
     "output_type": "display_data"
    },
    {
     "name": "stdout",
     "output_type": "stream",
     "text": [
      "\n"
     ]
    }
   ],
   "source": [
    "## extract input_values (normalization)\n",
    "def prepare_dataset(batch):\n",
    "    batch[\"input_values\"] = processor(batch[\"audio_signal\"], sampling_rate=16*1e3).input_values\n",
    "\n",
    "    with processor.as_target_processor():\n",
    "        batch[\"labels\"] = processor(batch[\"text\"]).input_ids\n",
    "    return batch\n",
    "\n",
    "# parameter num_proc does not exist in the currently used version of datasets\n",
    "data_train = data_train.map(prepare_dataset, remove_columns=data_train.column_names, batch_size=8, batched=True)\n",
    "data_valid = data_valid.map(prepare_dataset, remove_columns=data_valid.column_names, batch_size=8, batched=True)"
   ]
  },
  {
   "cell_type": "markdown",
   "metadata": {
    "id": "6J05xcLF0u3c"
   },
   "source": [
    "#### Training"
   ]
  },
  {
   "cell_type": "code",
   "execution_count": 37,
   "metadata": {
    "executionInfo": {
     "elapsed": 553077,
     "status": "ok",
     "timestamp": 1618343264076,
     "user": {
      "displayName": "Roman Engeler",
      "photoUrl": "",
      "userId": "01825020783678319162"
     },
     "user_tz": -120
    },
    "id": "Ojw5k8NU0wvj"
   },
   "outputs": [],
   "source": [
    "## data collator (dynamic padding)\n",
    "from dataclasses import dataclass, field\n",
    "from typing import Any, Dict, List, Optional, Union\n",
    "\n",
    "@dataclass\n",
    "class DataCollatorCTCWithPadding:\n",
    "    \"\"\"\n",
    "    Data collator that will dynamically pad the inputs received.\n",
    "    Args:\n",
    "        processor (:class:`~transformers.Wav2Vec2Processor`)\n",
    "            The processor used for proccessing the data.\n",
    "        padding (:obj:`bool`, :obj:`str` or :class:`~transformers.tokenization_utils_base.PaddingStrategy`, `optional`, defaults to :obj:`True`):\n",
    "            Select a strategy to pad the returned sequences (according to the model's padding side and padding index)\n",
    "            among:\n",
    "            * :obj:`True` or :obj:`'longest'`: Pad to the longest sequence in the batch (or no padding if only a single\n",
    "              sequence if provided).\n",
    "            * :obj:`'max_length'`: Pad to a maximum length specified with the argument :obj:`max_length` or to the\n",
    "              maximum acceptable input length for the model if that argument is not provided.\n",
    "            * :obj:`False` or :obj:`'do_not_pad'` (default): No padding (i.e., can output a batch with sequences of\n",
    "              different lengths).\n",
    "        max_length (:obj:`int`, `optional`):\n",
    "            Maximum length of the ``input_values`` of the returned list and optionally padding length (see above).\n",
    "        max_length_labels (:obj:`int`, `optional`):\n",
    "            Maximum length of the ``labels`` returned list and optionally padding length (see above).\n",
    "        pad_to_multiple_of (:obj:`int`, `optional`):\n",
    "            If set will pad the sequence to a multiple of the provided value.\n",
    "            This is especially useful to enable the use of Tensor Cores on NVIDIA hardware with compute capability >=\n",
    "            7.5 (Volta).\n",
    "    \"\"\"\n",
    "\n",
    "    processor: Wav2Vec2Processor\n",
    "    padding: Union[bool, str] = True\n",
    "    max_length: Optional[int] = None\n",
    "    max_length_labels: Optional[int] = None\n",
    "    pad_to_multiple_of: Optional[int] = None\n",
    "    pad_to_multiple_of_labels: Optional[int] = None\n",
    "\n",
    "    def __call__(self, features: List[Dict[str, Union[List[int], torch.Tensor]]]) -> Dict[str, torch.Tensor]:\n",
    "        # split inputs and labels since they have to be of different lenghts and need\n",
    "        # different padding methods\n",
    "        input_features = [{\"input_values\": feature[\"input_values\"]} for feature in features]\n",
    "        label_features = [{\"input_ids\": feature[\"labels\"]} for feature in features]\n",
    "\n",
    "        batch = self.processor.pad(\n",
    "            input_features,\n",
    "            padding=self.padding,\n",
    "            max_length=self.max_length,\n",
    "            pad_to_multiple_of=self.pad_to_multiple_of,\n",
    "            return_tensors=\"pt\",\n",
    "        )\n",
    "        with self.processor.as_target_processor():\n",
    "            labels_batch = self.processor.pad(\n",
    "                label_features,\n",
    "                padding=self.padding,\n",
    "                max_length=self.max_length_labels,\n",
    "                pad_to_multiple_of=self.pad_to_multiple_of_labels,\n",
    "                return_tensors=\"pt\",\n",
    "            )\n",
    "\n",
    "        # replace padding with -100 to ignore loss correctly\n",
    "        labels = labels_batch[\"input_ids\"].masked_fill(labels_batch.attention_mask.ne(1), -100)\n",
    "\n",
    "        batch[\"labels\"] = labels\n",
    "\n",
    "        # input_values, attention_mask, labels\n",
    "        return batch\n",
    "\n",
    "data_collator = DataCollatorCTCWithPadding(processor=processor, padding=True)"
   ]
  },
  {
   "cell_type": "code",
   "execution_count": 38,
   "metadata": {
    "colab": {
     "base_uri": "https://localhost:8080/",
     "height": 324
    },
    "executionInfo": {
     "elapsed": 560683,
     "status": "ok",
     "timestamp": 1618343271689,
     "user": {
      "displayName": "Roman Engeler",
      "photoUrl": "",
      "userId": "01825020783678319162"
     },
     "user_tz": -120
    },
    "id": "W7YHBzgyBrM6",
    "outputId": "7dcd9e44-a7d4-45dc-aac0-1697e6fd52c7"
   },
   "outputs": [
    {
     "name": "stdout",
     "output_type": "stream",
     "text": [
      "Requirement already satisfied: jiwer in /home/andrschl/.virtualenvs/zindi/lib/python3.8/site-packages (2.2.0)\n",
      "Requirement already satisfied: python-Levenshtein in /home/andrschl/.virtualenvs/zindi/lib/python3.8/site-packages (from jiwer) (0.12.2)\n",
      "Requirement already satisfied: numpy in /home/andrschl/.virtualenvs/zindi/lib/python3.8/site-packages (from jiwer) (1.20.2)\n",
      "Requirement already satisfied: setuptools in /home/andrschl/.virtualenvs/zindi/lib/python3.8/site-packages (from python-Levenshtein->jiwer) (44.0.0)\n"
     ]
    }
   ],
   "source": [
    "## metric\n",
    "!pip install jiwer\n",
    "from datasets import load_metric\n",
    "\n",
    "wer_metric = load_metric(\"wer\")\n",
    "\n",
    "def compute_metrics(pred):\n",
    "    # argmax of softmax\n",
    "    pred_logits = pred.predictions\n",
    "    pred_ids = np.argmax(pred_logits, axis=-1)\n",
    "\n",
    "    # -100 id -> pad token\n",
    "    pred.label_ids[pred.label_ids == -100] = processor.tokenizer.pad_token_id\n",
    "\n",
    "    # prediction id -> character\n",
    "    pred_str = processor.batch_decode(pred_ids)\n",
    "    # we do not want to group tokens when computing the metrics?\n",
    "    label_str = processor.batch_decode(pred.label_ids, group_tokens=False)\n",
    "\n",
    "    wer = wer_metric.compute(predictions=pred_str, references=label_str)\n",
    "\n",
    "    return {\"wer\": wer}"
   ]
  },
  {
   "cell_type": "code",
   "execution_count": 39,
   "metadata": {
    "colab": {
     "base_uri": "https://localhost:8080/",
     "height": 115
    },
    "executionInfo": {
     "elapsed": 46638,
     "status": "ok",
     "timestamp": 1618343430722,
     "user": {
      "displayName": "Roman Engeler",
      "photoUrl": "",
      "userId": "01825020783678319162"
     },
     "user_tz": -120
    },
    "id": "rXpWF_VVChrn",
    "outputId": "2417dca3-4757-4c43-d92a-0eeef9b08f05"
   },
   "outputs": [],
   "source": [
    "## model\n",
    "## Note: play around with hyperparameters (take training to laptop and perform grid search?)\n",
    "\n",
    "model = Wav2Vec2ForCTC.from_pretrained(\n",
    "    \"facebook/wav2vec2-large-xlsr-53-french\",\n",
    "    attention_dropout=0.1,\n",
    "    hidden_dropout=0.1,\n",
    "    feat_proj_dropout=0.0,\n",
    "    mask_time_prob=0.05,\n",
    "    layerdrop=0.1,\n",
    "    gradient_checkpointing=True, # save GPU memory\n",
    "    ctc_loss_reduction=\"mean\",\n",
    "    pad_token_id=processor.tokenizer.pad_token_id, # define pad token\n",
    "    #vocab_size=len(processor.tokenizer) -> mis-match of last layer due to vocab size\n",
    ")\n",
    "\n",
    "# TODO: remove output layer and replace with vocabulary sized"
   ]
  },
  {
   "cell_type": "code",
   "execution_count": 40,
   "metadata": {
    "executionInfo": {
     "elapsed": 56027,
     "status": "ok",
     "timestamp": 1618343442244,
     "user": {
      "displayName": "Roman Engeler",
      "photoUrl": "",
      "userId": "01825020783678319162"
     },
     "user_tz": -120
    },
    "id": "8O9-BGFLs-6C"
   },
   "outputs": [],
   "source": [
    "model.to('cuda');"
   ]
  },
  {
   "cell_type": "code",
   "execution_count": 41,
   "metadata": {
    "executionInfo": {
     "elapsed": 55791,
     "status": "ok",
     "timestamp": 1618343442247,
     "user": {
      "displayName": "Roman Engeler",
      "photoUrl": "",
      "userId": "01825020783678319162"
     },
     "user_tz": -120
    },
    "id": "erabcb7nyVTY"
   },
   "outputs": [],
   "source": [
    "## Freeze CNN layers (no fine tuning as stated in paper)\n",
    "model.freeze_feature_extractor()"
   ]
  },
  {
   "cell_type": "code",
   "execution_count": 42,
   "metadata": {
    "colab": {
     "base_uri": "https://localhost:8080/",
     "height": 69
    },
    "executionInfo": {
     "elapsed": 55609,
     "status": "ok",
     "timestamp": 1618343442248,
     "user": {
      "displayName": "Roman Engeler",
      "photoUrl": "",
      "userId": "01825020783678319162"
     },
     "user_tz": -120
    },
    "id": "bCI7CEIEMupy",
    "outputId": "54750b59-02d4-4c46-a5aa-7e1f3449e329"
   },
   "outputs": [
    {
     "name": "stdout",
     "output_type": "stream",
     "text": [
      "lm_head.weight\n",
      "lm_head.bias\n"
     ]
    }
   ],
   "source": [
    "# TESTING: freeze all layers\n",
    "\n",
    "for name, param in model.named_parameters():\n",
    "  # param.requires_grad = False\n",
    "  if 'lm_head' not in name:\n",
    "    param.requires_grad = False\n",
    "\n",
    "  if param.requires_grad:\n",
    "    print(name)\n"
   ]
  },
  {
   "cell_type": "code",
   "execution_count": 31,
   "metadata": {
    "executionInfo": {
     "elapsed": 53773,
     "status": "ok",
     "timestamp": 1618343442248,
     "user": {
      "displayName": "Roman Engeler",
      "photoUrl": "",
      "userId": "01825020783678319162"
     },
     "user_tz": -120
    },
    "id": "dkc3vu7ELq_j"
   },
   "outputs": [],
   "source": [
    "# adapt last layer to vocab size\n",
    "# (lm_head): Linear(in_features=1024, out_features=37, bias=True)\n",
    "# model.lm_head = torch.nn.Linear(1024, out_features=len(processor.tokenizer), bias=True)"
   ]
  },
  {
   "cell_type": "code",
   "execution_count": 44,
   "metadata": {
    "executionInfo": {
     "elapsed": 632,
     "status": "ok",
     "timestamp": 1618343442891,
     "user": {
      "displayName": "Roman Engeler",
      "photoUrl": "",
      "userId": "01825020783678319162"
     },
     "user_tz": -120
    },
    "id": "zgmsTUkSNaB3"
   },
   "outputs": [],
   "source": [
    "## hyperparameters\n",
    "from transformers import TrainingArguments\n",
    "\n",
    "path_model = os.path.join(path, '/model/wav2vec2-large-xlsr-french-13Apr')\n",
    "\n",
    "training_args = TrainingArguments(\n",
    "  output_dir=path + '/model/wav2vec2-large-xlsr-french-13Apr',\n",
    "  group_by_length=True,\n",
    "  per_device_train_batch_size=16,\n",
    "  gradient_accumulation_steps=2,\n",
    "  evaluation_strategy=\"steps\",\n",
    "  num_train_epochs=1,\n",
    "  fp16=True,\n",
    "  save_steps=100,\n",
    "  eval_steps=100,\n",
    "  logging_steps=70,\n",
    "  learning_rate=3e-4,\n",
    "  warmup_steps=20,\n",
    "  save_total_limit=1,\n",
    ")"
   ]
  },
  {
   "cell_type": "code",
   "execution_count": 45,
   "metadata": {
    "executionInfo": {
     "elapsed": 1525,
     "status": "ok",
     "timestamp": 1618343445657,
     "user": {
      "displayName": "Roman Engeler",
      "photoUrl": "",
      "userId": "01825020783678319162"
     },
     "user_tz": -120
    },
    "id": "YP15Ez7bOOSe"
   },
   "outputs": [],
   "source": [
    "## Trainer\n",
    "from transformers import Trainer\n",
    "\n",
    "trainer = Trainer(\n",
    "    model=model,\n",
    "    data_collator=data_collator,\n",
    "    args=training_args,\n",
    "    compute_metrics=compute_metrics,\n",
    "    train_dataset=data_train,\n",
    "    eval_dataset=data_valid,\n",
    "    tokenizer=processor.feature_extractor,\n",
    ")"
   ]
  },
  {
   "cell_type": "code",
   "execution_count": null,
   "metadata": {
    "executionInfo": {
     "elapsed": 561280,
     "status": "aborted",
     "timestamp": 1618343272315,
     "user": {
      "displayName": "Roman Engeler",
      "photoUrl": "",
      "userId": "01825020783678319162"
     },
     "user_tz": -120
    },
    "id": "6humfmLdOkot"
   },
   "outputs": [],
   "source": [
    "## prevent disconnecting\n",
    "# right mouse click -> inspect -> Console tab and insert code\n",
    "'''\n",
    "function ConnectButton(){\n",
    "    console.log(\"Connect pushed\");\n",
    "    document.querySelector(\"#top-toolbar > colab-connect-button\").shadowRoot.querySelector(\"#connect\").click()\n",
    "}\n",
    "setInterval(ConnectButton,60000);\n",
    "'''"
   ]
  },
  {
   "cell_type": "code",
   "execution_count": 46,
   "metadata": {
    "colab": {
     "background_save": true,
     "base_uri": "https://localhost:8080/",
     "height": 75
    },
    "id": "5HiqyFDoOz0B"
   },
   "outputs": [
    {
     "data": {
      "text/html": [
       "\n",
       "    <div>\n",
       "        <style>\n",
       "            /* Turns off some styling */\n",
       "            progress {\n",
       "                /* gets rid of default border in Firefox and Opera. */\n",
       "                border: none;\n",
       "                /* Needs to be in here for Safari polyfill so background images work as expected. */\n",
       "                background-size: auto;\n",
       "            }\n",
       "        </style>\n",
       "      \n",
       "      <progress value='134' max='134' style='width:300px; height:20px; vertical-align: middle;'></progress>\n",
       "      [134/134 03:23, Epoch 1/1]\n",
       "    </div>\n",
       "    <table border=\"1\" class=\"dataframe\">\n",
       "  <thead>\n",
       "    <tr style=\"text-align: left;\">\n",
       "      <th>Step</th>\n",
       "      <th>Training Loss</th>\n",
       "      <th>Validation Loss</th>\n",
       "      <th>Wer</th>\n",
       "      <th>Runtime</th>\n",
       "      <th>Samples Per Second</th>\n",
       "    </tr>\n",
       "  </thead>\n",
       "  <tbody>\n",
       "    <tr>\n",
       "      <td>100</td>\n",
       "      <td>1.847200</td>\n",
       "      <td>1.258416</td>\n",
       "      <td>0.855907</td>\n",
       "      <td>65.427200</td>\n",
       "      <td>16.354000</td>\n",
       "    </tr>\n",
       "  </tbody>\n",
       "</table><p>"
      ],
      "text/plain": [
       "<IPython.core.display.HTML object>"
      ]
     },
     "metadata": {},
     "output_type": "display_data"
    },
    {
     "data": {
      "text/plain": [
       "TrainOutput(global_step=134, training_loss=1.7917347808382404, metrics={'train_runtime': 205.8356, 'train_samples_per_second': 0.651, 'total_flos': 4.047275119569869e+17, 'epoch': 1.0})"
      ]
     },
     "execution_count": 46,
     "metadata": {},
     "output_type": "execute_result"
    }
   ],
   "source": [
    "## start training\n",
    "model.train()\n",
    "trainer.train()"
   ]
  },
  {
   "cell_type": "markdown",
   "metadata": {
    "id": "a5EFCeKE9Lhf"
   },
   "source": [
    "### Evaluation"
   ]
  },
  {
   "cell_type": "code",
   "execution_count": 48,
   "metadata": {
    "colab": {
     "background_save": true
    },
    "id": "-Uvw1CWhAh5y"
   },
   "outputs": [
    {
     "data": {
      "text/plain": [
       "0.9451605343332552"
      ]
     },
     "execution_count": 48,
     "metadata": {},
     "output_type": "execute_result"
    }
   ],
   "source": [
    "from datasets import load_metric\n",
    "\n",
    "#from transformers import Wav2Vec2ForCTC, Wav2Vec2Processor\n",
    "if not 'model' in globals():\n",
    "  print('Load model')\n",
    "  model = Wav2Vec2ForCTC.from_pretrained('./drive/MyDrive/Colab Notebooks/model/wav2vec2-large-xlsr-french-test/checkpoint-750/').to(\"cuda\")\n",
    "\n",
    "model.eval();\n",
    "\n",
    "# new processor if not yet existent\n",
    "if not 'processor' in globals():\n",
    "  print('Load processor')\n",
    "  tokenizer = Wav2Vec2CTCTokenizer.from_pretrained(\"facebook/wav2vec2-large-xlsr-53-french\")\n",
    "  feature_extractor = Wav2Vec2FeatureExtractor(feature_size=1, sampling_rate=16000, padding_value=0.0, do_normalize=True, return_attention_mask=True)\n",
    "  processor = Wav2Vec2Processor(feature_extractor=feature_extractor, tokenizer=tokenizer)\n",
    "  # processor = Wav2Vec2Processor.from_pretrained('./drive/MyDrive/Colab Notebooks/model/wav2vec2-large-xlsr-french-test/checkpoint-150/') # for some reason the file is not found\n",
    "\n",
    "#\n",
    "def prepare_dataset(batch):\n",
    "    return processor(batch, return_tensors=\"pt\", sampling_rate=16*1e3)\n",
    "\n",
    "wer_ = []\n",
    "\n",
    "#\n",
    "input_dict = df_valid2['audio_signal'].apply(prepare_dataset)\n",
    "label_str = ''\n",
    "pred_str = ''\n",
    "\n",
    "for idx in range(len(df_valid2)):\n",
    "  #print('-----------------')\n",
    "  logits = model(input_dict.values[idx].input_values.to(\"cuda\")).logits\n",
    "  pred_ids = torch.argmax(logits, dim=-1)[0]\n",
    "\n",
    "  '''\n",
    "  pred = []\n",
    "  for word in processor.decode(pred_ids).split(' '):\n",
    "    sim = difflib.get_close_matches(word, xv, n=1)\n",
    "    if sim == []:\n",
    "      sim = word\n",
    "    else:\n",
    "      sim = sim[0]\n",
    "        \n",
    "    pred.append(sim)\n",
    "  \n",
    "  #print(\"Prediction:\")\n",
    "  pred_str+= ' '.join(pred)+ ' '\n",
    "  '''\n",
    "  pred_str+= processor.decode(pred_ids)+ ' '\n",
    "\n",
    "  #print(\"\\nReference:\")\n",
    "  label_str+= df_valid2[\"transcription\"].values[idx].lower()+ ' '\n",
    "\n",
    "  # need same length for wer_metric\n",
    "  #label_str = label_str.ljust(len(pred_str))\n",
    "  #pred_str = pred_str.ljust(len(label_str))\n",
    "wer_.append(wer_metric.compute(predictions=[pred_str], references=[label_str]))\n",
    "\n",
    "np.mean(wer_)"
   ]
  },
  {
   "cell_type": "code",
   "execution_count": 51,
   "metadata": {
    "id": "dKCNXfFs1ByH"
   },
   "outputs": [
    {
     "data": {
      "text/plain": [
       "315488945"
      ]
     },
     "execution_count": 51,
     "metadata": {},
     "output_type": "execute_result"
    }
   ],
   "source": [
    "sum(p.numel() for p in model.parameters())"
   ]
  },
  {
   "cell_type": "code",
   "execution_count": null,
   "metadata": {
    "id": "JPszEXsDZl-d"
   },
   "outputs": [],
   "source": [
    "print(pred_str[:1000])\n",
    "print(label_str[:1000])"
   ]
  },
  {
   "cell_type": "code",
   "execution_count": null,
   "metadata": {
    "id": "MpG-JY0IWwfQ"
   },
   "outputs": [],
   "source": [
    "wer_metric.compute(predictions=[pred_str], references=[label_str])"
   ]
  },
  {
   "cell_type": "code",
   "execution_count": null,
   "metadata": {
    "id": "s7U-N3W96wcg"
   },
   "outputs": [],
   "source": [
    "audio_signal = df[df['ID']=='de242ae13e8bc5c14e01295dd52eb0d3cc5b7e224507a6decd664eecdad6de5d9fb81c592fae6aadf4830955c36e9620cf07ea38b07675e513b23c0842233596']['audio_signal'].values\n",
    "input_dict = processor(audio_signal[0], return_tensors=\"pt\", sampling_rate=16*1e3)\n",
    "\n",
    "logits = model(input_dict.input_values.to(\"cuda\")).logits\n",
    "pred_ids = torch.argmax(logits, dim=-1)[0]\n",
    "\n",
    "#print(\"Prediction:\")\n",
    "pred_str = processor.decode(pred_ids)\n",
    "print(pred_str)"
   ]
  },
  {
   "cell_type": "markdown",
   "metadata": {
    "id": "iVfQ6uMu9HJY"
   },
   "source": [
    "### Prediction"
   ]
  },
  {
   "cell_type": "code",
   "execution_count": null,
   "metadata": {
    "id": "P5dW0AtQtq83"
   },
   "outputs": [],
   "source": [
    "## prediction\n",
    "# load data (dataframe) -> empty entries\n",
    "df_test = pd.read_feather('drive/MyDrive/Colab Notebooks/data/ASR_test_audio1564.ft')\n",
    "df_test = df_test[['ID', 'audio_signal']]\n",
    "\n",
    "df_test.head()\n",
    "\n",
    "'''\n",
    "# pre-process (processor)\n",
    "from transformers import Wav2Vec2CTCTokenizer, Wav2Vec2FeatureExtractor, Wav2Vec2Processor, Wav2Vec2ForCTC\n",
    "\n",
    "tokenizer = Wav2Vec2CTCTokenizer.from_pretrained(\"facebook/wav2vec2-large-xlsr-53-french\") #\n",
    "feature_extractor = Wav2Vec2FeatureExtractor(feature_size=1, sampling_rate=16000, padding_value=0.0, do_normalize=True, return_attention_mask=True)\n",
    "processor = Wav2Vec2Processor(feature_extractor=feature_extractor, tokenizer=tokenizer)\n",
    "\n",
    "# pass through model\n",
    "modelTest = Wav2Vec2ForCTC.from_pretrained('./drive/MyDrive/Colab Notebooks/model/wav2vec2-large-xlsr-french-test/checkpoint-280/').to(\"cuda\")\n",
    "'''\n",
    "\n",
    "def prepare_dataset(batch):\n",
    "    return processor(batch, return_tensors=\"pt\", sampling_rate=16*1e3)"
   ]
  },
  {
   "cell_type": "code",
   "execution_count": null,
   "metadata": {
    "id": "cF6N8ra_R76M"
   },
   "outputs": [],
   "source": [
    "# run through processor\n",
    "import difflib\n",
    "input_dict = df_test['audio_signal'].apply(prepare_dataset)\n",
    "preds = []\n",
    "\n",
    "# run through model and decoder\n",
    "for i in range(len(df_test)):\n",
    "  logits = model(input_dict[i].input_values.to('cuda')).logits\n",
    "  pred_ids = torch.argmax(logits, dim=-1)\n",
    "  preds.append(processor.decode(pred_ids[0]))\n",
    "\n",
    "  '''\n",
    "  pred = []\n",
    "  for word in processor.decode(pred_ids[0]).split(' '):\n",
    "    sim = difflib.get_close_matches(word, xv, n=1)\n",
    "    if sim == []:\n",
    "      sim = word\n",
    "    else:\n",
    "      sim = sim[0]\n",
    "        \n",
    "    pred.append(sim)\n",
    "  \n",
    "  preds.append(''.join(pred))\n",
    "  '''\n",
    "\n",
    "\n",
    "# save as csv\n",
    "dfpred = pd.DataFrame(list(zip(list(df_test['ID'].values), preds)), columns=['ID', 'transcription'])\n",
    "dfpred.to_csv('./drive/MyDrive/Colab Notebooks/predictions_11Apr.csv', index=False)"
   ]
  },
  {
   "cell_type": "code",
   "execution_count": null,
   "metadata": {
    "id": "YLglCosObAz-"
   },
   "outputs": [],
   "source": [
    "## listen to a sample\n",
    "import IPython.display as ipd\n",
    "\n",
    "rand_int = 1555#random.randint(0, len(df_test))\n",
    "print(\"Target text:\", dfpred[\"transcription\"].values[rand_int])\n",
    "\n",
    "ipd.Audio(data=np.asarray(df_test[\"audio_signal\"].values[rand_int]), autoplay=True, rate=16000)"
   ]
  },
  {
   "cell_type": "code",
   "execution_count": null,
   "metadata": {
    "id": "5a6A50Aib0Aj"
   },
   "outputs": [],
   "source": [
    "df_test[df_test['ID']=='fe5ab7babd3bd7e07c8a8cb41285e28815de7dbe9e96d8d2ece6159957d207240ad7dfbdae1da12919f2e652672e3f53d5549e7348cad28365e3b7d3416e778a']"
   ]
  },
  {
   "cell_type": "code",
   "execution_count": null,
   "metadata": {
    "id": "7J2EaxhSzXDY"
   },
   "outputs": [],
   "source": [
    "from nltk.probability import FreqDist\n",
    "from wordcloud import WordCloud, ImageColorGenerator\n",
    "\n",
    "#\n",
    "words = df['transcription']\n",
    "allwords = []\n",
    "\n",
    "for wordlist in words:\n",
    "  allwords += list(wordlist.lower().split())\n",
    "\n",
    "# histogram\n",
    "mostcommon_small = FreqDist(allwords).most_common(10000)\n",
    "xv, yv = zip(*mostcommon_small)"
   ]
  },
  {
   "cell_type": "code",
   "execution_count": null,
   "metadata": {
    "id": "oddciyLPz8yx"
   },
   "outputs": [],
   "source": [
    "from nltk.probability import FreqDist\n",
    "from wordcloud import WordCloud, ImageColorGenerator\n",
    "\n",
    "#\n",
    "words = dfpred['transcription']\n",
    "allwords = []\n",
    "\n",
    "for wordlist in words:\n",
    "  allwords += list(wordlist.split())\n",
    "\n",
    "# histogram\n",
    "mostcommon_small = FreqDist(allwords).most_common(10000)\n",
    "xp, yp = zip(*mostcommon_small)\n",
    "\n",
    "fig, ax = plt.subplots(nrows=2, figsize=(22,10))\n",
    "ax[0].bar(xv,yv)\n",
    "ax[1].bar(xp,yp)\n",
    "plt.xlabel('Words')\n",
    "plt.ylabel('Frequency of Words')\n",
    "plt.xticks(rotation=60)\n",
    "plt.show()"
   ]
  },
  {
   "cell_type": "code",
   "execution_count": null,
   "metadata": {
    "id": "bIRwqYvV38_1"
   },
   "outputs": [],
   "source": [
    "print(len(xv))\n",
    "print(len(xp))"
   ]
  },
  {
   "cell_type": "code",
   "execution_count": null,
   "metadata": {
    "id": "D4PI1QA00Bwu"
   },
   "outputs": [],
   "source": [
    "count_all = 0\n",
    "count_notshared = 0\n",
    "count = 0\n",
    "for k, word in enumerate(xp):\n",
    "  count_all += yp[k]\n",
    "  if word not in xv:\n",
    "    count_notshared += yp[k]\n",
    "    #print(word+ ' '+ str(yp[k]))\n",
    "    count += 1\n",
    "\n",
    "print(count_all)\n",
    "print(count_notshared)\n",
    "print(count)"
   ]
  },
  {
   "cell_type": "code",
   "execution_count": null,
   "metadata": {
    "id": "wzn_Sodg2BfI"
   },
   "outputs": [],
   "source": []
  }
 ],
 "metadata": {
  "accelerator": "GPU",
  "colab": {
   "authorship_tag": "ABX9TyNYvAoX5Wy+ReuRoV+6Y6IK",
   "collapsed_sections": [],
   "name": "Model_Zindi_ASR.ipynb",
   "version": ""
  },
  "kernelspec": {
   "display_name": "Python 3",
   "language": "python",
   "name": "python3"
  },
  "language_info": {
   "codemirror_mode": {
    "name": "ipython",
    "version": 3
   },
   "file_extension": ".py",
   "mimetype": "text/x-python",
   "name": "python",
   "nbconvert_exporter": "python",
   "pygments_lexer": "ipython3",
   "version": "3.8.5"
  },
  "widgets": {
   "application/vnd.jupyter.widget-state+json": {
    "0329e7e9e210417897ff85c1c75f3675": {
     "model_module": "@jupyter-widgets/controls",
     "model_name": "HTMLModel",
     "state": {
      "_dom_classes": [],
      "_model_module": "@jupyter-widgets/controls",
      "_model_module_version": "1.5.0",
      "_model_name": "HTMLModel",
      "_view_count": null,
      "_view_module": "@jupyter-widgets/controls",
      "_view_module_version": "1.5.0",
      "_view_name": "HTMLView",
      "description": "",
      "description_tooltip": null,
      "layout": "IPY_MODEL_7ceaceea5e3b4de383e5d7927dd47349",
      "placeholder": "​",
      "style": "IPY_MODEL_b0367265feab4e82ad446b6c1166d529",
      "value": " 134/134 [00:27&lt;00:00,  4.90it/s]"
     }
    },
    "0447b628a1e4471695012934e1327d09": {
     "model_module": "@jupyter-widgets/base",
     "model_name": "LayoutModel",
     "state": {
      "_model_module": "@jupyter-widgets/base",
      "_model_module_version": "1.2.0",
      "_model_name": "LayoutModel",
      "_view_count": null,
      "_view_module": "@jupyter-widgets/base",
      "_view_module_version": "1.2.0",
      "_view_name": "LayoutView",
      "align_content": null,
      "align_items": null,
      "align_self": null,
      "border": null,
      "bottom": null,
      "display": null,
      "flex": null,
      "flex_flow": null,
      "grid_area": null,
      "grid_auto_columns": null,
      "grid_auto_flow": null,
      "grid_auto_rows": null,
      "grid_column": null,
      "grid_gap": null,
      "grid_row": null,
      "grid_template_areas": null,
      "grid_template_columns": null,
      "grid_template_rows": null,
      "height": null,
      "justify_content": null,
      "justify_items": null,
      "left": null,
      "margin": null,
      "max_height": null,
      "max_width": null,
      "min_height": null,
      "min_width": null,
      "object_fit": null,
      "object_position": null,
      "order": null,
      "overflow": null,
      "overflow_x": null,
      "overflow_y": null,
      "padding": null,
      "right": null,
      "top": null,
      "visibility": null,
      "width": null
     }
    },
    "04e6280960d64b3d96750c2081603c9c": {
     "model_module": "@jupyter-widgets/controls",
     "model_name": "HBoxModel",
     "state": {
      "_dom_classes": [],
      "_model_module": "@jupyter-widgets/controls",
      "_model_module_version": "1.5.0",
      "_model_name": "HBoxModel",
      "_view_count": null,
      "_view_module": "@jupyter-widgets/controls",
      "_view_module_version": "1.5.0",
      "_view_name": "HBoxView",
      "box_style": "",
      "children": [
       "IPY_MODEL_84ffab7405794d409a07ac16a90c1b05",
       "IPY_MODEL_b45a265c0802475aa8a6fed0bfb3b08c"
      ],
      "layout": "IPY_MODEL_a0a94800666d4206ba888d1186924cc9"
     }
    },
    "05cedeea36a54cc1abb933beeabc635e": {
     "model_module": "@jupyter-widgets/base",
     "model_name": "LayoutModel",
     "state": {
      "_model_module": "@jupyter-widgets/base",
      "_model_module_version": "1.2.0",
      "_model_name": "LayoutModel",
      "_view_count": null,
      "_view_module": "@jupyter-widgets/base",
      "_view_module_version": "1.2.0",
      "_view_name": "LayoutView",
      "align_content": null,
      "align_items": null,
      "align_self": null,
      "border": null,
      "bottom": null,
      "display": null,
      "flex": null,
      "flex_flow": null,
      "grid_area": null,
      "grid_auto_columns": null,
      "grid_auto_flow": null,
      "grid_auto_rows": null,
      "grid_column": null,
      "grid_gap": null,
      "grid_row": null,
      "grid_template_areas": null,
      "grid_template_columns": null,
      "grid_template_rows": null,
      "height": null,
      "justify_content": null,
      "justify_items": null,
      "left": null,
      "margin": null,
      "max_height": null,
      "max_width": null,
      "min_height": null,
      "min_width": null,
      "object_fit": null,
      "object_position": null,
      "order": null,
      "overflow": null,
      "overflow_x": null,
      "overflow_y": null,
      "padding": null,
      "right": null,
      "top": null,
      "visibility": null,
      "width": null
     }
    },
    "067a392a078a4074bd4dc6c8cab9ecf8": {
     "model_module": "@jupyter-widgets/controls",
     "model_name": "ProgressStyleModel",
     "state": {
      "_model_module": "@jupyter-widgets/controls",
      "_model_module_version": "1.5.0",
      "_model_name": "ProgressStyleModel",
      "_view_count": null,
      "_view_module": "@jupyter-widgets/base",
      "_view_module_version": "1.2.0",
      "_view_name": "StyleView",
      "bar_color": null,
      "description_width": "initial"
     }
    },
    "07d696a968be4a88b331d5f9881b21e9": {
     "model_module": "@jupyter-widgets/base",
     "model_name": "LayoutModel",
     "state": {
      "_model_module": "@jupyter-widgets/base",
      "_model_module_version": "1.2.0",
      "_model_name": "LayoutModel",
      "_view_count": null,
      "_view_module": "@jupyter-widgets/base",
      "_view_module_version": "1.2.0",
      "_view_name": "LayoutView",
      "align_content": null,
      "align_items": null,
      "align_self": null,
      "border": null,
      "bottom": null,
      "display": null,
      "flex": null,
      "flex_flow": null,
      "grid_area": null,
      "grid_auto_columns": null,
      "grid_auto_flow": null,
      "grid_auto_rows": null,
      "grid_column": null,
      "grid_gap": null,
      "grid_row": null,
      "grid_template_areas": null,
      "grid_template_columns": null,
      "grid_template_rows": null,
      "height": null,
      "justify_content": null,
      "justify_items": null,
      "left": null,
      "margin": null,
      "max_height": null,
      "max_width": null,
      "min_height": null,
      "min_width": null,
      "object_fit": null,
      "object_position": null,
      "order": null,
      "overflow": null,
      "overflow_x": null,
      "overflow_y": null,
      "padding": null,
      "right": null,
      "top": null,
      "visibility": null,
      "width": null
     }
    },
    "0e5d61334873443f8b73001ce3374ab9": {
     "model_module": "@jupyter-widgets/controls",
     "model_name": "DescriptionStyleModel",
     "state": {
      "_model_module": "@jupyter-widgets/controls",
      "_model_module_version": "1.5.0",
      "_model_name": "DescriptionStyleModel",
      "_view_count": null,
      "_view_module": "@jupyter-widgets/base",
      "_view_module_version": "1.2.0",
      "_view_name": "StyleView",
      "description_width": ""
     }
    },
    "0e854f70d1ce4614a9da141f101adebb": {
     "model_module": "@jupyter-widgets/controls",
     "model_name": "ProgressStyleModel",
     "state": {
      "_model_module": "@jupyter-widgets/controls",
      "_model_module_version": "1.5.0",
      "_model_name": "ProgressStyleModel",
      "_view_count": null,
      "_view_module": "@jupyter-widgets/base",
      "_view_module_version": "1.2.0",
      "_view_name": "StyleView",
      "bar_color": null,
      "description_width": "initial"
     }
    },
    "119aeb0818954a51aca55c1717d9747b": {
     "model_module": "@jupyter-widgets/controls",
     "model_name": "HTMLModel",
     "state": {
      "_dom_classes": [],
      "_model_module": "@jupyter-widgets/controls",
      "_model_module_version": "1.5.0",
      "_model_name": "HTMLModel",
      "_view_count": null,
      "_view_module": "@jupyter-widgets/controls",
      "_view_module_version": "1.5.0",
      "_view_name": "HTMLView",
      "description": "",
      "description_tooltip": null,
      "layout": "IPY_MODEL_246e4dfa35584af19245d3bd7d12242b",
      "placeholder": "​",
      "style": "IPY_MODEL_cc88c758e06041fc9a41ebfc80097305",
      "value": " 378/378 [00:00&lt;00:00, 677B/s]"
     }
    },
    "16224f20584b427cae8c4059e1fb78ef": {
     "model_module": "@jupyter-widgets/controls",
     "model_name": "ProgressStyleModel",
     "state": {
      "_model_module": "@jupyter-widgets/controls",
      "_model_module_version": "1.5.0",
      "_model_name": "ProgressStyleModel",
      "_view_count": null,
      "_view_module": "@jupyter-widgets/base",
      "_view_module_version": "1.2.0",
      "_view_name": "StyleView",
      "bar_color": null,
      "description_width": "initial"
     }
    },
    "165de7e4c15e491fa4448c203330e70d": {
     "model_module": "@jupyter-widgets/controls",
     "model_name": "FloatProgressModel",
     "state": {
      "_dom_classes": [],
      "_model_module": "@jupyter-widgets/controls",
      "_model_module_version": "1.5.0",
      "_model_name": "FloatProgressModel",
      "_view_count": null,
      "_view_module": "@jupyter-widgets/controls",
      "_view_module_version": "1.5.0",
      "_view_name": "ProgressView",
      "bar_style": "success",
      "description": "Downloading: 100%",
      "description_tooltip": null,
      "layout": "IPY_MODEL_f70ebeab9c4146818f9f2e5021f8aa4c",
      "max": 378,
      "min": 0,
      "orientation": "horizontal",
      "style": "IPY_MODEL_1a2d37de7b614622b71714e4fbe9b5b2",
      "value": 378
     }
    },
    "1a2d37de7b614622b71714e4fbe9b5b2": {
     "model_module": "@jupyter-widgets/controls",
     "model_name": "ProgressStyleModel",
     "state": {
      "_model_module": "@jupyter-widgets/controls",
      "_model_module_version": "1.5.0",
      "_model_name": "ProgressStyleModel",
      "_view_count": null,
      "_view_module": "@jupyter-widgets/base",
      "_view_module_version": "1.2.0",
      "_view_name": "StyleView",
      "bar_color": null,
      "description_width": "initial"
     }
    },
    "1a41c3300d6341ec878dfd8538ad4519": {
     "model_module": "@jupyter-widgets/controls",
     "model_name": "DescriptionStyleModel",
     "state": {
      "_model_module": "@jupyter-widgets/controls",
      "_model_module_version": "1.5.0",
      "_model_name": "DescriptionStyleModel",
      "_view_count": null,
      "_view_module": "@jupyter-widgets/base",
      "_view_module_version": "1.2.0",
      "_view_name": "StyleView",
      "description_width": ""
     }
    },
    "216d8fb93d5545adb2abf1edcef00a40": {
     "model_module": "@jupyter-widgets/controls",
     "model_name": "HBoxModel",
     "state": {
      "_dom_classes": [],
      "_model_module": "@jupyter-widgets/controls",
      "_model_module_version": "1.5.0",
      "_model_name": "HBoxModel",
      "_view_count": null,
      "_view_module": "@jupyter-widgets/controls",
      "_view_module_version": "1.5.0",
      "_view_name": "HBoxView",
      "box_style": "",
      "children": [
       "IPY_MODEL_9daf19df25064ef192d172e5dae62eef",
       "IPY_MODEL_7b7b78c1753f4710b97aef2c048914e3"
      ],
      "layout": "IPY_MODEL_396e593056b644da9990b58e55c176bf"
     }
    },
    "229ebac67d97441cb7de994aa622bcf9": {
     "model_module": "@jupyter-widgets/controls",
     "model_name": "ProgressStyleModel",
     "state": {
      "_model_module": "@jupyter-widgets/controls",
      "_model_module_version": "1.5.0",
      "_model_name": "ProgressStyleModel",
      "_view_count": null,
      "_view_module": "@jupyter-widgets/base",
      "_view_module_version": "1.2.0",
      "_view_name": "StyleView",
      "bar_color": null,
      "description_width": "initial"
     }
    },
    "22d6f3474de549f5b7101ade163c0ae3": {
     "model_module": "@jupyter-widgets/controls",
     "model_name": "FloatProgressModel",
     "state": {
      "_dom_classes": [],
      "_model_module": "@jupyter-widgets/controls",
      "_model_module_version": "1.5.0",
      "_model_name": "FloatProgressModel",
      "_view_count": null,
      "_view_module": "@jupyter-widgets/controls",
      "_view_module_version": "1.5.0",
      "_view_name": "ProgressView",
      "bar_style": "success",
      "description": "100%",
      "description_tooltip": null,
      "layout": "IPY_MODEL_2e13cf5c7b024df08170a6559d7c345c",
      "max": 4276,
      "min": 0,
      "orientation": "horizontal",
      "style": "IPY_MODEL_16224f20584b427cae8c4059e1fb78ef",
      "value": 4276
     }
    },
    "2324884f66794549bb8bc6d22f5e2674": {
     "model_module": "@jupyter-widgets/controls",
     "model_name": "DescriptionStyleModel",
     "state": {
      "_model_module": "@jupyter-widgets/controls",
      "_model_module_version": "1.5.0",
      "_model_name": "DescriptionStyleModel",
      "_view_count": null,
      "_view_module": "@jupyter-widgets/base",
      "_view_module_version": "1.2.0",
      "_view_name": "StyleView",
      "description_width": ""
     }
    },
    "246e4dfa35584af19245d3bd7d12242b": {
     "model_module": "@jupyter-widgets/base",
     "model_name": "LayoutModel",
     "state": {
      "_model_module": "@jupyter-widgets/base",
      "_model_module_version": "1.2.0",
      "_model_name": "LayoutModel",
      "_view_count": null,
      "_view_module": "@jupyter-widgets/base",
      "_view_module_version": "1.2.0",
      "_view_name": "LayoutView",
      "align_content": null,
      "align_items": null,
      "align_self": null,
      "border": null,
      "bottom": null,
      "display": null,
      "flex": null,
      "flex_flow": null,
      "grid_area": null,
      "grid_auto_columns": null,
      "grid_auto_flow": null,
      "grid_auto_rows": null,
      "grid_column": null,
      "grid_gap": null,
      "grid_row": null,
      "grid_template_areas": null,
      "grid_template_columns": null,
      "grid_template_rows": null,
      "height": null,
      "justify_content": null,
      "justify_items": null,
      "left": null,
      "margin": null,
      "max_height": null,
      "max_width": null,
      "min_height": null,
      "min_width": null,
      "object_fit": null,
      "object_position": null,
      "order": null,
      "overflow": null,
      "overflow_x": null,
      "overflow_y": null,
      "padding": null,
      "right": null,
      "top": null,
      "visibility": null,
      "width": null
     }
    },
    "24995879e9b24c70af4148aee3e42d86": {
     "model_module": "@jupyter-widgets/base",
     "model_name": "LayoutModel",
     "state": {
      "_model_module": "@jupyter-widgets/base",
      "_model_module_version": "1.2.0",
      "_model_name": "LayoutModel",
      "_view_count": null,
      "_view_module": "@jupyter-widgets/base",
      "_view_module_version": "1.2.0",
      "_view_name": "LayoutView",
      "align_content": null,
      "align_items": null,
      "align_self": null,
      "border": null,
      "bottom": null,
      "display": null,
      "flex": null,
      "flex_flow": null,
      "grid_area": null,
      "grid_auto_columns": null,
      "grid_auto_flow": null,
      "grid_auto_rows": null,
      "grid_column": null,
      "grid_gap": null,
      "grid_row": null,
      "grid_template_areas": null,
      "grid_template_columns": null,
      "grid_template_rows": null,
      "height": null,
      "justify_content": null,
      "justify_items": null,
      "left": null,
      "margin": null,
      "max_height": null,
      "max_width": null,
      "min_height": null,
      "min_width": null,
      "object_fit": null,
      "object_position": null,
      "order": null,
      "overflow": null,
      "overflow_x": null,
      "overflow_y": null,
      "padding": null,
      "right": null,
      "top": null,
      "visibility": null,
      "width": null
     }
    },
    "27144f5748b1477b93b3e3fef251b6c5": {
     "model_module": "@jupyter-widgets/controls",
     "model_name": "HBoxModel",
     "state": {
      "_dom_classes": [],
      "_model_module": "@jupyter-widgets/controls",
      "_model_module_version": "1.5.0",
      "_model_name": "HBoxModel",
      "_view_count": null,
      "_view_module": "@jupyter-widgets/controls",
      "_view_module_version": "1.5.0",
      "_view_name": "HBoxView",
      "box_style": "",
      "children": [
       "IPY_MODEL_a8168c23559445f9a638022735a194a8",
       "IPY_MODEL_f901fa1ae07240e2a0a3d8573ec5b44b"
      ],
      "layout": "IPY_MODEL_43dd4327a6694aeb9629d10dff793c70"
     }
    },
    "29049b3c87084879afe73e6de9f953f4": {
     "model_module": "@jupyter-widgets/controls",
     "model_name": "DescriptionStyleModel",
     "state": {
      "_model_module": "@jupyter-widgets/controls",
      "_model_module_version": "1.5.0",
      "_model_name": "DescriptionStyleModel",
      "_view_count": null,
      "_view_module": "@jupyter-widgets/base",
      "_view_module_version": "1.2.0",
      "_view_name": "StyleView",
      "description_width": ""
     }
    },
    "2def655e9d164ea8b2dc9d7e61409b37": {
     "model_module": "@jupyter-widgets/base",
     "model_name": "LayoutModel",
     "state": {
      "_model_module": "@jupyter-widgets/base",
      "_model_module_version": "1.2.0",
      "_model_name": "LayoutModel",
      "_view_count": null,
      "_view_module": "@jupyter-widgets/base",
      "_view_module_version": "1.2.0",
      "_view_name": "LayoutView",
      "align_content": null,
      "align_items": null,
      "align_self": null,
      "border": null,
      "bottom": null,
      "display": null,
      "flex": null,
      "flex_flow": null,
      "grid_area": null,
      "grid_auto_columns": null,
      "grid_auto_flow": null,
      "grid_auto_rows": null,
      "grid_column": null,
      "grid_gap": null,
      "grid_row": null,
      "grid_template_areas": null,
      "grid_template_columns": null,
      "grid_template_rows": null,
      "height": null,
      "justify_content": null,
      "justify_items": null,
      "left": null,
      "margin": null,
      "max_height": null,
      "max_width": null,
      "min_height": null,
      "min_width": null,
      "object_fit": null,
      "object_position": null,
      "order": null,
      "overflow": null,
      "overflow_x": null,
      "overflow_y": null,
      "padding": null,
      "right": null,
      "top": null,
      "visibility": null,
      "width": null
     }
    },
    "2e13cf5c7b024df08170a6559d7c345c": {
     "model_module": "@jupyter-widgets/base",
     "model_name": "LayoutModel",
     "state": {
      "_model_module": "@jupyter-widgets/base",
      "_model_module_version": "1.2.0",
      "_model_name": "LayoutModel",
      "_view_count": null,
      "_view_module": "@jupyter-widgets/base",
      "_view_module_version": "1.2.0",
      "_view_name": "LayoutView",
      "align_content": null,
      "align_items": null,
      "align_self": null,
      "border": null,
      "bottom": null,
      "display": null,
      "flex": null,
      "flex_flow": null,
      "grid_area": null,
      "grid_auto_columns": null,
      "grid_auto_flow": null,
      "grid_auto_rows": null,
      "grid_column": null,
      "grid_gap": null,
      "grid_row": null,
      "grid_template_areas": null,
      "grid_template_columns": null,
      "grid_template_rows": null,
      "height": null,
      "justify_content": null,
      "justify_items": null,
      "left": null,
      "margin": null,
      "max_height": null,
      "max_width": null,
      "min_height": null,
      "min_width": null,
      "object_fit": null,
      "object_position": null,
      "order": null,
      "overflow": null,
      "overflow_x": null,
      "overflow_y": null,
      "padding": null,
      "right": null,
      "top": null,
      "visibility": null,
      "width": null
     }
    },
    "2f3fc795cdf54e108c2b1e56efa9a1c9": {
     "model_module": "@jupyter-widgets/base",
     "model_name": "LayoutModel",
     "state": {
      "_model_module": "@jupyter-widgets/base",
      "_model_module_version": "1.2.0",
      "_model_name": "LayoutModel",
      "_view_count": null,
      "_view_module": "@jupyter-widgets/base",
      "_view_module_version": "1.2.0",
      "_view_name": "LayoutView",
      "align_content": null,
      "align_items": null,
      "align_self": null,
      "border": null,
      "bottom": null,
      "display": null,
      "flex": null,
      "flex_flow": null,
      "grid_area": null,
      "grid_auto_columns": null,
      "grid_auto_flow": null,
      "grid_auto_rows": null,
      "grid_column": null,
      "grid_gap": null,
      "grid_row": null,
      "grid_template_areas": null,
      "grid_template_columns": null,
      "grid_template_rows": null,
      "height": null,
      "justify_content": null,
      "justify_items": null,
      "left": null,
      "margin": null,
      "max_height": null,
      "max_width": null,
      "min_height": null,
      "min_width": null,
      "object_fit": null,
      "object_position": null,
      "order": null,
      "overflow": null,
      "overflow_x": null,
      "overflow_y": null,
      "padding": null,
      "right": null,
      "top": null,
      "visibility": null,
      "width": null
     }
    },
    "396e593056b644da9990b58e55c176bf": {
     "model_module": "@jupyter-widgets/base",
     "model_name": "LayoutModel",
     "state": {
      "_model_module": "@jupyter-widgets/base",
      "_model_module_version": "1.2.0",
      "_model_name": "LayoutModel",
      "_view_count": null,
      "_view_module": "@jupyter-widgets/base",
      "_view_module_version": "1.2.0",
      "_view_name": "LayoutView",
      "align_content": null,
      "align_items": null,
      "align_self": null,
      "border": null,
      "bottom": null,
      "display": null,
      "flex": null,
      "flex_flow": null,
      "grid_area": null,
      "grid_auto_columns": null,
      "grid_auto_flow": null,
      "grid_auto_rows": null,
      "grid_column": null,
      "grid_gap": null,
      "grid_row": null,
      "grid_template_areas": null,
      "grid_template_columns": null,
      "grid_template_rows": null,
      "height": null,
      "justify_content": null,
      "justify_items": null,
      "left": null,
      "margin": null,
      "max_height": null,
      "max_width": null,
      "min_height": null,
      "min_width": null,
      "object_fit": null,
      "object_position": null,
      "order": null,
      "overflow": null,
      "overflow_x": null,
      "overflow_y": null,
      "padding": null,
      "right": null,
      "top": null,
      "visibility": null,
      "width": null
     }
    },
    "39bb87c6a032415da03653030c8c334a": {
     "model_module": "@jupyter-widgets/controls",
     "model_name": "FloatProgressModel",
     "state": {
      "_dom_classes": [],
      "_model_module": "@jupyter-widgets/controls",
      "_model_module_version": "1.5.0",
      "_model_name": "FloatProgressModel",
      "_view_count": null,
      "_view_module": "@jupyter-widgets/controls",
      "_view_module_version": "1.5.0",
      "_view_name": "ProgressView",
      "bar_style": "success",
      "description": "Downloading: ",
      "description_tooltip": null,
      "layout": "IPY_MODEL_05cedeea36a54cc1abb933beeabc635e",
      "max": 1764,
      "min": 0,
      "orientation": "horizontal",
      "style": "IPY_MODEL_73e44fa8d6c14433b7076a010a847dee",
      "value": 1764
     }
    },
    "43dd4327a6694aeb9629d10dff793c70": {
     "model_module": "@jupyter-widgets/base",
     "model_name": "LayoutModel",
     "state": {
      "_model_module": "@jupyter-widgets/base",
      "_model_module_version": "1.2.0",
      "_model_name": "LayoutModel",
      "_view_count": null,
      "_view_module": "@jupyter-widgets/base",
      "_view_module_version": "1.2.0",
      "_view_name": "LayoutView",
      "align_content": null,
      "align_items": null,
      "align_self": null,
      "border": null,
      "bottom": null,
      "display": null,
      "flex": null,
      "flex_flow": null,
      "grid_area": null,
      "grid_auto_columns": null,
      "grid_auto_flow": null,
      "grid_auto_rows": null,
      "grid_column": null,
      "grid_gap": null,
      "grid_row": null,
      "grid_template_areas": null,
      "grid_template_columns": null,
      "grid_template_rows": null,
      "height": null,
      "justify_content": null,
      "justify_items": null,
      "left": null,
      "margin": null,
      "max_height": null,
      "max_width": null,
      "min_height": null,
      "min_width": null,
      "object_fit": null,
      "object_position": null,
      "order": null,
      "overflow": null,
      "overflow_x": null,
      "overflow_y": null,
      "padding": null,
      "right": null,
      "top": null,
      "visibility": null,
      "width": null
     }
    },
    "4bfcbd6a999546d2a87b29fb0ca6389b": {
     "model_module": "@jupyter-widgets/controls",
     "model_name": "DescriptionStyleModel",
     "state": {
      "_model_module": "@jupyter-widgets/controls",
      "_model_module_version": "1.5.0",
      "_model_name": "DescriptionStyleModel",
      "_view_count": null,
      "_view_module": "@jupyter-widgets/base",
      "_view_module_version": "1.2.0",
      "_view_name": "StyleView",
      "description_width": ""
     }
    },
    "4de220fb4fcc497c8e90f3a397a4202e": {
     "model_module": "@jupyter-widgets/controls",
     "model_name": "FloatProgressModel",
     "state": {
      "_dom_classes": [],
      "_model_module": "@jupyter-widgets/controls",
      "_model_module_version": "1.5.0",
      "_model_name": "FloatProgressModel",
      "_view_count": null,
      "_view_module": "@jupyter-widgets/controls",
      "_view_module_version": "1.5.0",
      "_view_name": "ProgressView",
      "bar_style": "success",
      "description": "100%",
      "description_tooltip": null,
      "layout": "IPY_MODEL_5d5986773bf44f1fb3eba9f5b90795c1",
      "max": 134,
      "min": 0,
      "orientation": "horizontal",
      "style": "IPY_MODEL_0e854f70d1ce4614a9da141f101adebb",
      "value": 134
     }
    },
    "56b4e721f55a4267a4f9e5e44bfb62db": {
     "model_module": "@jupyter-widgets/base",
     "model_name": "LayoutModel",
     "state": {
      "_model_module": "@jupyter-widgets/base",
      "_model_module_version": "1.2.0",
      "_model_name": "LayoutModel",
      "_view_count": null,
      "_view_module": "@jupyter-widgets/base",
      "_view_module_version": "1.2.0",
      "_view_name": "LayoutView",
      "align_content": null,
      "align_items": null,
      "align_self": null,
      "border": null,
      "bottom": null,
      "display": null,
      "flex": null,
      "flex_flow": null,
      "grid_area": null,
      "grid_auto_columns": null,
      "grid_auto_flow": null,
      "grid_auto_rows": null,
      "grid_column": null,
      "grid_gap": null,
      "grid_row": null,
      "grid_template_areas": null,
      "grid_template_columns": null,
      "grid_template_rows": null,
      "height": null,
      "justify_content": null,
      "justify_items": null,
      "left": null,
      "margin": null,
      "max_height": null,
      "max_width": null,
      "min_height": null,
      "min_width": null,
      "object_fit": null,
      "object_position": null,
      "order": null,
      "overflow": null,
      "overflow_x": null,
      "overflow_y": null,
      "padding": null,
      "right": null,
      "top": null,
      "visibility": null,
      "width": null
     }
    },
    "5793c10e834e487da3d5ab06e1a2a220": {
     "model_module": "@jupyter-widgets/controls",
     "model_name": "HBoxModel",
     "state": {
      "_dom_classes": [],
      "_model_module": "@jupyter-widgets/controls",
      "_model_module_version": "1.5.0",
      "_model_name": "HBoxModel",
      "_view_count": null,
      "_view_module": "@jupyter-widgets/controls",
      "_view_module_version": "1.5.0",
      "_view_name": "HBoxView",
      "box_style": "",
      "children": [
       "IPY_MODEL_be38fde84f6b46b6bd28742a4be00362",
       "IPY_MODEL_f7dbb8666fda488fba7855fbb5ace6b1"
      ],
      "layout": "IPY_MODEL_c07e7f79ee1d4b54ae6fe42b1b834151"
     }
    },
    "590589ec3ded45f689214d784e9388f8": {
     "model_module": "@jupyter-widgets/base",
     "model_name": "LayoutModel",
     "state": {
      "_model_module": "@jupyter-widgets/base",
      "_model_module_version": "1.2.0",
      "_model_name": "LayoutModel",
      "_view_count": null,
      "_view_module": "@jupyter-widgets/base",
      "_view_module_version": "1.2.0",
      "_view_name": "LayoutView",
      "align_content": null,
      "align_items": null,
      "align_self": null,
      "border": null,
      "bottom": null,
      "display": null,
      "flex": null,
      "flex_flow": null,
      "grid_area": null,
      "grid_auto_columns": null,
      "grid_auto_flow": null,
      "grid_auto_rows": null,
      "grid_column": null,
      "grid_gap": null,
      "grid_row": null,
      "grid_template_areas": null,
      "grid_template_columns": null,
      "grid_template_rows": null,
      "height": null,
      "justify_content": null,
      "justify_items": null,
      "left": null,
      "margin": null,
      "max_height": null,
      "max_width": null,
      "min_height": null,
      "min_width": null,
      "object_fit": null,
      "object_position": null,
      "order": null,
      "overflow": null,
      "overflow_x": null,
      "overflow_y": null,
      "padding": null,
      "right": null,
      "top": null,
      "visibility": null,
      "width": null
     }
    },
    "5d5986773bf44f1fb3eba9f5b90795c1": {
     "model_module": "@jupyter-widgets/base",
     "model_name": "LayoutModel",
     "state": {
      "_model_module": "@jupyter-widgets/base",
      "_model_module_version": "1.2.0",
      "_model_name": "LayoutModel",
      "_view_count": null,
      "_view_module": "@jupyter-widgets/base",
      "_view_module_version": "1.2.0",
      "_view_name": "LayoutView",
      "align_content": null,
      "align_items": null,
      "align_self": null,
      "border": null,
      "bottom": null,
      "display": null,
      "flex": null,
      "flex_flow": null,
      "grid_area": null,
      "grid_auto_columns": null,
      "grid_auto_flow": null,
      "grid_auto_rows": null,
      "grid_column": null,
      "grid_gap": null,
      "grid_row": null,
      "grid_template_areas": null,
      "grid_template_columns": null,
      "grid_template_rows": null,
      "height": null,
      "justify_content": null,
      "justify_items": null,
      "left": null,
      "margin": null,
      "max_height": null,
      "max_width": null,
      "min_height": null,
      "min_width": null,
      "object_fit": null,
      "object_position": null,
      "order": null,
      "overflow": null,
      "overflow_x": null,
      "overflow_y": null,
      "padding": null,
      "right": null,
      "top": null,
      "visibility": null,
      "width": null
     }
    },
    "5deded5564e04c75ac80d6f6878412fc": {
     "model_module": "@jupyter-widgets/base",
     "model_name": "LayoutModel",
     "state": {
      "_model_module": "@jupyter-widgets/base",
      "_model_module_version": "1.2.0",
      "_model_name": "LayoutModel",
      "_view_count": null,
      "_view_module": "@jupyter-widgets/base",
      "_view_module_version": "1.2.0",
      "_view_name": "LayoutView",
      "align_content": null,
      "align_items": null,
      "align_self": null,
      "border": null,
      "bottom": null,
      "display": null,
      "flex": null,
      "flex_flow": null,
      "grid_area": null,
      "grid_auto_columns": null,
      "grid_auto_flow": null,
      "grid_auto_rows": null,
      "grid_column": null,
      "grid_gap": null,
      "grid_row": null,
      "grid_template_areas": null,
      "grid_template_columns": null,
      "grid_template_rows": null,
      "height": null,
      "justify_content": null,
      "justify_items": null,
      "left": null,
      "margin": null,
      "max_height": null,
      "max_width": null,
      "min_height": null,
      "min_width": null,
      "object_fit": null,
      "object_position": null,
      "order": null,
      "overflow": null,
      "overflow_x": null,
      "overflow_y": null,
      "padding": null,
      "right": null,
      "top": null,
      "visibility": null,
      "width": null
     }
    },
    "62128a49f7104b02a5ae3e542d8a00fc": {
     "model_module": "@jupyter-widgets/base",
     "model_name": "LayoutModel",
     "state": {
      "_model_module": "@jupyter-widgets/base",
      "_model_module_version": "1.2.0",
      "_model_name": "LayoutModel",
      "_view_count": null,
      "_view_module": "@jupyter-widgets/base",
      "_view_module_version": "1.2.0",
      "_view_name": "LayoutView",
      "align_content": null,
      "align_items": null,
      "align_self": null,
      "border": null,
      "bottom": null,
      "display": null,
      "flex": null,
      "flex_flow": null,
      "grid_area": null,
      "grid_auto_columns": null,
      "grid_auto_flow": null,
      "grid_auto_rows": null,
      "grid_column": null,
      "grid_gap": null,
      "grid_row": null,
      "grid_template_areas": null,
      "grid_template_columns": null,
      "grid_template_rows": null,
      "height": null,
      "justify_content": null,
      "justify_items": null,
      "left": null,
      "margin": null,
      "max_height": null,
      "max_width": null,
      "min_height": null,
      "min_width": null,
      "object_fit": null,
      "object_position": null,
      "order": null,
      "overflow": null,
      "overflow_x": null,
      "overflow_y": null,
      "padding": null,
      "right": null,
      "top": null,
      "visibility": null,
      "width": null
     }
    },
    "66e0fd2f4666458daf691779b1da68ad": {
     "model_module": "@jupyter-widgets/base",
     "model_name": "LayoutModel",
     "state": {
      "_model_module": "@jupyter-widgets/base",
      "_model_module_version": "1.2.0",
      "_model_name": "LayoutModel",
      "_view_count": null,
      "_view_module": "@jupyter-widgets/base",
      "_view_module_version": "1.2.0",
      "_view_name": "LayoutView",
      "align_content": null,
      "align_items": null,
      "align_self": null,
      "border": null,
      "bottom": null,
      "display": null,
      "flex": null,
      "flex_flow": null,
      "grid_area": null,
      "grid_auto_columns": null,
      "grid_auto_flow": null,
      "grid_auto_rows": null,
      "grid_column": null,
      "grid_gap": null,
      "grid_row": null,
      "grid_template_areas": null,
      "grid_template_columns": null,
      "grid_template_rows": null,
      "height": null,
      "justify_content": null,
      "justify_items": null,
      "left": null,
      "margin": null,
      "max_height": null,
      "max_width": null,
      "min_height": null,
      "min_width": null,
      "object_fit": null,
      "object_position": null,
      "order": null,
      "overflow": null,
      "overflow_x": null,
      "overflow_y": null,
      "padding": null,
      "right": null,
      "top": null,
      "visibility": null,
      "width": null
     }
    },
    "68764a488ff34b629a956b55b9702e8a": {
     "model_module": "@jupyter-widgets/base",
     "model_name": "LayoutModel",
     "state": {
      "_model_module": "@jupyter-widgets/base",
      "_model_module_version": "1.2.0",
      "_model_name": "LayoutModel",
      "_view_count": null,
      "_view_module": "@jupyter-widgets/base",
      "_view_module_version": "1.2.0",
      "_view_name": "LayoutView",
      "align_content": null,
      "align_items": null,
      "align_self": null,
      "border": null,
      "bottom": null,
      "display": null,
      "flex": null,
      "flex_flow": null,
      "grid_area": null,
      "grid_auto_columns": null,
      "grid_auto_flow": null,
      "grid_auto_rows": null,
      "grid_column": null,
      "grid_gap": null,
      "grid_row": null,
      "grid_template_areas": null,
      "grid_template_columns": null,
      "grid_template_rows": null,
      "height": null,
      "justify_content": null,
      "justify_items": null,
      "left": null,
      "margin": null,
      "max_height": null,
      "max_width": null,
      "min_height": null,
      "min_width": null,
      "object_fit": null,
      "object_position": null,
      "order": null,
      "overflow": null,
      "overflow_x": null,
      "overflow_y": null,
      "padding": null,
      "right": null,
      "top": null,
      "visibility": null,
      "width": null
     }
    },
    "6bd8673840e740cb9ce745ce078d9594": {
     "model_module": "@jupyter-widgets/base",
     "model_name": "LayoutModel",
     "state": {
      "_model_module": "@jupyter-widgets/base",
      "_model_module_version": "1.2.0",
      "_model_name": "LayoutModel",
      "_view_count": null,
      "_view_module": "@jupyter-widgets/base",
      "_view_module_version": "1.2.0",
      "_view_name": "LayoutView",
      "align_content": null,
      "align_items": null,
      "align_self": null,
      "border": null,
      "bottom": null,
      "display": null,
      "flex": null,
      "flex_flow": null,
      "grid_area": null,
      "grid_auto_columns": null,
      "grid_auto_flow": null,
      "grid_auto_rows": null,
      "grid_column": null,
      "grid_gap": null,
      "grid_row": null,
      "grid_template_areas": null,
      "grid_template_columns": null,
      "grid_template_rows": null,
      "height": null,
      "justify_content": null,
      "justify_items": null,
      "left": null,
      "margin": null,
      "max_height": null,
      "max_width": null,
      "min_height": null,
      "min_width": null,
      "object_fit": null,
      "object_position": null,
      "order": null,
      "overflow": null,
      "overflow_x": null,
      "overflow_y": null,
      "padding": null,
      "right": null,
      "top": null,
      "visibility": null,
      "width": null
     }
    },
    "73e44fa8d6c14433b7076a010a847dee": {
     "model_module": "@jupyter-widgets/controls",
     "model_name": "ProgressStyleModel",
     "state": {
      "_model_module": "@jupyter-widgets/controls",
      "_model_module_version": "1.5.0",
      "_model_name": "ProgressStyleModel",
      "_view_count": null,
      "_view_module": "@jupyter-widgets/base",
      "_view_module_version": "1.2.0",
      "_view_name": "StyleView",
      "bar_color": null,
      "description_width": "initial"
     }
    },
    "7ab1c7a79c78403497816fe8ad3be11a": {
     "model_module": "@jupyter-widgets/controls",
     "model_name": "DescriptionStyleModel",
     "state": {
      "_model_module": "@jupyter-widgets/controls",
      "_model_module_version": "1.5.0",
      "_model_name": "DescriptionStyleModel",
      "_view_count": null,
      "_view_module": "@jupyter-widgets/base",
      "_view_module_version": "1.2.0",
      "_view_name": "StyleView",
      "description_width": ""
     }
    },
    "7b7b78c1753f4710b97aef2c048914e3": {
     "model_module": "@jupyter-widgets/controls",
     "model_name": "HTMLModel",
     "state": {
      "_dom_classes": [],
      "_model_module": "@jupyter-widgets/controls",
      "_model_module_version": "1.5.0",
      "_model_name": "HTMLModel",
      "_view_count": null,
      "_view_module": "@jupyter-widgets/controls",
      "_view_module_version": "1.5.0",
      "_view_name": "HTMLView",
      "description": "",
      "description_tooltip": null,
      "layout": "IPY_MODEL_590589ec3ded45f689214d784e9388f8",
      "placeholder": "​",
      "style": "IPY_MODEL_7ab1c7a79c78403497816fe8ad3be11a",
      "value": " 1.29k/1.29k [00:00&lt;00:00, 1.51kB/s]"
     }
    },
    "7bfdd1dd05a640e5be1c59eacad4f1e8": {
     "model_module": "@jupyter-widgets/controls",
     "model_name": "HTMLModel",
     "state": {
      "_dom_classes": [],
      "_model_module": "@jupyter-widgets/controls",
      "_model_module_version": "1.5.0",
      "_model_name": "HTMLModel",
      "_view_count": null,
      "_view_module": "@jupyter-widgets/controls",
      "_view_module_version": "1.5.0",
      "_view_name": "HTMLView",
      "description": "",
      "description_tooltip": null,
      "layout": "IPY_MODEL_68764a488ff34b629a956b55b9702e8a",
      "placeholder": "​",
      "style": "IPY_MODEL_29049b3c87084879afe73e6de9f953f4",
      "value": " 3.90k/? [00:00&lt;00:00, 16.7kB/s]"
     }
    },
    "7ceaceea5e3b4de383e5d7927dd47349": {
     "model_module": "@jupyter-widgets/base",
     "model_name": "LayoutModel",
     "state": {
      "_model_module": "@jupyter-widgets/base",
      "_model_module_version": "1.2.0",
      "_model_name": "LayoutModel",
      "_view_count": null,
      "_view_module": "@jupyter-widgets/base",
      "_view_module_version": "1.2.0",
      "_view_name": "LayoutView",
      "align_content": null,
      "align_items": null,
      "align_self": null,
      "border": null,
      "bottom": null,
      "display": null,
      "flex": null,
      "flex_flow": null,
      "grid_area": null,
      "grid_auto_columns": null,
      "grid_auto_flow": null,
      "grid_auto_rows": null,
      "grid_column": null,
      "grid_gap": null,
      "grid_row": null,
      "grid_template_areas": null,
      "grid_template_columns": null,
      "grid_template_rows": null,
      "height": null,
      "justify_content": null,
      "justify_items": null,
      "left": null,
      "margin": null,
      "max_height": null,
      "max_width": null,
      "min_height": null,
      "min_width": null,
      "object_fit": null,
      "object_position": null,
      "order": null,
      "overflow": null,
      "overflow_x": null,
      "overflow_y": null,
      "padding": null,
      "right": null,
      "top": null,
      "visibility": null,
      "width": null
     }
    },
    "7e912c7edbc04263ad47eb8aa341ef64": {
     "model_module": "@jupyter-widgets/controls",
     "model_name": "HBoxModel",
     "state": {
      "_dom_classes": [],
      "_model_module": "@jupyter-widgets/controls",
      "_model_module_version": "1.5.0",
      "_model_name": "HBoxModel",
      "_view_count": null,
      "_view_module": "@jupyter-widgets/controls",
      "_view_module_version": "1.5.0",
      "_view_name": "HBoxView",
      "box_style": "",
      "children": [
       "IPY_MODEL_22d6f3474de549f5b7101ade163c0ae3",
       "IPY_MODEL_f56ad78db15d4750b2c588b3c5204ac9"
      ],
      "layout": "IPY_MODEL_c6dc62cb89bc4137be97704768f2871d"
     }
    },
    "80ea0268278d415d99afe2705861e5d6": {
     "model_module": "@jupyter-widgets/controls",
     "model_name": "HBoxModel",
     "state": {
      "_dom_classes": [],
      "_model_module": "@jupyter-widgets/controls",
      "_model_module_version": "1.5.0",
      "_model_name": "HBoxModel",
      "_view_count": null,
      "_view_module": "@jupyter-widgets/controls",
      "_view_module_version": "1.5.0",
      "_view_name": "HBoxView",
      "box_style": "",
      "children": [
       "IPY_MODEL_4de220fb4fcc497c8e90f3a397a4202e",
       "IPY_MODEL_0329e7e9e210417897ff85c1c75f3675"
      ],
      "layout": "IPY_MODEL_66e0fd2f4666458daf691779b1da68ad"
     }
    },
    "84ffab7405794d409a07ac16a90c1b05": {
     "model_module": "@jupyter-widgets/controls",
     "model_name": "FloatProgressModel",
     "state": {
      "_dom_classes": [],
      "_model_module": "@jupyter-widgets/controls",
      "_model_module_version": "1.5.0",
      "_model_name": "FloatProgressModel",
      "_view_count": null,
      "_view_module": "@jupyter-widgets/controls",
      "_view_module_version": "1.5.0",
      "_view_name": "ProgressView",
      "bar_style": "success",
      "description": "100%",
      "description_tooltip": null,
      "layout": "IPY_MODEL_aabe7abdac6b40eeafa198881ea2a5eb",
      "max": 535,
      "min": 0,
      "orientation": "horizontal",
      "style": "IPY_MODEL_bee7bed21f39441189de56e721638cdb",
      "value": 535
     }
    },
    "86f0e6f48bbc48d9ad7b2f82e7125a0e": {
     "model_module": "@jupyter-widgets/controls",
     "model_name": "HBoxModel",
     "state": {
      "_dom_classes": [],
      "_model_module": "@jupyter-widgets/controls",
      "_model_module_version": "1.5.0",
      "_model_name": "HBoxModel",
      "_view_count": null,
      "_view_module": "@jupyter-widgets/controls",
      "_view_module_version": "1.5.0",
      "_view_name": "HBoxView",
      "box_style": "",
      "children": [
       "IPY_MODEL_39bb87c6a032415da03653030c8c334a",
       "IPY_MODEL_7bfdd1dd05a640e5be1c59eacad4f1e8"
      ],
      "layout": "IPY_MODEL_62128a49f7104b02a5ae3e542d8a00fc"
     }
    },
    "92a446229a9c4217bc919e21202bca79": {
     "model_module": "@jupyter-widgets/controls",
     "model_name": "HTMLModel",
     "state": {
      "_dom_classes": [],
      "_model_module": "@jupyter-widgets/controls",
      "_model_module_version": "1.5.0",
      "_model_name": "HTMLModel",
      "_view_count": null,
      "_view_module": "@jupyter-widgets/controls",
      "_view_module_version": "1.5.0",
      "_view_name": "HTMLView",
      "description": "",
      "description_tooltip": null,
      "layout": "IPY_MODEL_07d696a968be4a88b331d5f9881b21e9",
      "placeholder": "​",
      "style": "IPY_MODEL_1a41c3300d6341ec878dfd8538ad4519",
      "value": " 1.26G/1.26G [00:44&lt;00:00, 28.5MB/s]"
     }
    },
    "9daf19df25064ef192d172e5dae62eef": {
     "model_module": "@jupyter-widgets/controls",
     "model_name": "FloatProgressModel",
     "state": {
      "_dom_classes": [],
      "_model_module": "@jupyter-widgets/controls",
      "_model_module_version": "1.5.0",
      "_model_name": "FloatProgressModel",
      "_view_count": null,
      "_view_module": "@jupyter-widgets/controls",
      "_view_module_version": "1.5.0",
      "_view_name": "ProgressView",
      "bar_style": "success",
      "description": "Downloading: 100%",
      "description_tooltip": null,
      "layout": "IPY_MODEL_0447b628a1e4471695012934e1327d09",
      "max": 1294,
      "min": 0,
      "orientation": "horizontal",
      "style": "IPY_MODEL_229ebac67d97441cb7de994aa622bcf9",
      "value": 1294
     }
    },
    "a0a94800666d4206ba888d1186924cc9": {
     "model_module": "@jupyter-widgets/base",
     "model_name": "LayoutModel",
     "state": {
      "_model_module": "@jupyter-widgets/base",
      "_model_module_version": "1.2.0",
      "_model_name": "LayoutModel",
      "_view_count": null,
      "_view_module": "@jupyter-widgets/base",
      "_view_module_version": "1.2.0",
      "_view_name": "LayoutView",
      "align_content": null,
      "align_items": null,
      "align_self": null,
      "border": null,
      "bottom": null,
      "display": null,
      "flex": null,
      "flex_flow": null,
      "grid_area": null,
      "grid_auto_columns": null,
      "grid_auto_flow": null,
      "grid_auto_rows": null,
      "grid_column": null,
      "grid_gap": null,
      "grid_row": null,
      "grid_template_areas": null,
      "grid_template_columns": null,
      "grid_template_rows": null,
      "height": null,
      "justify_content": null,
      "justify_items": null,
      "left": null,
      "margin": null,
      "max_height": null,
      "max_width": null,
      "min_height": null,
      "min_width": null,
      "object_fit": null,
      "object_position": null,
      "order": null,
      "overflow": null,
      "overflow_x": null,
      "overflow_y": null,
      "padding": null,
      "right": null,
      "top": null,
      "visibility": null,
      "width": null
     }
    },
    "a8168c23559445f9a638022735a194a8": {
     "model_module": "@jupyter-widgets/controls",
     "model_name": "FloatProgressModel",
     "state": {
      "_dom_classes": [],
      "_model_module": "@jupyter-widgets/controls",
      "_model_module_version": "1.5.0",
      "_model_name": "FloatProgressModel",
      "_view_count": null,
      "_view_module": "@jupyter-widgets/controls",
      "_view_module_version": "1.5.0",
      "_view_name": "ProgressView",
      "bar_style": "success",
      "description": "100%",
      "description_tooltip": null,
      "layout": "IPY_MODEL_cb2a1569effe4b9dac95a820fe1b4de2",
      "max": 1070,
      "min": 0,
      "orientation": "horizontal",
      "style": "IPY_MODEL_f14718d6977e494a85929dcff0866abc",
      "value": 1070
     }
    },
    "aabe7abdac6b40eeafa198881ea2a5eb": {
     "model_module": "@jupyter-widgets/base",
     "model_name": "LayoutModel",
     "state": {
      "_model_module": "@jupyter-widgets/base",
      "_model_module_version": "1.2.0",
      "_model_name": "LayoutModel",
      "_view_count": null,
      "_view_module": "@jupyter-widgets/base",
      "_view_module_version": "1.2.0",
      "_view_name": "LayoutView",
      "align_content": null,
      "align_items": null,
      "align_self": null,
      "border": null,
      "bottom": null,
      "display": null,
      "flex": null,
      "flex_flow": null,
      "grid_area": null,
      "grid_auto_columns": null,
      "grid_auto_flow": null,
      "grid_auto_rows": null,
      "grid_column": null,
      "grid_gap": null,
      "grid_row": null,
      "grid_template_areas": null,
      "grid_template_columns": null,
      "grid_template_rows": null,
      "height": null,
      "justify_content": null,
      "justify_items": null,
      "left": null,
      "margin": null,
      "max_height": null,
      "max_width": null,
      "min_height": null,
      "min_width": null,
      "object_fit": null,
      "object_position": null,
      "order": null,
      "overflow": null,
      "overflow_x": null,
      "overflow_y": null,
      "padding": null,
      "right": null,
      "top": null,
      "visibility": null,
      "width": null
     }
    },
    "b0367265feab4e82ad446b6c1166d529": {
     "model_module": "@jupyter-widgets/controls",
     "model_name": "DescriptionStyleModel",
     "state": {
      "_model_module": "@jupyter-widgets/controls",
      "_model_module_version": "1.5.0",
      "_model_name": "DescriptionStyleModel",
      "_view_count": null,
      "_view_module": "@jupyter-widgets/base",
      "_view_module_version": "1.2.0",
      "_view_name": "StyleView",
      "description_width": ""
     }
    },
    "b45a265c0802475aa8a6fed0bfb3b08c": {
     "model_module": "@jupyter-widgets/controls",
     "model_name": "HTMLModel",
     "state": {
      "_dom_classes": [],
      "_model_module": "@jupyter-widgets/controls",
      "_model_module_version": "1.5.0",
      "_model_name": "HTMLModel",
      "_view_count": null,
      "_view_module": "@jupyter-widgets/controls",
      "_view_module_version": "1.5.0",
      "_view_name": "HTMLView",
      "description": "",
      "description_tooltip": null,
      "layout": "IPY_MODEL_2f3fc795cdf54e108c2b1e56efa9a1c9",
      "placeholder": "​",
      "style": "IPY_MODEL_0e5d61334873443f8b73001ce3374ab9",
      "value": " 535/535 [02:24&lt;00:00,  3.69it/s]"
     }
    },
    "b6b2377af39942cab60743e3f517648f": {
     "model_module": "@jupyter-widgets/base",
     "model_name": "LayoutModel",
     "state": {
      "_model_module": "@jupyter-widgets/base",
      "_model_module_version": "1.2.0",
      "_model_name": "LayoutModel",
      "_view_count": null,
      "_view_module": "@jupyter-widgets/base",
      "_view_module_version": "1.2.0",
      "_view_name": "LayoutView",
      "align_content": null,
      "align_items": null,
      "align_self": null,
      "border": null,
      "bottom": null,
      "display": null,
      "flex": null,
      "flex_flow": null,
      "grid_area": null,
      "grid_auto_columns": null,
      "grid_auto_flow": null,
      "grid_auto_rows": null,
      "grid_column": null,
      "grid_gap": null,
      "grid_row": null,
      "grid_template_areas": null,
      "grid_template_columns": null,
      "grid_template_rows": null,
      "height": null,
      "justify_content": null,
      "justify_items": null,
      "left": null,
      "margin": null,
      "max_height": null,
      "max_width": null,
      "min_height": null,
      "min_width": null,
      "object_fit": null,
      "object_position": null,
      "order": null,
      "overflow": null,
      "overflow_x": null,
      "overflow_y": null,
      "padding": null,
      "right": null,
      "top": null,
      "visibility": null,
      "width": null
     }
    },
    "be38fde84f6b46b6bd28742a4be00362": {
     "model_module": "@jupyter-widgets/controls",
     "model_name": "FloatProgressModel",
     "state": {
      "_dom_classes": [],
      "_model_module": "@jupyter-widgets/controls",
      "_model_module_version": "1.5.0",
      "_model_name": "FloatProgressModel",
      "_view_count": null,
      "_view_module": "@jupyter-widgets/controls",
      "_view_module_version": "1.5.0",
      "_view_name": "ProgressView",
      "bar_style": "success",
      "description": "Downloading: 100%",
      "description_tooltip": null,
      "layout": "IPY_MODEL_d3c19042b6d74da8b0067a6198280347",
      "max": 85,
      "min": 0,
      "orientation": "horizontal",
      "style": "IPY_MODEL_067a392a078a4074bd4dc6c8cab9ecf8",
      "value": 85
     }
    },
    "bee7bed21f39441189de56e721638cdb": {
     "model_module": "@jupyter-widgets/controls",
     "model_name": "ProgressStyleModel",
     "state": {
      "_model_module": "@jupyter-widgets/controls",
      "_model_module_version": "1.5.0",
      "_model_name": "ProgressStyleModel",
      "_view_count": null,
      "_view_module": "@jupyter-widgets/base",
      "_view_module_version": "1.2.0",
      "_view_name": "StyleView",
      "bar_color": null,
      "description_width": "initial"
     }
    },
    "c07e7f79ee1d4b54ae6fe42b1b834151": {
     "model_module": "@jupyter-widgets/base",
     "model_name": "LayoutModel",
     "state": {
      "_model_module": "@jupyter-widgets/base",
      "_model_module_version": "1.2.0",
      "_model_name": "LayoutModel",
      "_view_count": null,
      "_view_module": "@jupyter-widgets/base",
      "_view_module_version": "1.2.0",
      "_view_name": "LayoutView",
      "align_content": null,
      "align_items": null,
      "align_self": null,
      "border": null,
      "bottom": null,
      "display": null,
      "flex": null,
      "flex_flow": null,
      "grid_area": null,
      "grid_auto_columns": null,
      "grid_auto_flow": null,
      "grid_auto_rows": null,
      "grid_column": null,
      "grid_gap": null,
      "grid_row": null,
      "grid_template_areas": null,
      "grid_template_columns": null,
      "grid_template_rows": null,
      "height": null,
      "justify_content": null,
      "justify_items": null,
      "left": null,
      "margin": null,
      "max_height": null,
      "max_width": null,
      "min_height": null,
      "min_width": null,
      "object_fit": null,
      "object_position": null,
      "order": null,
      "overflow": null,
      "overflow_x": null,
      "overflow_y": null,
      "padding": null,
      "right": null,
      "top": null,
      "visibility": null,
      "width": null
     }
    },
    "c175511276dd4a2b8a1625b174f2a2a9": {
     "model_module": "@jupyter-widgets/base",
     "model_name": "LayoutModel",
     "state": {
      "_model_module": "@jupyter-widgets/base",
      "_model_module_version": "1.2.0",
      "_model_name": "LayoutModel",
      "_view_count": null,
      "_view_module": "@jupyter-widgets/base",
      "_view_module_version": "1.2.0",
      "_view_name": "LayoutView",
      "align_content": null,
      "align_items": null,
      "align_self": null,
      "border": null,
      "bottom": null,
      "display": null,
      "flex": null,
      "flex_flow": null,
      "grid_area": null,
      "grid_auto_columns": null,
      "grid_auto_flow": null,
      "grid_auto_rows": null,
      "grid_column": null,
      "grid_gap": null,
      "grid_row": null,
      "grid_template_areas": null,
      "grid_template_columns": null,
      "grid_template_rows": null,
      "height": null,
      "justify_content": null,
      "justify_items": null,
      "left": null,
      "margin": null,
      "max_height": null,
      "max_width": null,
      "min_height": null,
      "min_width": null,
      "object_fit": null,
      "object_position": null,
      "order": null,
      "overflow": null,
      "overflow_x": null,
      "overflow_y": null,
      "padding": null,
      "right": null,
      "top": null,
      "visibility": null,
      "width": null
     }
    },
    "c4608a6b81ce4c1c94da3339ed8ea05f": {
     "model_module": "@jupyter-widgets/controls",
     "model_name": "HTMLModel",
     "state": {
      "_dom_classes": [],
      "_model_module": "@jupyter-widgets/controls",
      "_model_module_version": "1.5.0",
      "_model_name": "HTMLModel",
      "_view_count": null,
      "_view_module": "@jupyter-widgets/controls",
      "_view_module_version": "1.5.0",
      "_view_name": "HTMLView",
      "description": "",
      "description_tooltip": null,
      "layout": "IPY_MODEL_c175511276dd4a2b8a1625b174f2a2a9",
      "placeholder": "​",
      "style": "IPY_MODEL_2324884f66794549bb8bc6d22f5e2674",
      "value": " 460/460 [00:01&lt;00:00, 456B/s]"
     }
    },
    "c6dc62cb89bc4137be97704768f2871d": {
     "model_module": "@jupyter-widgets/base",
     "model_name": "LayoutModel",
     "state": {
      "_model_module": "@jupyter-widgets/base",
      "_model_module_version": "1.2.0",
      "_model_name": "LayoutModel",
      "_view_count": null,
      "_view_module": "@jupyter-widgets/base",
      "_view_module_version": "1.2.0",
      "_view_name": "LayoutView",
      "align_content": null,
      "align_items": null,
      "align_self": null,
      "border": null,
      "bottom": null,
      "display": null,
      "flex": null,
      "flex_flow": null,
      "grid_area": null,
      "grid_auto_columns": null,
      "grid_auto_flow": null,
      "grid_auto_rows": null,
      "grid_column": null,
      "grid_gap": null,
      "grid_row": null,
      "grid_template_areas": null,
      "grid_template_columns": null,
      "grid_template_rows": null,
      "height": null,
      "justify_content": null,
      "justify_items": null,
      "left": null,
      "margin": null,
      "max_height": null,
      "max_width": null,
      "min_height": null,
      "min_width": null,
      "object_fit": null,
      "object_position": null,
      "order": null,
      "overflow": null,
      "overflow_x": null,
      "overflow_y": null,
      "padding": null,
      "right": null,
      "top": null,
      "visibility": null,
      "width": null
     }
    },
    "cb2a1569effe4b9dac95a820fe1b4de2": {
     "model_module": "@jupyter-widgets/base",
     "model_name": "LayoutModel",
     "state": {
      "_model_module": "@jupyter-widgets/base",
      "_model_module_version": "1.2.0",
      "_model_name": "LayoutModel",
      "_view_count": null,
      "_view_module": "@jupyter-widgets/base",
      "_view_module_version": "1.2.0",
      "_view_name": "LayoutView",
      "align_content": null,
      "align_items": null,
      "align_self": null,
      "border": null,
      "bottom": null,
      "display": null,
      "flex": null,
      "flex_flow": null,
      "grid_area": null,
      "grid_auto_columns": null,
      "grid_auto_flow": null,
      "grid_auto_rows": null,
      "grid_column": null,
      "grid_gap": null,
      "grid_row": null,
      "grid_template_areas": null,
      "grid_template_columns": null,
      "grid_template_rows": null,
      "height": null,
      "justify_content": null,
      "justify_items": null,
      "left": null,
      "margin": null,
      "max_height": null,
      "max_width": null,
      "min_height": null,
      "min_width": null,
      "object_fit": null,
      "object_position": null,
      "order": null,
      "overflow": null,
      "overflow_x": null,
      "overflow_y": null,
      "padding": null,
      "right": null,
      "top": null,
      "visibility": null,
      "width": null
     }
    },
    "cc88c758e06041fc9a41ebfc80097305": {
     "model_module": "@jupyter-widgets/controls",
     "model_name": "DescriptionStyleModel",
     "state": {
      "_model_module": "@jupyter-widgets/controls",
      "_model_module_version": "1.5.0",
      "_model_name": "DescriptionStyleModel",
      "_view_count": null,
      "_view_module": "@jupyter-widgets/base",
      "_view_module_version": "1.2.0",
      "_view_name": "StyleView",
      "description_width": ""
     }
    },
    "d1a3b2ab841a489a94eaeb5832ade8d5": {
     "model_module": "@jupyter-widgets/base",
     "model_name": "LayoutModel",
     "state": {
      "_model_module": "@jupyter-widgets/base",
      "_model_module_version": "1.2.0",
      "_model_name": "LayoutModel",
      "_view_count": null,
      "_view_module": "@jupyter-widgets/base",
      "_view_module_version": "1.2.0",
      "_view_name": "LayoutView",
      "align_content": null,
      "align_items": null,
      "align_self": null,
      "border": null,
      "bottom": null,
      "display": null,
      "flex": null,
      "flex_flow": null,
      "grid_area": null,
      "grid_auto_columns": null,
      "grid_auto_flow": null,
      "grid_auto_rows": null,
      "grid_column": null,
      "grid_gap": null,
      "grid_row": null,
      "grid_template_areas": null,
      "grid_template_columns": null,
      "grid_template_rows": null,
      "height": null,
      "justify_content": null,
      "justify_items": null,
      "left": null,
      "margin": null,
      "max_height": null,
      "max_width": null,
      "min_height": null,
      "min_width": null,
      "object_fit": null,
      "object_position": null,
      "order": null,
      "overflow": null,
      "overflow_x": null,
      "overflow_y": null,
      "padding": null,
      "right": null,
      "top": null,
      "visibility": null,
      "width": null
     }
    },
    "d3c19042b6d74da8b0067a6198280347": {
     "model_module": "@jupyter-widgets/base",
     "model_name": "LayoutModel",
     "state": {
      "_model_module": "@jupyter-widgets/base",
      "_model_module_version": "1.2.0",
      "_model_name": "LayoutModel",
      "_view_count": null,
      "_view_module": "@jupyter-widgets/base",
      "_view_module_version": "1.2.0",
      "_view_name": "LayoutView",
      "align_content": null,
      "align_items": null,
      "align_self": null,
      "border": null,
      "bottom": null,
      "display": null,
      "flex": null,
      "flex_flow": null,
      "grid_area": null,
      "grid_auto_columns": null,
      "grid_auto_flow": null,
      "grid_auto_rows": null,
      "grid_column": null,
      "grid_gap": null,
      "grid_row": null,
      "grid_template_areas": null,
      "grid_template_columns": null,
      "grid_template_rows": null,
      "height": null,
      "justify_content": null,
      "justify_items": null,
      "left": null,
      "margin": null,
      "max_height": null,
      "max_width": null,
      "min_height": null,
      "min_width": null,
      "object_fit": null,
      "object_position": null,
      "order": null,
      "overflow": null,
      "overflow_x": null,
      "overflow_y": null,
      "padding": null,
      "right": null,
      "top": null,
      "visibility": null,
      "width": null
     }
    },
    "da8074855f3440359e9c0bc1589de75e": {
     "model_module": "@jupyter-widgets/base",
     "model_name": "LayoutModel",
     "state": {
      "_model_module": "@jupyter-widgets/base",
      "_model_module_version": "1.2.0",
      "_model_name": "LayoutModel",
      "_view_count": null,
      "_view_module": "@jupyter-widgets/base",
      "_view_module_version": "1.2.0",
      "_view_name": "LayoutView",
      "align_content": null,
      "align_items": null,
      "align_self": null,
      "border": null,
      "bottom": null,
      "display": null,
      "flex": null,
      "flex_flow": null,
      "grid_area": null,
      "grid_auto_columns": null,
      "grid_auto_flow": null,
      "grid_auto_rows": null,
      "grid_column": null,
      "grid_gap": null,
      "grid_row": null,
      "grid_template_areas": null,
      "grid_template_columns": null,
      "grid_template_rows": null,
      "height": null,
      "justify_content": null,
      "justify_items": null,
      "left": null,
      "margin": null,
      "max_height": null,
      "max_width": null,
      "min_height": null,
      "min_width": null,
      "object_fit": null,
      "object_position": null,
      "order": null,
      "overflow": null,
      "overflow_x": null,
      "overflow_y": null,
      "padding": null,
      "right": null,
      "top": null,
      "visibility": null,
      "width": null
     }
    },
    "de0d630e5fcd417db1a45d2c337b01b3": {
     "model_module": "@jupyter-widgets/controls",
     "model_name": "HBoxModel",
     "state": {
      "_dom_classes": [],
      "_model_module": "@jupyter-widgets/controls",
      "_model_module_version": "1.5.0",
      "_model_name": "HBoxModel",
      "_view_count": null,
      "_view_module": "@jupyter-widgets/controls",
      "_view_module_version": "1.5.0",
      "_view_name": "HBoxView",
      "box_style": "",
      "children": [
       "IPY_MODEL_fbe260cece994ab8a473f4354ececd79",
       "IPY_MODEL_c4608a6b81ce4c1c94da3339ed8ea05f"
      ],
      "layout": "IPY_MODEL_56b4e721f55a4267a4f9e5e44bfb62db"
     }
    },
    "e84e602f404d477e8b4b92d58bcf4eb9": {
     "model_module": "@jupyter-widgets/controls",
     "model_name": "DescriptionStyleModel",
     "state": {
      "_model_module": "@jupyter-widgets/controls",
      "_model_module_version": "1.5.0",
      "_model_name": "DescriptionStyleModel",
      "_view_count": null,
      "_view_module": "@jupyter-widgets/base",
      "_view_module_version": "1.2.0",
      "_view_name": "StyleView",
      "description_width": ""
     }
    },
    "e8dd25544eb34d689661bd18d46e963b": {
     "model_module": "@jupyter-widgets/controls",
     "model_name": "ProgressStyleModel",
     "state": {
      "_model_module": "@jupyter-widgets/controls",
      "_model_module_version": "1.5.0",
      "_model_name": "ProgressStyleModel",
      "_view_count": null,
      "_view_module": "@jupyter-widgets/base",
      "_view_module_version": "1.2.0",
      "_view_name": "StyleView",
      "bar_color": null,
      "description_width": "initial"
     }
    },
    "eca9c0ec4c7e4dbabe2fa0b01d987523": {
     "model_module": "@jupyter-widgets/controls",
     "model_name": "HBoxModel",
     "state": {
      "_dom_classes": [],
      "_model_module": "@jupyter-widgets/controls",
      "_model_module_version": "1.5.0",
      "_model_name": "HBoxModel",
      "_view_count": null,
      "_view_module": "@jupyter-widgets/controls",
      "_view_module_version": "1.5.0",
      "_view_name": "HBoxView",
      "box_style": "",
      "children": [
       "IPY_MODEL_f4ab35667e2047f2a8e787f3a93fb695",
       "IPY_MODEL_92a446229a9c4217bc919e21202bca79"
      ],
      "layout": "IPY_MODEL_6bd8673840e740cb9ce745ce078d9594"
     }
    },
    "f14718d6977e494a85929dcff0866abc": {
     "model_module": "@jupyter-widgets/controls",
     "model_name": "ProgressStyleModel",
     "state": {
      "_model_module": "@jupyter-widgets/controls",
      "_model_module_version": "1.5.0",
      "_model_name": "ProgressStyleModel",
      "_view_count": null,
      "_view_module": "@jupyter-widgets/base",
      "_view_module_version": "1.2.0",
      "_view_name": "StyleView",
      "bar_color": null,
      "description_width": "initial"
     }
    },
    "f3002e964ada47fb8dea0c815108e963": {
     "model_module": "@jupyter-widgets/controls",
     "model_name": "DescriptionStyleModel",
     "state": {
      "_model_module": "@jupyter-widgets/controls",
      "_model_module_version": "1.5.0",
      "_model_name": "DescriptionStyleModel",
      "_view_count": null,
      "_view_module": "@jupyter-widgets/base",
      "_view_module_version": "1.2.0",
      "_view_name": "StyleView",
      "description_width": ""
     }
    },
    "f4ab35667e2047f2a8e787f3a93fb695": {
     "model_module": "@jupyter-widgets/controls",
     "model_name": "FloatProgressModel",
     "state": {
      "_dom_classes": [],
      "_model_module": "@jupyter-widgets/controls",
      "_model_module_version": "1.5.0",
      "_model_name": "FloatProgressModel",
      "_view_count": null,
      "_view_module": "@jupyter-widgets/controls",
      "_view_module_version": "1.5.0",
      "_view_name": "ProgressView",
      "bar_style": "success",
      "description": "Downloading: 100%",
      "description_tooltip": null,
      "layout": "IPY_MODEL_da8074855f3440359e9c0bc1589de75e",
      "max": 1262128855,
      "min": 0,
      "orientation": "horizontal",
      "style": "IPY_MODEL_f615ca4e27de428eaca43b9eafd33149",
      "value": 1262128855
     }
    },
    "f56ad78db15d4750b2c588b3c5204ac9": {
     "model_module": "@jupyter-widgets/controls",
     "model_name": "HTMLModel",
     "state": {
      "_dom_classes": [],
      "_model_module": "@jupyter-widgets/controls",
      "_model_module_version": "1.5.0",
      "_model_name": "HTMLModel",
      "_view_count": null,
      "_view_module": "@jupyter-widgets/controls",
      "_view_module_version": "1.5.0",
      "_view_name": "HTMLView",
      "description": "",
      "description_tooltip": null,
      "layout": "IPY_MODEL_b6b2377af39942cab60743e3f517648f",
      "placeholder": "​",
      "style": "IPY_MODEL_e84e602f404d477e8b4b92d58bcf4eb9",
      "value": " 4276/4276 [11:44&lt;00:00,  6.07it/s]"
     }
    },
    "f615ca4e27de428eaca43b9eafd33149": {
     "model_module": "@jupyter-widgets/controls",
     "model_name": "ProgressStyleModel",
     "state": {
      "_model_module": "@jupyter-widgets/controls",
      "_model_module_version": "1.5.0",
      "_model_name": "ProgressStyleModel",
      "_view_count": null,
      "_view_module": "@jupyter-widgets/base",
      "_view_module_version": "1.2.0",
      "_view_name": "StyleView",
      "bar_color": null,
      "description_width": "initial"
     }
    },
    "f70ebeab9c4146818f9f2e5021f8aa4c": {
     "model_module": "@jupyter-widgets/base",
     "model_name": "LayoutModel",
     "state": {
      "_model_module": "@jupyter-widgets/base",
      "_model_module_version": "1.2.0",
      "_model_name": "LayoutModel",
      "_view_count": null,
      "_view_module": "@jupyter-widgets/base",
      "_view_module_version": "1.2.0",
      "_view_name": "LayoutView",
      "align_content": null,
      "align_items": null,
      "align_self": null,
      "border": null,
      "bottom": null,
      "display": null,
      "flex": null,
      "flex_flow": null,
      "grid_area": null,
      "grid_auto_columns": null,
      "grid_auto_flow": null,
      "grid_auto_rows": null,
      "grid_column": null,
      "grid_gap": null,
      "grid_row": null,
      "grid_template_areas": null,
      "grid_template_columns": null,
      "grid_template_rows": null,
      "height": null,
      "justify_content": null,
      "justify_items": null,
      "left": null,
      "margin": null,
      "max_height": null,
      "max_width": null,
      "min_height": null,
      "min_width": null,
      "object_fit": null,
      "object_position": null,
      "order": null,
      "overflow": null,
      "overflow_x": null,
      "overflow_y": null,
      "padding": null,
      "right": null,
      "top": null,
      "visibility": null,
      "width": null
     }
    },
    "f7dbb8666fda488fba7855fbb5ace6b1": {
     "model_module": "@jupyter-widgets/controls",
     "model_name": "HTMLModel",
     "state": {
      "_dom_classes": [],
      "_model_module": "@jupyter-widgets/controls",
      "_model_module_version": "1.5.0",
      "_model_name": "HTMLModel",
      "_view_count": null,
      "_view_module": "@jupyter-widgets/controls",
      "_view_module_version": "1.5.0",
      "_view_name": "HTMLView",
      "description": "",
      "description_tooltip": null,
      "layout": "IPY_MODEL_2def655e9d164ea8b2dc9d7e61409b37",
      "placeholder": "​",
      "style": "IPY_MODEL_f3002e964ada47fb8dea0c815108e963",
      "value": " 85.0/85.0 [00:00&lt;00:00, 147B/s]"
     }
    },
    "f901fa1ae07240e2a0a3d8573ec5b44b": {
     "model_module": "@jupyter-widgets/controls",
     "model_name": "HTMLModel",
     "state": {
      "_dom_classes": [],
      "_model_module": "@jupyter-widgets/controls",
      "_model_module_version": "1.5.0",
      "_model_name": "HTMLModel",
      "_view_count": null,
      "_view_module": "@jupyter-widgets/controls",
      "_view_module_version": "1.5.0",
      "_view_name": "HTMLView",
      "description": "",
      "description_tooltip": null,
      "layout": "IPY_MODEL_24995879e9b24c70af4148aee3e42d86",
      "placeholder": "​",
      "style": "IPY_MODEL_4bfcbd6a999546d2a87b29fb0ca6389b",
      "value": " 1070/1070 [03:42&lt;00:00,  4.82it/s]"
     }
    },
    "f95f15abe3c840b197392a68f6dd2b99": {
     "model_module": "@jupyter-widgets/controls",
     "model_name": "HBoxModel",
     "state": {
      "_dom_classes": [],
      "_model_module": "@jupyter-widgets/controls",
      "_model_module_version": "1.5.0",
      "_model_name": "HBoxModel",
      "_view_count": null,
      "_view_module": "@jupyter-widgets/controls",
      "_view_module_version": "1.5.0",
      "_view_name": "HBoxView",
      "box_style": "",
      "children": [
       "IPY_MODEL_165de7e4c15e491fa4448c203330e70d",
       "IPY_MODEL_119aeb0818954a51aca55c1717d9747b"
      ],
      "layout": "IPY_MODEL_5deded5564e04c75ac80d6f6878412fc"
     }
    },
    "fbe260cece994ab8a473f4354ececd79": {
     "model_module": "@jupyter-widgets/controls",
     "model_name": "FloatProgressModel",
     "state": {
      "_dom_classes": [],
      "_model_module": "@jupyter-widgets/controls",
      "_model_module_version": "1.5.0",
      "_model_name": "FloatProgressModel",
      "_view_count": null,
      "_view_module": "@jupyter-widgets/controls",
      "_view_module_version": "1.5.0",
      "_view_name": "ProgressView",
      "bar_style": "success",
      "description": "Downloading: 100%",
      "description_tooltip": null,
      "layout": "IPY_MODEL_d1a3b2ab841a489a94eaeb5832ade8d5",
      "max": 460,
      "min": 0,
      "orientation": "horizontal",
      "style": "IPY_MODEL_e8dd25544eb34d689661bd18d46e963b",
      "value": 460
     }
    }
   }
  }
 },
 "nbformat": 4,
 "nbformat_minor": 4
}
