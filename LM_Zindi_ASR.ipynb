{
 "cells": [
  {
   "cell_type": "markdown",
   "metadata": {
    "id": "6Tw0Lqm5073z"
   },
   "source": [
    "### Setup"
   ]
  },
  {
   "cell_type": "code",
   "execution_count": 1,
   "metadata": {
    "executionInfo": {
     "elapsed": 637,
     "status": "ok",
     "timestamp": 1618048785021,
     "user": {
      "displayName": "Roman Engeler",
      "photoUrl": "",
      "userId": "01825020783678319162"
     },
     "user_tz": -120
    },
    "id": "_CktwOwj01mM"
   },
   "outputs": [],
   "source": [
    "## path\n",
    "path = 'drive/MyDrive/Colab Notebooks/'"
   ]
  },
  {
   "cell_type": "code",
   "execution_count": 2,
   "metadata": {
    "executionInfo": {
     "elapsed": 41856,
     "status": "ok",
     "timestamp": 1618048826246,
     "user": {
      "displayName": "Roman Engeler",
      "photoUrl": "",
      "userId": "01825020783678319162"
     },
     "user_tz": -120
    },
    "id": "AAO8Kt4_1WlF"
   },
   "outputs": [],
   "source": [
    "%%capture\n",
    "!pip install datasets # to use\n",
    "!pip install git+https://github.com/huggingface/transformers # to user huggingface transformer\n",
    "!pip install jiwer # for wer metric\n",
    "\n",
    "!pip install -U pip\n",
    "!pip install -U dill\n",
    "!pip install -U nltk==3.4"
   ]
  },
  {
   "cell_type": "code",
   "execution_count": 3,
   "metadata": {
    "executionInfo": {
     "elapsed": 50773,
     "status": "ok",
     "timestamp": 1618048835167,
     "user": {
      "displayName": "Roman Engeler",
      "photoUrl": "",
      "userId": "01825020783678319162"
     },
     "user_tz": -120
    },
    "id": "l7iUidpl1aZ6"
   },
   "outputs": [],
   "source": [
    "## load packages\n",
    "import matplotlib.pyplot as plt\n",
    "import numpy as np\n",
    "import pandas as pd\n",
    "import random\n",
    "import os.path\n",
    "\n",
    "import torch\n",
    "\n",
    "import torch.nn as nn\n",
    "import torch.nn.functional as F\n",
    "\n",
    "from transformers import Wav2Vec2ForCTC, Wav2Vec2CTCTokenizer\n",
    "from transformers import Wav2Vec2FeatureExtractor, Wav2Vec2Processor\n",
    "\n",
    "from datasets import load_metric\n",
    "\n",
    "import librosa as lb\n",
    "\n",
    "from sklearn.model_selection import train_test_split\n",
    "\n",
    "from nltk.util import pad_sequence\n",
    "from nltk.util import ngrams, bigrams\n",
    "from nltk.lm.preprocessing import pad_both_ends\n",
    "from nltk.lm.preprocessing import flatten"
   ]
  },
  {
   "cell_type": "code",
   "execution_count": 4,
   "metadata": {
    "executionInfo": {
     "elapsed": 50772,
     "status": "ok",
     "timestamp": 1618048835169,
     "user": {
      "displayName": "Roman Engeler",
      "photoUrl": "",
      "userId": "01825020783678319162"
     },
     "user_tz": -120
    },
    "id": "gNqhX5Jf1lFh"
   },
   "outputs": [],
   "source": [
    "# seeding\n",
    "random.seed(10)\n",
    "np.random.seed(10)\n",
    "torch.manual_seed(10)\n",
    "torch.cuda.manual_seed_all(10)"
   ]
  },
  {
   "cell_type": "code",
   "execution_count": 5,
   "metadata": {
    "colab": {
     "base_uri": "https://localhost:8080/"
    },
    "executionInfo": {
     "elapsed": 67886,
     "status": "ok",
     "timestamp": 1618048852288,
     "user": {
      "displayName": "Roman Engeler",
      "photoUrl": "",
      "userId": "01825020783678319162"
     },
     "user_tz": -120
    },
    "id": "DoQppKuT1nst",
    "outputId": "e6d3374e-9f0e-4dc6-805e-cd17bcdeebe0"
   },
   "outputs": [
    {
     "name": "stdout",
     "output_type": "stream",
     "text": [
      "Mounted at /content/drive\n"
     ]
    }
   ],
   "source": [
    "## mount drive\n",
    "from google.colab import drive\n",
    "drive.mount('/content/drive')"
   ]
  },
  {
   "cell_type": "markdown",
   "metadata": {
    "id": "UVB9MG970-Zx"
   },
   "source": [
    "### Data"
   ]
  },
  {
   "cell_type": "code",
   "execution_count": 6,
   "metadata": {
    "executionInfo": {
     "elapsed": 83154,
     "status": "ok",
     "timestamp": 1618048867562,
     "user": {
      "displayName": "Roman Engeler",
      "photoUrl": "",
      "userId": "01825020783678319162"
     },
     "user_tz": -120
    },
    "id": "MILC_uop1nCg"
   },
   "outputs": [],
   "source": [
    "## read into memory (small)\n",
    "df = pd.read_feather('drive/MyDrive/Colab Notebooks/data/ASR_train_audio6683.ft')"
   ]
  },
  {
   "cell_type": "code",
   "execution_count": 7,
   "metadata": {
    "executionInfo": {
     "elapsed": 83150,
     "status": "ok",
     "timestamp": 1618048867562,
     "user": {
      "displayName": "Roman Engeler",
      "photoUrl": "",
      "userId": "01825020783678319162"
     },
     "user_tz": -120
    },
    "id": "vAoYH-gv1AA8"
   },
   "outputs": [],
   "source": [
    "## train valid split\n",
    "df_train, df_valid = train_test_split(df, test_size=0.2)"
   ]
  },
  {
   "cell_type": "markdown",
   "metadata": {
    "id": "M9ev0iGy1AyJ"
   },
   "source": [
    "### XLSR Model"
   ]
  },
  {
   "cell_type": "code",
   "execution_count": 8,
   "metadata": {
    "colab": {
     "base_uri": "https://localhost:8080/",
     "height": 264,
     "referenced_widgets": [
      "257a5575953645e681acd495ad737564",
      "28cdb30d3c8946d7b975196bc6eeedc8",
      "f655fd4b0eb4479399b5a28810e1e582",
      "a72b92aa1fd846969d4dcdccde11a646",
      "dfed9e1237be483db80992d3ae0530e5",
      "91f1b0bd22c649ffbaea6d89e34c899b",
      "207d2f0e56fd43f998cb719c5426e923",
      "343dd596399f4e5a93a98c1e7df6e71f",
      "fa0485a1f0824bb3b8cacea2c4bcdeda",
      "56ee2466ce2348ea887e9c18a68b3596",
      "c2fd705c51064e4aa4b8a6a7c238576e",
      "c0aac4a53090445abf42b67469587e64",
      "2e2d9c64c27d439b95a13224858b7113",
      "28cb380a64f8422981bdb85e00f296e0",
      "86334990f62b4fe0998d5610b021fe7c",
      "8fbbb39454364a2eaa46d2d307d290b1",
      "5b14977045cd4991a28450313d26f4bd",
      "c96bedd5b18b4d7c9f6ac2c24a1cc5a2",
      "bf645baad2b34321adece6d4a46374e5",
      "7887d3beca3041818ebcf34d25ba408b",
      "05aa5f9af1db4d409a18eaf0e9fc906e",
      "464d22a8339b44ddb7a885ed2e177b5b",
      "92bb5081a6d5456abb02236c590759eb",
      "80f31ad880a64a2abac86f4e89c9ce77",
      "0b66d8d7506c4d25bc14042b79f45260",
      "0185980eb3a8499cb6d3b32968c3146c",
      "bfb62465661e4ac4ad61d0b6aeb44384",
      "639ccc8298874da5b01d24d1e91ecec1",
      "691bf1ed7dd64cb2ad73933049ce5d45",
      "755b0428ee9348f0a9201d5adf3a5131",
      "398429f8d7cd4758baf30a504d5c265c",
      "64b6144e490f49389e727da9b12eabf9"
     ]
    },
    "executionInfo": {
     "elapsed": 195258,
     "status": "ok",
     "timestamp": 1618048979675,
     "user": {
      "displayName": "Roman Engeler",
      "photoUrl": "",
      "userId": "01825020783678319162"
     },
     "user_tz": -120
    },
    "id": "mQOfoGgp1ByH",
    "outputId": "214b0661-e436-4c2e-9bc8-416f12095449"
   },
   "outputs": [
    {
     "name": "stdout",
     "output_type": "stream",
     "text": [
      "Load model\n",
      "Load processor\n"
     ]
    },
    {
     "data": {
      "application/vnd.jupyter.widget-view+json": {
       "model_id": "257a5575953645e681acd495ad737564",
       "version_major": 2,
       "version_minor": 0
      },
      "text/plain": [
       "HBox(children=(FloatProgress(value=0.0, description='Downloading', max=460.0, style=ProgressStyle(description_…"
      ]
     },
     "metadata": {
      "tags": []
     },
     "output_type": "display_data"
    },
    {
     "name": "stdout",
     "output_type": "stream",
     "text": [
      "\n"
     ]
    },
    {
     "data": {
      "application/vnd.jupyter.widget-view+json": {
       "model_id": "fa0485a1f0824bb3b8cacea2c4bcdeda",
       "version_major": 2,
       "version_minor": 0
      },
      "text/plain": [
       "HBox(children=(FloatProgress(value=0.0, description='Downloading', max=378.0, style=ProgressStyle(description_…"
      ]
     },
     "metadata": {
      "tags": []
     },
     "output_type": "display_data"
    },
    {
     "name": "stdout",
     "output_type": "stream",
     "text": [
      "\n"
     ]
    },
    {
     "data": {
      "application/vnd.jupyter.widget-view+json": {
       "model_id": "5b14977045cd4991a28450313d26f4bd",
       "version_major": 2,
       "version_minor": 0
      },
      "text/plain": [
       "HBox(children=(FloatProgress(value=0.0, description='Downloading', max=85.0, style=ProgressStyle(description_w…"
      ]
     },
     "metadata": {
      "tags": []
     },
     "output_type": "display_data"
    },
    {
     "name": "stdout",
     "output_type": "stream",
     "text": [
      "\n"
     ]
    },
    {
     "data": {
      "application/vnd.jupyter.widget-view+json": {
       "model_id": "0b66d8d7506c4d25bc14042b79f45260",
       "version_major": 2,
       "version_minor": 0
      },
      "text/plain": [
       "HBox(children=(FloatProgress(value=0.0, description='Downloading', max=1764.0, style=ProgressStyle(description…"
      ]
     },
     "metadata": {
      "tags": []
     },
     "output_type": "display_data"
    },
    {
     "name": "stdout",
     "output_type": "stream",
     "text": [
      "\n",
      "0.10110470016977122\n"
     ]
    }
   ],
   "source": [
    "##\n",
    "# load XLSR model\n",
    "if not 'XLSRmodel' in globals():\n",
    "  print('Load model')\n",
    "  XLSRmodel = Wav2Vec2ForCTC.from_pretrained('./drive/MyDrive/Colab Notebooks/model/wav2vec2-large-xlsr-french-test/checkpoint-750/').to(\"cuda\")\n",
    "\n",
    "# load processor\n",
    "if not 'processor' in globals():\n",
    "  print('Load processor')\n",
    "  tokenizer = Wav2Vec2CTCTokenizer.from_pretrained(\"facebook/wav2vec2-large-xlsr-53-french\")\n",
    "  feature_extractor = Wav2Vec2FeatureExtractor(feature_size=1, sampling_rate=16000, padding_value=0.0, do_normalize=True, return_attention_mask=True)\n",
    "  processor = Wav2Vec2Processor(feature_extractor=feature_extractor, tokenizer=tokenizer)\n",
    "\n",
    "# prepare dataset\n",
    "def prepare_dataset(batch):\n",
    "    return processor(batch, return_tensors=\"pt\", sampling_rate=16*1e3)\n",
    "\n",
    "# word error rate\n",
    "wer_metric = load_metric(\"wer\")\n",
    "wer_ = []\n",
    "\n",
    "#\n",
    "input_dict = df_valid['audio_signal'].apply(prepare_dataset)\n",
    "\n",
    "for idx in range(len(df_valid)):\n",
    "  #print('-----------------')\n",
    "  logits = XLSRmodel(input_dict.values[idx].input_values.to(\"cuda\")).logits\n",
    "  pred_ids = torch.argmax(logits, dim=-1)[0]\n",
    "\n",
    "  #print(\"Prediction:\")\n",
    "  pred_str = processor.decode(pred_ids)\n",
    "  #print(pred_str)\n",
    "\n",
    "  #print(\"\\nReference:\")\n",
    "  label_str = df_valid[\"transcription\"].values[idx].lower()\n",
    "  #print(label_str)\n",
    "\n",
    "  # need same length for wer_metric\n",
    "  label_str = label_str.ljust(len(pred_str))\n",
    "  pred_str = pred_str.ljust(len(label_str))\n",
    "  wer_.append(wer_metric.compute(predictions=[pred_str], references=[label_str]))\n",
    "\n",
    "print(np.mean(wer_))"
   ]
  },
  {
   "cell_type": "markdown",
   "metadata": {
    "id": "Z352pFrf1CSN"
   },
   "source": [
    "### Language Model"
   ]
  },
  {
   "cell_type": "code",
   "execution_count": 9,
   "metadata": {
    "executionInfo": {
     "elapsed": 195254,
     "status": "ok",
     "timestamp": 1618048979676,
     "user": {
      "displayName": "Roman Engeler",
      "photoUrl": "",
      "userId": "01825020783678319162"
     },
     "user_tz": -120
    },
    "id": "D7l35GDh3AHc"
   },
   "outputs": [],
   "source": [
    "# to be considered\n",
    "# model produces output of the form (CTC)\n",
    "# <pad> <pad> <pad> <pad> <pad> <pad> r <pad> <pad> o u u <pad> <pad> t <pad> <pad> e <pad>\n",
    "# => do we perform beam search on this sequence or first clean up the <pad> tokens?"
   ]
  },
  {
   "cell_type": "markdown",
   "metadata": {
    "id": "OgboLRG43Hpp"
   },
   "source": [
    "#### Beam Search"
   ]
  },
  {
   "cell_type": "code",
   "execution_count": 10,
   "metadata": {
    "executionInfo": {
     "elapsed": 195247,
     "status": "ok",
     "timestamp": 1618048979676,
     "user": {
      "displayName": "Roman Engeler",
      "photoUrl": "",
      "userId": "01825020783678319162"
     },
     "user_tz": -120
    },
    "id": "Oh7Hwn5g3AEx"
   },
   "outputs": [],
   "source": [
    "# Beam Search\n",
    "# https://towardsdatascience.com/boosting-your-sequence-generation-performance-with-beam-search-language-model-decoding-74ee64de435a\n",
    "\n",
    "import math\n",
    "\n",
    "def beam_search_decoder(predictions, top_k = 3):\n",
    "    #start with an empty sequence with zero score\n",
    "    output_sequences = [([], 0)]\n",
    "    \n",
    "    #looping through all the predictions\n",
    "    for token_probs in predictions:\n",
    "        new_sequences = []\n",
    "        \n",
    "        #append new tokens to old sequences and re-score\n",
    "        for old_seq, old_score in output_sequences:\n",
    "            for char_index in range(len(token_probs)):\n",
    "                new_seq = old_seq + [char_index]\n",
    "                #considering log-likelihood for scoring\n",
    "                new_score = old_score + math.log(token_probs[char_index])\n",
    "                new_sequences.append((new_seq, new_score))\n",
    "                \n",
    "        #sort all new sequences in the de-creasing order of their score\n",
    "        output_sequences = sorted(new_sequences, key = lambda val: val[1], reverse = True)\n",
    "        \n",
    "        #select top-k based on score \n",
    "        # *Note- best sequence is with the highest score\n",
    "        output_sequences = output_sequences[:top_k]\n",
    "        \n",
    "    return output_sequences"
   ]
  },
  {
   "cell_type": "markdown",
   "metadata": {
    "id": "I3F24ZyA3LQ9"
   },
   "source": [
    "#### Language Model"
   ]
  },
  {
   "cell_type": "code",
   "execution_count": 11,
   "metadata": {
    "colab": {
     "base_uri": "https://localhost:8080/",
     "height": 35
    },
    "executionInfo": {
     "elapsed": 195243,
     "status": "ok",
     "timestamp": 1618048979677,
     "user": {
      "displayName": "Roman Engeler",
      "photoUrl": "",
      "userId": "01825020783678319162"
     },
     "user_tz": -120
    },
    "id": "NZ2OOznq3AC7",
    "outputId": "f1e5b2a3-d12b-42b7-e577-3fc6f26c71ed"
   },
   "outputs": [
    {
     "data": {
      "application/vnd.google.colaboratory.intrinsic+json": {
       "type": "string"
      },
      "text/plain": [
       "\"\\n# materialize\\nfor ngramlize_sent in train_data:\\n    print(list(ngramlize_sent))\\n    print()\\nprint('#############')\\nlist(padded_sents)\\n\""
      ]
     },
     "execution_count": 11,
     "metadata": {
      "tags": []
     },
     "output_type": "execute_result"
    }
   ],
   "source": [
    "# need to find optimal n of n-gram\n",
    "\n",
    "## Language Model (n-gram vs KenLM)\n",
    "# https://surfertas.github.io/deeplearning/pytorch/2017/08/20/n-gram.html # pytorch code (NN parametrization of LM)\n",
    "# https://web.stanford.edu/~jurafsky/slp3/slides/LM_4.pdf\n",
    "# https://www.kaggle.com/alvations/n-gram-language-model-with-nltk # code taken from here\n",
    "# https://web.stanford.edu/~jurafsky/slp3/old_oct19/3.pdf -> improvements to LM's\n",
    "\n",
    "df_lm = df_train[:5]\n",
    "\n",
    "from nltk.util import ngrams, bigrams\n",
    "from nltk.lm.preprocessing import padded_everygram_pipeline\n",
    "\n",
    "from nltk.lm import MLE\n",
    "\n",
    "# padding\n",
    "from nltk.lm.preprocessing import pad_both_ends\n",
    "#print(list(pad_both_ends(df_lm['transcription'].values[0], n=2)))\n",
    "#print(list(bigrams(pad_both_ends(df_lm['transcription'].values[0], n=2))))\n",
    "\n",
    "'''\n",
    "# materialize\n",
    "for ngramlize_sent in train_data:\n",
    "    print(list(ngramlize_sent))\n",
    "    print()\n",
    "print('#############')\n",
    "list(padded_sents)\n",
    "'''"
   ]
  },
  {
   "cell_type": "code",
   "execution_count": 12,
   "metadata": {
    "executionInfo": {
     "elapsed": 195237,
     "status": "ok",
     "timestamp": 1618048979678,
     "user": {
      "displayName": "Roman Engeler",
      "photoUrl": "",
      "userId": "01825020783678319162"
     },
     "user_tz": -120
    },
    "id": "cD79x0G12__v"
   },
   "outputs": [],
   "source": [
    "def train_ngram(LMmodel, data):\n",
    "  '''\n",
    "  input: model, list of sentences\n",
    "  output: trained model\n",
    "  '''\n",
    "\n",
    "  # one long string of words\n",
    "  word_string = ' '.join(data)\n",
    "\n",
    "  # one long list of words\n",
    "  word_list = word_string.split(' ')\n",
    "\n",
    "  # lower casing\n",
    "  word_list_lower = [list(map(str.lower, [word]))[0]\n",
    "                     for word in word_list]\n",
    "\n",
    "  # preprocess for language model\n",
    "  train_data, padded_words = padded_everygram_pipeline(3, word_list_lower)\n",
    "  \n",
    "  # fit model\n",
    "  LMmodel.fit(train_data, padded_words)\n",
    "\n",
    "  return LMmodel"
   ]
  },
  {
   "cell_type": "code",
   "execution_count": 13,
   "metadata": {
    "colab": {
     "base_uri": "https://localhost:8080/",
     "height": 86
    },
    "executionInfo": {
     "elapsed": 198010,
     "status": "ok",
     "timestamp": 1618048982456,
     "user": {
      "displayName": "Roman Engeler",
      "photoUrl": "",
      "userId": "01825020783678319162"
     },
     "user_tz": -120
    },
    "id": "YI3YS3j72_9O",
    "outputId": "d636ceec-fdd0-48b0-e810-970ab5619a19"
   },
   "outputs": [
    {
     "name": "stdout",
     "output_type": "stream",
     "text": [
      "<Vocabulary with cutoff=1 unk_label='<UNK>' and 44 items>\n",
      "49\n"
     ]
    },
    {
     "data": {
      "application/vnd.google.colaboratory.intrinsic+json": {
       "type": "string"
      },
      "text/plain": [
       "\"\\nprint(LMmodel.counts['c'])\\nprint(LMmodel.counts[['c']]['o'])  # P('o'|'c')\\nprint(LMmodel.score('o', ['c']))\\nprint(LMmodel.vocab.lookup([char for char in test_lower[5]]))\\n\""
      ]
     },
     "execution_count": 13,
     "metadata": {
      "tags": []
     },
     "output_type": "execute_result"
    }
   ],
   "source": [
    "## language model\n",
    "# IMPORTANT there seems to be a missmatch in the vocabulary (44 vs 49 chars)\n",
    "LMmodel = MLE(3) # Lets train a 2-gram model\n",
    "LMmodel = train_ngram(LMmodel, df_train['transcription'].values)\n",
    "print(LMmodel.vocab)\n",
    "print(len(tokenizer.get_vocab()))\n",
    "\n",
    "'''\n",
    "print(LMmodel.counts['c'])\n",
    "print(LMmodel.counts[['c']]['o'])  # P('o'|'c')\n",
    "print(LMmodel.score('o', ['c']))\n",
    "print(LMmodel.vocab.lookup([char for char in test_lower[5]]))\n",
    "'''"
   ]
  },
  {
   "cell_type": "code",
   "execution_count": 14,
   "metadata": {
    "colab": {
     "base_uri": "https://localhost:8080/"
    },
    "executionInfo": {
     "elapsed": 198006,
     "status": "ok",
     "timestamp": 1618048982457,
     "user": {
      "displayName": "Roman Engeler",
      "photoUrl": "",
      "userId": "01825020783678319162"
     },
     "user_tz": -120
    },
    "id": "r06wXfQlqmEV",
    "outputId": "1b6b97d2-0f22-4a4d-f33b-9bdffbc5c025"
   },
   "outputs": [
    {
     "name": "stdout",
     "output_type": "stream",
     "text": [
      "['<s>', 's', 'o', 'n', 'a', 't', 'e', 'l', '</s>', 'd', 'h', 'm', 'i', 'c', 'r', 'u', 'f', 'q', 'b', 'k', 'p', 'y', 'é', 'g', 'è', 'v', 'x', \"'\", 'j', 'w', 'z', '-', '’', 'ë', ',', '(', ')', 'ô', 'î', 'â', 'œ', 'ç', '\"', '<UNK>']\n"
     ]
    }
   ],
   "source": [
    "# voabulary of language model (extracted from data)\n",
    "print([ch for ch in LMmodel.vocab])"
   ]
  },
  {
   "cell_type": "code",
   "execution_count": 15,
   "metadata": {
    "colab": {
     "base_uri": "https://localhost:8080/"
    },
    "executionInfo": {
     "elapsed": 198001,
     "status": "ok",
     "timestamp": 1618048982457,
     "user": {
      "displayName": "Roman Engeler",
      "photoUrl": "",
      "userId": "01825020783678319162"
     },
     "user_tz": -120
    },
    "id": "g1_X0PHppglm",
    "outputId": "b5420dcd-e557-445a-88a5-f23a209d2e51"
   },
   "outputs": [
    {
     "name": "stdout",
     "output_type": "stream",
     "text": [
      "dict_keys(['<pad>', '<s>', '</s>', '<unk>', '|', 'E', 'S', 'A', 'I', 'T', 'N', 'R', 'U', 'L', 'O', 'D', 'M', 'C', 'P', 'É', 'V', \"'\", 'Q', 'F', 'G', 'B', 'H', 'J', 'À', 'X', 'È', 'Y', '-', 'Ê', 'Z', 'Â', 'Ç', 'Î', 'Ô', 'Û', 'Ù', 'K', 'Œ', 'Ï', 'W', 'Ë', 'Ü', 'Æ', 'Ÿ'])\n"
     ]
    }
   ],
   "source": [
    "# vocabulary used by tokenizer (french alphabet)\n",
    "vocab_dict = {v: k for k, v in enumerate(tokenizer.get_vocab())}\n",
    "print(vocab_dict.keys())"
   ]
  },
  {
   "cell_type": "markdown",
   "metadata": {
    "id": "_qvwRJ8l3Xiy"
   },
   "source": [
    "#### Pipeline"
   ]
  },
  {
   "cell_type": "code",
   "execution_count": 16,
   "metadata": {
    "executionInfo": {
     "elapsed": 197994,
     "status": "ok",
     "timestamp": 1618048982458,
     "user": {
      "displayName": "Roman Engeler",
      "photoUrl": "",
      "userId": "01825020783678319162"
     },
     "user_tz": -120
    },
    "id": "GJIQfTGZ2_6w"
   },
   "outputs": [],
   "source": [
    "# TODO: how to solve the decreasing probability of longer words?\n",
    "def ngram_logprobability(sentence):\n",
    "    log_prob = 0\n",
    "    count = 0\n",
    "    for words in sentence:\n",
    "      for ngram in words:\n",
    "        log_prob += max([np.log(LMmodel.score(ngram[2], [ngram[0], ngram[1]])), -1e3]) # to avoid log(0) for unknown chars\n",
    "        count += 1\n",
    "    return np.power(np.exp(log_prob), 1/count) # (inverse) perplexity to account for different word/ sentence length"
   ]
  },
  {
   "cell_type": "code",
   "execution_count": 17,
   "metadata": {
    "executionInfo": {
     "elapsed": 197989,
     "status": "ok",
     "timestamp": 1618048982458,
     "user": {
      "displayName": "Roman Engeler",
      "photoUrl": "",
      "userId": "01825020783678319162"
     },
     "user_tz": -120
    },
    "id": "R_tgrLoB2_31"
   },
   "outputs": [],
   "source": [
    "def logprob_sentences(sentences):\n",
    "  '''\n",
    "  input: list of sentences\n",
    "  output: log probability for sentences\n",
    "  '''\n",
    "  # list with log probabilities\n",
    "  log_probs = len(sentences)* [-np.infty]\n",
    "\n",
    "  #\n",
    "  list_sentences = [sentence.split(' ') for sentence in sentences]\n",
    "\n",
    "  # lower casing\n",
    "  for k in range(len(list_sentences)):\n",
    "    list_sentences[k] = [list(map(str.lower, [sent]))[0]\n",
    "                        for sent in list_sentences[k]]\n",
    "\n",
    "  # list(sentence_list(word_list(ngrams)))\n",
    "  list_ngrams = [[list(ngrams(pad_both_ends(word, n=3), n=3)) for word in sentence] for sentence in list_sentences]\n",
    "\n",
    "  for k, sentence in enumerate(list_ngrams):\n",
    "    log_probs[k] = ngram_logprobability(sentence)\n",
    "\n",
    "  return log_probs"
   ]
  },
  {
   "cell_type": "code",
   "execution_count": 18,
   "metadata": {
    "colab": {
     "base_uri": "https://localhost:8080/"
    },
    "executionInfo": {
     "elapsed": 197985,
     "status": "ok",
     "timestamp": 1618048982459,
     "user": {
      "displayName": "Roman Engeler",
      "photoUrl": "",
      "userId": "01825020783678319162"
     },
     "user_tz": -120
    },
    "id": "CTHSNpfq88_H",
    "outputId": "4949ebb3-cbc3-4ead-93bb-8c290af0efe7"
   },
   "outputs": [
    {
     "data": {
      "text/plain": [
       "array(['Sonatel des HLM', 'Thiossane', 'Ecole Castor Rufisque',\n",
       "       'Terrain Basket', 'Pharmacie Baye Niasse'], dtype=object)"
      ]
     },
     "execution_count": 18,
     "metadata": {
      "tags": []
     },
     "output_type": "execute_result"
    }
   ],
   "source": [
    "df_lm['transcription'].values"
   ]
  },
  {
   "cell_type": "code",
   "execution_count": 19,
   "metadata": {
    "colab": {
     "base_uri": "https://localhost:8080/"
    },
    "executionInfo": {
     "elapsed": 197980,
     "status": "ok",
     "timestamp": 1618048982459,
     "user": {
      "displayName": "Roman Engeler",
      "photoUrl": "",
      "userId": "01825020783678319162"
     },
     "user_tz": -120
    },
    "id": "eZ8j_BQvUQUd",
    "outputId": "2ae296b2-8bf5-4269-8e71-e0d18e31a2cb"
   },
   "outputs": [
    {
     "data": {
      "text/plain": [
       "0.2956521739130435"
      ]
     },
     "execution_count": 19,
     "metadata": {
      "tags": []
     },
     "output_type": "execute_result"
    }
   ],
   "source": [
    "LMmodel.score('n', ['s', 'o'])"
   ]
  },
  {
   "cell_type": "code",
   "execution_count": 20,
   "metadata": {
    "colab": {
     "base_uri": "https://localhost:8080/"
    },
    "executionInfo": {
     "elapsed": 197970,
     "status": "ok",
     "timestamp": 1618048982460,
     "user": {
      "displayName": "Roman Engeler",
      "photoUrl": "",
      "userId": "01825020783678319162"
     },
     "user_tz": -120
    },
    "id": "o2CjLTGP2_vm",
    "outputId": "b9e7bf7d-8650-440a-d039-22be229720e7"
   },
   "outputs": [
    {
     "name": "stderr",
     "output_type": "stream",
     "text": [
      "/usr/local/lib/python3.7/dist-packages/ipykernel_launcher.py:7: RuntimeWarning: divide by zero encountered in log\n",
      "  import sys\n"
     ]
    },
    {
     "data": {
      "text/plain": [
       "[0.0, 0.2517159068513733, 0.0]"
      ]
     },
     "execution_count": 20,
     "metadata": {
      "tags": []
     },
     "output_type": "execute_result"
    }
   ],
   "source": [
    "logprob_sentences(['terrrain', 'terrain', 'terain'])"
   ]
  },
  {
   "cell_type": "code",
   "execution_count": 21,
   "metadata": {
    "executionInfo": {
     "elapsed": 204542,
     "status": "ok",
     "timestamp": 1618048989036,
     "user": {
      "displayName": "Roman Engeler",
      "photoUrl": "",
      "userId": "01825020783678319162"
     },
     "user_tz": -120
    },
    "id": "6yQsqSimClN_"
   },
   "outputs": [],
   "source": [
    "#\n",
    "input_dict = df_valid['audio_signal'].apply(prepare_dataset)"
   ]
  },
  {
   "cell_type": "code",
   "execution_count": 22,
   "metadata": {
    "colab": {
     "base_uri": "https://localhost:8080/"
    },
    "executionInfo": {
     "elapsed": 351484,
     "status": "ok",
     "timestamp": 1618049135985,
     "user": {
      "displayName": "Roman Engeler",
      "photoUrl": "",
      "userId": "01825020783678319162"
     },
     "user_tz": -120
    },
    "id": "81zQn2aG1EVU",
    "outputId": "1278679a-90c9-4e67-d651-ad51687210bc"
   },
   "outputs": [
    {
     "name": "stderr",
     "output_type": "stream",
     "text": [
      "/usr/local/lib/python3.7/dist-packages/ipykernel_launcher.py:7: RuntimeWarning: divide by zero encountered in log\n",
      "  import sys\n"
     ]
    },
    {
     "name": "stdout",
     "output_type": "stream",
     "text": [
      "0.10848054754187887\n"
     ]
    }
   ],
   "source": [
    "# ATTENTION: XLSR model seems to be overconfident -> places all probability mass on one logit\n",
    "## Predictions\n",
    "nbeams = 10\n",
    "\n",
    "# word error rate\n",
    "wer_ = []\n",
    "\n",
    "#\n",
    "softmax = nn.Softmax(dim=2)\n",
    "\n",
    "for idx in range(len(df_valid)):\n",
    "  #print('-----------------')\n",
    "  logits = XLSRmodel(input_dict.values[idx].input_values.to(\"cuda\")).logits\n",
    "  output = softmax(logits) # logits -> probabilities\n",
    "\n",
    "  # beam search\n",
    "  beams_int = beam_search_decoder(torch.squeeze(output).tolist(), top_k = nbeams) # beams\n",
    "  beams_str = nbeams*['']\n",
    "\n",
    "  for k in range(nbeams):\n",
    "    pred_ids, pred_prob = beams_int[k]\n",
    "    beams_str[k] = processor.decode(pred_ids)\n",
    "\n",
    "  # prediction P(final) = Alpha * P(model) + Beta * P(L.M.)\n",
    "  logprob = logprob_sentences(beams_str)\n",
    "  pred_str = beams_str[np.argmax(logprob)]\n",
    "\n",
    "  #print(\"\\nReference:\")\n",
    "  label_str = df_valid[\"transcription\"].values[idx].lower()\n",
    "\n",
    "  # need same length for wer_metric\n",
    "  label_str = label_str.ljust(len(pred_str))\n",
    "  pred_str = pred_str.ljust(len(label_str))\n",
    "\n",
    "  wer_.append(wer_metric.compute(predictions=[pred_str], references=[label_str]))\n",
    "\n",
    "print(np.mean(wer_))"
   ]
  },
  {
   "cell_type": "markdown",
   "metadata": {
    "id": "FtWwOM_31G1E"
   },
   "source": [
    "### Prediction"
   ]
  },
  {
   "cell_type": "code",
   "execution_count": 23,
   "metadata": {
    "executionInfo": {
     "elapsed": 354396,
     "status": "ok",
     "timestamp": 1618049138906,
     "user": {
      "displayName": "Roman Engeler",
      "photoUrl": "",
      "userId": "01825020783678319162"
     },
     "user_tz": -120
    },
    "id": "4cAyWHup1IGk"
   },
   "outputs": [],
   "source": [
    "## prediction\n",
    "# load data (dataframe) -> empty entries\n",
    "df_test = pd.read_feather('drive/MyDrive/Colab Notebooks/data/ASR_test_audio1564.ft')\n",
    "df_test = df_test[['ID', 'audio_signal']]\n",
    "\n",
    "df_test.head()\n",
    "\n",
    "def prepare_dataset(batch):\n",
    "    return processor(batch, return_tensors=\"pt\", sampling_rate=16*1e3)"
   ]
  },
  {
   "cell_type": "code",
   "execution_count": 38,
   "metadata": {
    "executionInfo": {
     "elapsed": 7906,
     "status": "ok",
     "timestamp": 1618051039532,
     "user": {
      "displayName": "Roman Engeler",
      "photoUrl": "",
      "userId": "01825020783678319162"
     },
     "user_tz": -120
    },
    "id": "EWVuQMO9WoWL"
   },
   "outputs": [],
   "source": [
    "#\n",
    "input_dict = df_test['audio_signal'].apply(prepare_dataset)"
   ]
  },
  {
   "cell_type": "code",
   "execution_count": 1,
   "metadata": {
    "colab": {
     "base_uri": "https://localhost:8080/",
     "height": 232
    },
    "executionInfo": {
     "elapsed": 1073,
     "status": "error",
     "timestamp": 1618055375657,
     "user": {
      "displayName": "Roman Engeler",
      "photoUrl": "",
      "userId": "01825020783678319162"
     },
     "user_tz": -120
    },
    "id": "h4tNbrEyNLnJ",
    "outputId": "d748cd0e-4d53-49bc-ddeb-b07b705e975c"
   },
   "outputs": [
    {
     "ename": "NameError",
     "evalue": "ignored",
     "output_type": "error",
     "traceback": [
      "\u001b[0;31m---------------------------------------------------------------------------\u001b[0m",
      "\u001b[0;31mNameError\u001b[0m                                 Traceback (most recent call last)",
      "\u001b[0;32m<ipython-input-1-36ed8713065f>\u001b[0m in \u001b[0;36m<module>\u001b[0;34m()\u001b[0m\n\u001b[1;32m     11\u001b[0m \u001b[0;34m\u001b[0m\u001b[0m\n\u001b[1;32m     12\u001b[0m \u001b[0;31m#\u001b[0m\u001b[0;34m\u001b[0m\u001b[0;34m\u001b[0m\u001b[0;34m\u001b[0m\u001b[0m\n\u001b[0;32m---> 13\u001b[0;31m \u001b[0msoftmax\u001b[0m \u001b[0;34m=\u001b[0m \u001b[0mnn\u001b[0m\u001b[0;34m.\u001b[0m\u001b[0mSoftmax\u001b[0m\u001b[0;34m(\u001b[0m\u001b[0mdim\u001b[0m\u001b[0;34m=\u001b[0m\u001b[0;36m2\u001b[0m\u001b[0;34m)\u001b[0m\u001b[0;34m\u001b[0m\u001b[0;34m\u001b[0m\u001b[0m\n\u001b[0m\u001b[1;32m     14\u001b[0m \u001b[0;34m\u001b[0m\u001b[0m\n\u001b[1;32m     15\u001b[0m \u001b[0;31m# run through model and decoder\u001b[0m\u001b[0;34m\u001b[0m\u001b[0;34m\u001b[0m\u001b[0;34m\u001b[0m\u001b[0m\n",
      "\u001b[0;31mNameError\u001b[0m: name 'nn' is not defined"
     ]
    }
   ],
   "source": [
    "# run through processor\n",
    "import difflib\n",
    "#input_dict = df_test['audio_signal'].apply(prepare_dataset)\n",
    "preds = []\n",
    "\n",
    "\n",
    "nbeams = 10\n",
    "\n",
    "# word error rate\n",
    "wer_ = []\n",
    "\n",
    "#\n",
    "softmax = nn.Softmax(dim=2)\n",
    "\n",
    "# run through model and decoder\n",
    "for i in range(len(df_test)):\n",
    "  logits = XLSRmodel(input_dict.values[i].input_values.to('cuda')).logits\n",
    "  output = softmax(logits) # logits -> probabilities\n",
    "  \n",
    "  # beam search\n",
    "  beams_int = beam_search_decoder(torch.squeeze(output).tolist(), top_k = nbeams) # beams\n",
    "  beams_str = nbeams*['']\n",
    "\n",
    "  print(beams_str)\n",
    "  if i == 10:\n",
    "    break\n",
    "\n",
    "  for k in range(nbeams):\n",
    "    pred_ids, pred_prob = beams_int[k]\n",
    "    beams_str[k] = processor.decode(pred_ids)\n",
    "\n",
    "  # prediction P(final) = Alpha * P(model) + Beta * P(L.M.)\n",
    "  logprob = logprob_sentences(beams_str)\n",
    "  pred_str = beams_str[np.argmax(logprob)]\n",
    "\n",
    "  preds.append(pred_str)\n",
    "  '''\n",
    "  print('------')\n",
    "  print(pred_str)\n",
    "\n",
    "  print([difflib.get_close_matches(word, xv, n=3) for word in processor.decode(pred_ids).split(' ')])\n",
    "\n",
    "  if i == 10:\n",
    "    break\n",
    "  '''\n",
    "\n",
    "  '''\n",
    "  pred = []\n",
    "  for word in processor.decode(pred_ids[0]).split(' '):\n",
    "    sim = difflib.get_close_matches(word, xv, n=3)\n",
    "    if sim == []:\n",
    "      sim = word\n",
    "    else:\n",
    "      sim = sim[0]\n",
    "        \n",
    "    pred.append(sim)\n",
    "  \n",
    "  preds.append(' '.join(pred))\n",
    "  '''\n",
    "\n",
    "\n",
    "# save as csv\n",
    "dfpred = pd.DataFrame(list(zip(list(df_test['ID'].values), preds)), columns=['ID', 'transcription'])\n",
    "dfpred.to_csv('./drive/MyDrive/Colab Notebooks/predictionsLM_10Apr.csv', index=False)"
   ]
  },
  {
   "cell_type": "code",
   "execution_count": 26,
   "metadata": {
    "executionInfo": {
     "elapsed": 1075,
     "status": "ok",
     "timestamp": 1618050098812,
     "user": {
      "displayName": "Roman Engeler",
      "photoUrl": "",
      "userId": "01825020783678319162"
     },
     "user_tz": -120
    },
    "id": "lNQXxwR5NuGC"
   },
   "outputs": [],
   "source": [
    "from nltk.probability import FreqDist\n",
    "from wordcloud import WordCloud, ImageColorGenerator\n",
    "\n",
    "#\n",
    "words = df['transcription']\n",
    "allwords = []\n",
    "\n",
    "for wordlist in words:\n",
    "  allwords += list(wordlist.lower().split())\n",
    "\n",
    "# histogram\n",
    "mostcommon_small = FreqDist(allwords).most_common(10000)\n",
    "xv, yv = zip(*mostcommon_small)"
   ]
  },
  {
   "cell_type": "code",
   "execution_count": null,
   "metadata": {
    "id": "cazQLYfATOr6"
   },
   "outputs": [],
   "source": []
  }
 ],
 "metadata": {
  "accelerator": "GPU",
  "colab": {
   "authorship_tag": "ABX9TyNGT6rFQKHnQB4GGQ7Leosq",
   "collapsed_sections": [],
   "name": "LM_Zindi_ASR.ipynb",
   "provenance": []
  },
  "kernelspec": {
   "display_name": "Python 3",
   "language": "python",
   "name": "python3"
  },
  "language_info": {
   "codemirror_mode": {
    "name": "ipython",
    "version": 3
   },
   "file_extension": ".py",
   "mimetype": "text/x-python",
   "name": "python",
   "nbconvert_exporter": "python",
   "pygments_lexer": "ipython3",
   "version": "3.8.5"
  },
  "widgets": {
   "application/vnd.jupyter.widget-state+json": {
    "0185980eb3a8499cb6d3b32968c3146c": {
     "model_module": "@jupyter-widgets/base",
     "model_name": "LayoutModel",
     "state": {
      "_model_module": "@jupyter-widgets/base",
      "_model_module_version": "1.2.0",
      "_model_name": "LayoutModel",
      "_view_count": null,
      "_view_module": "@jupyter-widgets/base",
      "_view_module_version": "1.2.0",
      "_view_name": "LayoutView",
      "align_content": null,
      "align_items": null,
      "align_self": null,
      "border": null,
      "bottom": null,
      "display": null,
      "flex": null,
      "flex_flow": null,
      "grid_area": null,
      "grid_auto_columns": null,
      "grid_auto_flow": null,
      "grid_auto_rows": null,
      "grid_column": null,
      "grid_gap": null,
      "grid_row": null,
      "grid_template_areas": null,
      "grid_template_columns": null,
      "grid_template_rows": null,
      "height": null,
      "justify_content": null,
      "justify_items": null,
      "left": null,
      "margin": null,
      "max_height": null,
      "max_width": null,
      "min_height": null,
      "min_width": null,
      "object_fit": null,
      "object_position": null,
      "order": null,
      "overflow": null,
      "overflow_x": null,
      "overflow_y": null,
      "padding": null,
      "right": null,
      "top": null,
      "visibility": null,
      "width": null
     }
    },
    "05aa5f9af1db4d409a18eaf0e9fc906e": {
     "model_module": "@jupyter-widgets/controls",
     "model_name": "ProgressStyleModel",
     "state": {
      "_model_module": "@jupyter-widgets/controls",
      "_model_module_version": "1.5.0",
      "_model_name": "ProgressStyleModel",
      "_view_count": null,
      "_view_module": "@jupyter-widgets/base",
      "_view_module_version": "1.2.0",
      "_view_name": "StyleView",
      "bar_color": null,
      "description_width": "initial"
     }
    },
    "0b66d8d7506c4d25bc14042b79f45260": {
     "model_module": "@jupyter-widgets/controls",
     "model_name": "HBoxModel",
     "state": {
      "_dom_classes": [],
      "_model_module": "@jupyter-widgets/controls",
      "_model_module_version": "1.5.0",
      "_model_name": "HBoxModel",
      "_view_count": null,
      "_view_module": "@jupyter-widgets/controls",
      "_view_module_version": "1.5.0",
      "_view_name": "HBoxView",
      "box_style": "",
      "children": [
       "IPY_MODEL_bfb62465661e4ac4ad61d0b6aeb44384",
       "IPY_MODEL_639ccc8298874da5b01d24d1e91ecec1"
      ],
      "layout": "IPY_MODEL_0185980eb3a8499cb6d3b32968c3146c"
     }
    },
    "207d2f0e56fd43f998cb719c5426e923": {
     "model_module": "@jupyter-widgets/controls",
     "model_name": "DescriptionStyleModel",
     "state": {
      "_model_module": "@jupyter-widgets/controls",
      "_model_module_version": "1.5.0",
      "_model_name": "DescriptionStyleModel",
      "_view_count": null,
      "_view_module": "@jupyter-widgets/base",
      "_view_module_version": "1.2.0",
      "_view_name": "StyleView",
      "description_width": ""
     }
    },
    "257a5575953645e681acd495ad737564": {
     "model_module": "@jupyter-widgets/controls",
     "model_name": "HBoxModel",
     "state": {
      "_dom_classes": [],
      "_model_module": "@jupyter-widgets/controls",
      "_model_module_version": "1.5.0",
      "_model_name": "HBoxModel",
      "_view_count": null,
      "_view_module": "@jupyter-widgets/controls",
      "_view_module_version": "1.5.0",
      "_view_name": "HBoxView",
      "box_style": "",
      "children": [
       "IPY_MODEL_f655fd4b0eb4479399b5a28810e1e582",
       "IPY_MODEL_a72b92aa1fd846969d4dcdccde11a646"
      ],
      "layout": "IPY_MODEL_28cdb30d3c8946d7b975196bc6eeedc8"
     }
    },
    "28cb380a64f8422981bdb85e00f296e0": {
     "model_module": "@jupyter-widgets/base",
     "model_name": "LayoutModel",
     "state": {
      "_model_module": "@jupyter-widgets/base",
      "_model_module_version": "1.2.0",
      "_model_name": "LayoutModel",
      "_view_count": null,
      "_view_module": "@jupyter-widgets/base",
      "_view_module_version": "1.2.0",
      "_view_name": "LayoutView",
      "align_content": null,
      "align_items": null,
      "align_self": null,
      "border": null,
      "bottom": null,
      "display": null,
      "flex": null,
      "flex_flow": null,
      "grid_area": null,
      "grid_auto_columns": null,
      "grid_auto_flow": null,
      "grid_auto_rows": null,
      "grid_column": null,
      "grid_gap": null,
      "grid_row": null,
      "grid_template_areas": null,
      "grid_template_columns": null,
      "grid_template_rows": null,
      "height": null,
      "justify_content": null,
      "justify_items": null,
      "left": null,
      "margin": null,
      "max_height": null,
      "max_width": null,
      "min_height": null,
      "min_width": null,
      "object_fit": null,
      "object_position": null,
      "order": null,
      "overflow": null,
      "overflow_x": null,
      "overflow_y": null,
      "padding": null,
      "right": null,
      "top": null,
      "visibility": null,
      "width": null
     }
    },
    "28cdb30d3c8946d7b975196bc6eeedc8": {
     "model_module": "@jupyter-widgets/base",
     "model_name": "LayoutModel",
     "state": {
      "_model_module": "@jupyter-widgets/base",
      "_model_module_version": "1.2.0",
      "_model_name": "LayoutModel",
      "_view_count": null,
      "_view_module": "@jupyter-widgets/base",
      "_view_module_version": "1.2.0",
      "_view_name": "LayoutView",
      "align_content": null,
      "align_items": null,
      "align_self": null,
      "border": null,
      "bottom": null,
      "display": null,
      "flex": null,
      "flex_flow": null,
      "grid_area": null,
      "grid_auto_columns": null,
      "grid_auto_flow": null,
      "grid_auto_rows": null,
      "grid_column": null,
      "grid_gap": null,
      "grid_row": null,
      "grid_template_areas": null,
      "grid_template_columns": null,
      "grid_template_rows": null,
      "height": null,
      "justify_content": null,
      "justify_items": null,
      "left": null,
      "margin": null,
      "max_height": null,
      "max_width": null,
      "min_height": null,
      "min_width": null,
      "object_fit": null,
      "object_position": null,
      "order": null,
      "overflow": null,
      "overflow_x": null,
      "overflow_y": null,
      "padding": null,
      "right": null,
      "top": null,
      "visibility": null,
      "width": null
     }
    },
    "2e2d9c64c27d439b95a13224858b7113": {
     "model_module": "@jupyter-widgets/controls",
     "model_name": "ProgressStyleModel",
     "state": {
      "_model_module": "@jupyter-widgets/controls",
      "_model_module_version": "1.5.0",
      "_model_name": "ProgressStyleModel",
      "_view_count": null,
      "_view_module": "@jupyter-widgets/base",
      "_view_module_version": "1.2.0",
      "_view_name": "StyleView",
      "bar_color": null,
      "description_width": "initial"
     }
    },
    "343dd596399f4e5a93a98c1e7df6e71f": {
     "model_module": "@jupyter-widgets/base",
     "model_name": "LayoutModel",
     "state": {
      "_model_module": "@jupyter-widgets/base",
      "_model_module_version": "1.2.0",
      "_model_name": "LayoutModel",
      "_view_count": null,
      "_view_module": "@jupyter-widgets/base",
      "_view_module_version": "1.2.0",
      "_view_name": "LayoutView",
      "align_content": null,
      "align_items": null,
      "align_self": null,
      "border": null,
      "bottom": null,
      "display": null,
      "flex": null,
      "flex_flow": null,
      "grid_area": null,
      "grid_auto_columns": null,
      "grid_auto_flow": null,
      "grid_auto_rows": null,
      "grid_column": null,
      "grid_gap": null,
      "grid_row": null,
      "grid_template_areas": null,
      "grid_template_columns": null,
      "grid_template_rows": null,
      "height": null,
      "justify_content": null,
      "justify_items": null,
      "left": null,
      "margin": null,
      "max_height": null,
      "max_width": null,
      "min_height": null,
      "min_width": null,
      "object_fit": null,
      "object_position": null,
      "order": null,
      "overflow": null,
      "overflow_x": null,
      "overflow_y": null,
      "padding": null,
      "right": null,
      "top": null,
      "visibility": null,
      "width": null
     }
    },
    "398429f8d7cd4758baf30a504d5c265c": {
     "model_module": "@jupyter-widgets/controls",
     "model_name": "DescriptionStyleModel",
     "state": {
      "_model_module": "@jupyter-widgets/controls",
      "_model_module_version": "1.5.0",
      "_model_name": "DescriptionStyleModel",
      "_view_count": null,
      "_view_module": "@jupyter-widgets/base",
      "_view_module_version": "1.2.0",
      "_view_name": "StyleView",
      "description_width": ""
     }
    },
    "464d22a8339b44ddb7a885ed2e177b5b": {
     "model_module": "@jupyter-widgets/base",
     "model_name": "LayoutModel",
     "state": {
      "_model_module": "@jupyter-widgets/base",
      "_model_module_version": "1.2.0",
      "_model_name": "LayoutModel",
      "_view_count": null,
      "_view_module": "@jupyter-widgets/base",
      "_view_module_version": "1.2.0",
      "_view_name": "LayoutView",
      "align_content": null,
      "align_items": null,
      "align_self": null,
      "border": null,
      "bottom": null,
      "display": null,
      "flex": null,
      "flex_flow": null,
      "grid_area": null,
      "grid_auto_columns": null,
      "grid_auto_flow": null,
      "grid_auto_rows": null,
      "grid_column": null,
      "grid_gap": null,
      "grid_row": null,
      "grid_template_areas": null,
      "grid_template_columns": null,
      "grid_template_rows": null,
      "height": null,
      "justify_content": null,
      "justify_items": null,
      "left": null,
      "margin": null,
      "max_height": null,
      "max_width": null,
      "min_height": null,
      "min_width": null,
      "object_fit": null,
      "object_position": null,
      "order": null,
      "overflow": null,
      "overflow_x": null,
      "overflow_y": null,
      "padding": null,
      "right": null,
      "top": null,
      "visibility": null,
      "width": null
     }
    },
    "56ee2466ce2348ea887e9c18a68b3596": {
     "model_module": "@jupyter-widgets/base",
     "model_name": "LayoutModel",
     "state": {
      "_model_module": "@jupyter-widgets/base",
      "_model_module_version": "1.2.0",
      "_model_name": "LayoutModel",
      "_view_count": null,
      "_view_module": "@jupyter-widgets/base",
      "_view_module_version": "1.2.0",
      "_view_name": "LayoutView",
      "align_content": null,
      "align_items": null,
      "align_self": null,
      "border": null,
      "bottom": null,
      "display": null,
      "flex": null,
      "flex_flow": null,
      "grid_area": null,
      "grid_auto_columns": null,
      "grid_auto_flow": null,
      "grid_auto_rows": null,
      "grid_column": null,
      "grid_gap": null,
      "grid_row": null,
      "grid_template_areas": null,
      "grid_template_columns": null,
      "grid_template_rows": null,
      "height": null,
      "justify_content": null,
      "justify_items": null,
      "left": null,
      "margin": null,
      "max_height": null,
      "max_width": null,
      "min_height": null,
      "min_width": null,
      "object_fit": null,
      "object_position": null,
      "order": null,
      "overflow": null,
      "overflow_x": null,
      "overflow_y": null,
      "padding": null,
      "right": null,
      "top": null,
      "visibility": null,
      "width": null
     }
    },
    "5b14977045cd4991a28450313d26f4bd": {
     "model_module": "@jupyter-widgets/controls",
     "model_name": "HBoxModel",
     "state": {
      "_dom_classes": [],
      "_model_module": "@jupyter-widgets/controls",
      "_model_module_version": "1.5.0",
      "_model_name": "HBoxModel",
      "_view_count": null,
      "_view_module": "@jupyter-widgets/controls",
      "_view_module_version": "1.5.0",
      "_view_name": "HBoxView",
      "box_style": "",
      "children": [
       "IPY_MODEL_bf645baad2b34321adece6d4a46374e5",
       "IPY_MODEL_7887d3beca3041818ebcf34d25ba408b"
      ],
      "layout": "IPY_MODEL_c96bedd5b18b4d7c9f6ac2c24a1cc5a2"
     }
    },
    "639ccc8298874da5b01d24d1e91ecec1": {
     "model_module": "@jupyter-widgets/controls",
     "model_name": "HTMLModel",
     "state": {
      "_dom_classes": [],
      "_model_module": "@jupyter-widgets/controls",
      "_model_module_version": "1.5.0",
      "_model_name": "HTMLModel",
      "_view_count": null,
      "_view_module": "@jupyter-widgets/controls",
      "_view_module_version": "1.5.0",
      "_view_name": "HTMLView",
      "description": "",
      "description_tooltip": null,
      "layout": "IPY_MODEL_64b6144e490f49389e727da9b12eabf9",
      "placeholder": "​",
      "style": "IPY_MODEL_398429f8d7cd4758baf30a504d5c265c",
      "value": " 3.90k/? [20:36&lt;00:00, 3.15B/s]"
     }
    },
    "64b6144e490f49389e727da9b12eabf9": {
     "model_module": "@jupyter-widgets/base",
     "model_name": "LayoutModel",
     "state": {
      "_model_module": "@jupyter-widgets/base",
      "_model_module_version": "1.2.0",
      "_model_name": "LayoutModel",
      "_view_count": null,
      "_view_module": "@jupyter-widgets/base",
      "_view_module_version": "1.2.0",
      "_view_name": "LayoutView",
      "align_content": null,
      "align_items": null,
      "align_self": null,
      "border": null,
      "bottom": null,
      "display": null,
      "flex": null,
      "flex_flow": null,
      "grid_area": null,
      "grid_auto_columns": null,
      "grid_auto_flow": null,
      "grid_auto_rows": null,
      "grid_column": null,
      "grid_gap": null,
      "grid_row": null,
      "grid_template_areas": null,
      "grid_template_columns": null,
      "grid_template_rows": null,
      "height": null,
      "justify_content": null,
      "justify_items": null,
      "left": null,
      "margin": null,
      "max_height": null,
      "max_width": null,
      "min_height": null,
      "min_width": null,
      "object_fit": null,
      "object_position": null,
      "order": null,
      "overflow": null,
      "overflow_x": null,
      "overflow_y": null,
      "padding": null,
      "right": null,
      "top": null,
      "visibility": null,
      "width": null
     }
    },
    "691bf1ed7dd64cb2ad73933049ce5d45": {
     "model_module": "@jupyter-widgets/controls",
     "model_name": "ProgressStyleModel",
     "state": {
      "_model_module": "@jupyter-widgets/controls",
      "_model_module_version": "1.5.0",
      "_model_name": "ProgressStyleModel",
      "_view_count": null,
      "_view_module": "@jupyter-widgets/base",
      "_view_module_version": "1.2.0",
      "_view_name": "StyleView",
      "bar_color": null,
      "description_width": "initial"
     }
    },
    "755b0428ee9348f0a9201d5adf3a5131": {
     "model_module": "@jupyter-widgets/base",
     "model_name": "LayoutModel",
     "state": {
      "_model_module": "@jupyter-widgets/base",
      "_model_module_version": "1.2.0",
      "_model_name": "LayoutModel",
      "_view_count": null,
      "_view_module": "@jupyter-widgets/base",
      "_view_module_version": "1.2.0",
      "_view_name": "LayoutView",
      "align_content": null,
      "align_items": null,
      "align_self": null,
      "border": null,
      "bottom": null,
      "display": null,
      "flex": null,
      "flex_flow": null,
      "grid_area": null,
      "grid_auto_columns": null,
      "grid_auto_flow": null,
      "grid_auto_rows": null,
      "grid_column": null,
      "grid_gap": null,
      "grid_row": null,
      "grid_template_areas": null,
      "grid_template_columns": null,
      "grid_template_rows": null,
      "height": null,
      "justify_content": null,
      "justify_items": null,
      "left": null,
      "margin": null,
      "max_height": null,
      "max_width": null,
      "min_height": null,
      "min_width": null,
      "object_fit": null,
      "object_position": null,
      "order": null,
      "overflow": null,
      "overflow_x": null,
      "overflow_y": null,
      "padding": null,
      "right": null,
      "top": null,
      "visibility": null,
      "width": null
     }
    },
    "7887d3beca3041818ebcf34d25ba408b": {
     "model_module": "@jupyter-widgets/controls",
     "model_name": "HTMLModel",
     "state": {
      "_dom_classes": [],
      "_model_module": "@jupyter-widgets/controls",
      "_model_module_version": "1.5.0",
      "_model_name": "HTMLModel",
      "_view_count": null,
      "_view_module": "@jupyter-widgets/controls",
      "_view_module_version": "1.5.0",
      "_view_name": "HTMLView",
      "description": "",
      "description_tooltip": null,
      "layout": "IPY_MODEL_80f31ad880a64a2abac86f4e89c9ce77",
      "placeholder": "​",
      "style": "IPY_MODEL_92bb5081a6d5456abb02236c590759eb",
      "value": " 85.0/85.0 [00:00&lt;00:00, 347B/s]"
     }
    },
    "80f31ad880a64a2abac86f4e89c9ce77": {
     "model_module": "@jupyter-widgets/base",
     "model_name": "LayoutModel",
     "state": {
      "_model_module": "@jupyter-widgets/base",
      "_model_module_version": "1.2.0",
      "_model_name": "LayoutModel",
      "_view_count": null,
      "_view_module": "@jupyter-widgets/base",
      "_view_module_version": "1.2.0",
      "_view_name": "LayoutView",
      "align_content": null,
      "align_items": null,
      "align_self": null,
      "border": null,
      "bottom": null,
      "display": null,
      "flex": null,
      "flex_flow": null,
      "grid_area": null,
      "grid_auto_columns": null,
      "grid_auto_flow": null,
      "grid_auto_rows": null,
      "grid_column": null,
      "grid_gap": null,
      "grid_row": null,
      "grid_template_areas": null,
      "grid_template_columns": null,
      "grid_template_rows": null,
      "height": null,
      "justify_content": null,
      "justify_items": null,
      "left": null,
      "margin": null,
      "max_height": null,
      "max_width": null,
      "min_height": null,
      "min_width": null,
      "object_fit": null,
      "object_position": null,
      "order": null,
      "overflow": null,
      "overflow_x": null,
      "overflow_y": null,
      "padding": null,
      "right": null,
      "top": null,
      "visibility": null,
      "width": null
     }
    },
    "86334990f62b4fe0998d5610b021fe7c": {
     "model_module": "@jupyter-widgets/controls",
     "model_name": "DescriptionStyleModel",
     "state": {
      "_model_module": "@jupyter-widgets/controls",
      "_model_module_version": "1.5.0",
      "_model_name": "DescriptionStyleModel",
      "_view_count": null,
      "_view_module": "@jupyter-widgets/base",
      "_view_module_version": "1.2.0",
      "_view_name": "StyleView",
      "description_width": ""
     }
    },
    "8fbbb39454364a2eaa46d2d307d290b1": {
     "model_module": "@jupyter-widgets/base",
     "model_name": "LayoutModel",
     "state": {
      "_model_module": "@jupyter-widgets/base",
      "_model_module_version": "1.2.0",
      "_model_name": "LayoutModel",
      "_view_count": null,
      "_view_module": "@jupyter-widgets/base",
      "_view_module_version": "1.2.0",
      "_view_name": "LayoutView",
      "align_content": null,
      "align_items": null,
      "align_self": null,
      "border": null,
      "bottom": null,
      "display": null,
      "flex": null,
      "flex_flow": null,
      "grid_area": null,
      "grid_auto_columns": null,
      "grid_auto_flow": null,
      "grid_auto_rows": null,
      "grid_column": null,
      "grid_gap": null,
      "grid_row": null,
      "grid_template_areas": null,
      "grid_template_columns": null,
      "grid_template_rows": null,
      "height": null,
      "justify_content": null,
      "justify_items": null,
      "left": null,
      "margin": null,
      "max_height": null,
      "max_width": null,
      "min_height": null,
      "min_width": null,
      "object_fit": null,
      "object_position": null,
      "order": null,
      "overflow": null,
      "overflow_x": null,
      "overflow_y": null,
      "padding": null,
      "right": null,
      "top": null,
      "visibility": null,
      "width": null
     }
    },
    "91f1b0bd22c649ffbaea6d89e34c899b": {
     "model_module": "@jupyter-widgets/base",
     "model_name": "LayoutModel",
     "state": {
      "_model_module": "@jupyter-widgets/base",
      "_model_module_version": "1.2.0",
      "_model_name": "LayoutModel",
      "_view_count": null,
      "_view_module": "@jupyter-widgets/base",
      "_view_module_version": "1.2.0",
      "_view_name": "LayoutView",
      "align_content": null,
      "align_items": null,
      "align_self": null,
      "border": null,
      "bottom": null,
      "display": null,
      "flex": null,
      "flex_flow": null,
      "grid_area": null,
      "grid_auto_columns": null,
      "grid_auto_flow": null,
      "grid_auto_rows": null,
      "grid_column": null,
      "grid_gap": null,
      "grid_row": null,
      "grid_template_areas": null,
      "grid_template_columns": null,
      "grid_template_rows": null,
      "height": null,
      "justify_content": null,
      "justify_items": null,
      "left": null,
      "margin": null,
      "max_height": null,
      "max_width": null,
      "min_height": null,
      "min_width": null,
      "object_fit": null,
      "object_position": null,
      "order": null,
      "overflow": null,
      "overflow_x": null,
      "overflow_y": null,
      "padding": null,
      "right": null,
      "top": null,
      "visibility": null,
      "width": null
     }
    },
    "92bb5081a6d5456abb02236c590759eb": {
     "model_module": "@jupyter-widgets/controls",
     "model_name": "DescriptionStyleModel",
     "state": {
      "_model_module": "@jupyter-widgets/controls",
      "_model_module_version": "1.5.0",
      "_model_name": "DescriptionStyleModel",
      "_view_count": null,
      "_view_module": "@jupyter-widgets/base",
      "_view_module_version": "1.2.0",
      "_view_name": "StyleView",
      "description_width": ""
     }
    },
    "a72b92aa1fd846969d4dcdccde11a646": {
     "model_module": "@jupyter-widgets/controls",
     "model_name": "HTMLModel",
     "state": {
      "_dom_classes": [],
      "_model_module": "@jupyter-widgets/controls",
      "_model_module_version": "1.5.0",
      "_model_name": "HTMLModel",
      "_view_count": null,
      "_view_module": "@jupyter-widgets/controls",
      "_view_module_version": "1.5.0",
      "_view_name": "HTMLView",
      "description": "",
      "description_tooltip": null,
      "layout": "IPY_MODEL_343dd596399f4e5a93a98c1e7df6e71f",
      "placeholder": "​",
      "style": "IPY_MODEL_207d2f0e56fd43f998cb719c5426e923",
      "value": " 460/460 [00:00&lt;00:00, 5.39kB/s]"
     }
    },
    "bf645baad2b34321adece6d4a46374e5": {
     "model_module": "@jupyter-widgets/controls",
     "model_name": "FloatProgressModel",
     "state": {
      "_dom_classes": [],
      "_model_module": "@jupyter-widgets/controls",
      "_model_module_version": "1.5.0",
      "_model_name": "FloatProgressModel",
      "_view_count": null,
      "_view_module": "@jupyter-widgets/controls",
      "_view_module_version": "1.5.0",
      "_view_name": "ProgressView",
      "bar_style": "success",
      "description": "Downloading: 100%",
      "description_tooltip": null,
      "layout": "IPY_MODEL_464d22a8339b44ddb7a885ed2e177b5b",
      "max": 85,
      "min": 0,
      "orientation": "horizontal",
      "style": "IPY_MODEL_05aa5f9af1db4d409a18eaf0e9fc906e",
      "value": 85
     }
    },
    "bfb62465661e4ac4ad61d0b6aeb44384": {
     "model_module": "@jupyter-widgets/controls",
     "model_name": "FloatProgressModel",
     "state": {
      "_dom_classes": [],
      "_model_module": "@jupyter-widgets/controls",
      "_model_module_version": "1.5.0",
      "_model_name": "FloatProgressModel",
      "_view_count": null,
      "_view_module": "@jupyter-widgets/controls",
      "_view_module_version": "1.5.0",
      "_view_name": "ProgressView",
      "bar_style": "success",
      "description": "Downloading: ",
      "description_tooltip": null,
      "layout": "IPY_MODEL_755b0428ee9348f0a9201d5adf3a5131",
      "max": 1764,
      "min": 0,
      "orientation": "horizontal",
      "style": "IPY_MODEL_691bf1ed7dd64cb2ad73933049ce5d45",
      "value": 1764
     }
    },
    "c0aac4a53090445abf42b67469587e64": {
     "model_module": "@jupyter-widgets/controls",
     "model_name": "HTMLModel",
     "state": {
      "_dom_classes": [],
      "_model_module": "@jupyter-widgets/controls",
      "_model_module_version": "1.5.0",
      "_model_name": "HTMLModel",
      "_view_count": null,
      "_view_module": "@jupyter-widgets/controls",
      "_view_module_version": "1.5.0",
      "_view_name": "HTMLView",
      "description": "",
      "description_tooltip": null,
      "layout": "IPY_MODEL_8fbbb39454364a2eaa46d2d307d290b1",
      "placeholder": "​",
      "style": "IPY_MODEL_86334990f62b4fe0998d5610b021fe7c",
      "value": " 378/378 [00:00&lt;00:00, 1.10kB/s]"
     }
    },
    "c2fd705c51064e4aa4b8a6a7c238576e": {
     "model_module": "@jupyter-widgets/controls",
     "model_name": "FloatProgressModel",
     "state": {
      "_dom_classes": [],
      "_model_module": "@jupyter-widgets/controls",
      "_model_module_version": "1.5.0",
      "_model_name": "FloatProgressModel",
      "_view_count": null,
      "_view_module": "@jupyter-widgets/controls",
      "_view_module_version": "1.5.0",
      "_view_name": "ProgressView",
      "bar_style": "success",
      "description": "Downloading: 100%",
      "description_tooltip": null,
      "layout": "IPY_MODEL_28cb380a64f8422981bdb85e00f296e0",
      "max": 378,
      "min": 0,
      "orientation": "horizontal",
      "style": "IPY_MODEL_2e2d9c64c27d439b95a13224858b7113",
      "value": 378
     }
    },
    "c96bedd5b18b4d7c9f6ac2c24a1cc5a2": {
     "model_module": "@jupyter-widgets/base",
     "model_name": "LayoutModel",
     "state": {
      "_model_module": "@jupyter-widgets/base",
      "_model_module_version": "1.2.0",
      "_model_name": "LayoutModel",
      "_view_count": null,
      "_view_module": "@jupyter-widgets/base",
      "_view_module_version": "1.2.0",
      "_view_name": "LayoutView",
      "align_content": null,
      "align_items": null,
      "align_self": null,
      "border": null,
      "bottom": null,
      "display": null,
      "flex": null,
      "flex_flow": null,
      "grid_area": null,
      "grid_auto_columns": null,
      "grid_auto_flow": null,
      "grid_auto_rows": null,
      "grid_column": null,
      "grid_gap": null,
      "grid_row": null,
      "grid_template_areas": null,
      "grid_template_columns": null,
      "grid_template_rows": null,
      "height": null,
      "justify_content": null,
      "justify_items": null,
      "left": null,
      "margin": null,
      "max_height": null,
      "max_width": null,
      "min_height": null,
      "min_width": null,
      "object_fit": null,
      "object_position": null,
      "order": null,
      "overflow": null,
      "overflow_x": null,
      "overflow_y": null,
      "padding": null,
      "right": null,
      "top": null,
      "visibility": null,
      "width": null
     }
    },
    "dfed9e1237be483db80992d3ae0530e5": {
     "model_module": "@jupyter-widgets/controls",
     "model_name": "ProgressStyleModel",
     "state": {
      "_model_module": "@jupyter-widgets/controls",
      "_model_module_version": "1.5.0",
      "_model_name": "ProgressStyleModel",
      "_view_count": null,
      "_view_module": "@jupyter-widgets/base",
      "_view_module_version": "1.2.0",
      "_view_name": "StyleView",
      "bar_color": null,
      "description_width": "initial"
     }
    },
    "f655fd4b0eb4479399b5a28810e1e582": {
     "model_module": "@jupyter-widgets/controls",
     "model_name": "FloatProgressModel",
     "state": {
      "_dom_classes": [],
      "_model_module": "@jupyter-widgets/controls",
      "_model_module_version": "1.5.0",
      "_model_name": "FloatProgressModel",
      "_view_count": null,
      "_view_module": "@jupyter-widgets/controls",
      "_view_module_version": "1.5.0",
      "_view_name": "ProgressView",
      "bar_style": "success",
      "description": "Downloading: 100%",
      "description_tooltip": null,
      "layout": "IPY_MODEL_91f1b0bd22c649ffbaea6d89e34c899b",
      "max": 460,
      "min": 0,
      "orientation": "horizontal",
      "style": "IPY_MODEL_dfed9e1237be483db80992d3ae0530e5",
      "value": 460
     }
    },
    "fa0485a1f0824bb3b8cacea2c4bcdeda": {
     "model_module": "@jupyter-widgets/controls",
     "model_name": "HBoxModel",
     "state": {
      "_dom_classes": [],
      "_model_module": "@jupyter-widgets/controls",
      "_model_module_version": "1.5.0",
      "_model_name": "HBoxModel",
      "_view_count": null,
      "_view_module": "@jupyter-widgets/controls",
      "_view_module_version": "1.5.0",
      "_view_name": "HBoxView",
      "box_style": "",
      "children": [
       "IPY_MODEL_c2fd705c51064e4aa4b8a6a7c238576e",
       "IPY_MODEL_c0aac4a53090445abf42b67469587e64"
      ],
      "layout": "IPY_MODEL_56ee2466ce2348ea887e9c18a68b3596"
     }
    }
   }
  }
 },
 "nbformat": 4,
 "nbformat_minor": 4
}
